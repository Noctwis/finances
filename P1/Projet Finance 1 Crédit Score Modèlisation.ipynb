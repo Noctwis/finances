{
 "cells": [
  {
   "cell_type": "markdown",
   "metadata": {},
   "source": [
    "- [1 : Importer les librairies](#1)\n",
    "- [5 : Identifier la problématique (classification)](#6)\n",
    "- [6 : Appliquer des modèles](#7)\n",
    "- [7 : Trouver le modèle plus pertinent](#8)\n",
    "- - [7-1 : Train_test_split](#8-1)\n",
    "- - [7-2 : Boost du modèle](#8-2)\n",
    "- - [7-3 : GridSearchCV](#8-3)\n",
    "- - [7-4 : Treshold](#8-4)\n",
    "- [8 : Analyser le résultat](#9)"
   ]
  },
  {
   "cell_type": "markdown",
   "metadata": {},
   "source": [
    "## <a id='1'><center><font color=\"INDIANRED\">1) Importer les librairies</font></center></a>"
   ]
  },
  {
   "cell_type": "code",
   "execution_count": 369,
   "metadata": {},
   "outputs": [],
   "source": [
    "#On import les librairies\n",
    "import pandas as pd\n",
    "import seaborn as sns\n",
    "import matplotlib.pyplot as plt\n",
    "import numpy as np\n",
    "\n",
    "from sklearn import metrics, svm\n",
    "from sklearn.model_selection import train_test_split,GridSearchCV, RandomizedSearchCV\n",
    "from sklearn.metrics import mean_squared_error, r2_score,classification_report,confusion_matrix, accuracy_score\n",
    "from sklearn.metrics import precision_score, recall_score, f1_score,precision_recall_curve\n",
    "\n",
    "from sklearn import tree,preprocessing \n",
    "from sklearn.ensemble import RandomForestClassifier, AdaBoostClassifier\n",
    "from sklearn.linear_model import LogisticRegression\n",
    "from sklearn.neighbors import KNeighborsClassifier\n",
    "from sklearn.svm import SVC\n",
    "import xgboost as xgb\n",
    "from xgboost import XGBClassifier\n",
    "\n",
    "from sklearn.model_selection import learning_curve\n",
    "from sklearn.pipeline import make_pipeline\n",
    "from sklearn.feature_selection import SelectKBest, f_classif\n",
    "from sklearn.decomposition import *\n",
    "from sklearn.preprocessing import *\n",
    "\n",
    "import warnings\n",
    "\n",
    "from collections import Counter\n",
    "from imblearn.over_sampling import RandomOverSampler\n",
    "from imblearn.under_sampling import RandomUnderSampler"
   ]
  },
  {
   "cell_type": "code",
   "execution_count": 370,
   "metadata": {},
   "outputs": [],
   "source": [
    "#On ignore les messages rouge d'erreur\n",
    "warnings.filterwarnings('ignore')"
   ]
  },
  {
   "cell_type": "code",
   "execution_count": 371,
   "metadata": {},
   "outputs": [],
   "source": [
    "# import des fichiers de données dans le df\n",
    "df_demise = pd.read_csv(\"data_projet1.csv\") # data réfléchit logiquement"
   ]
  },
  {
   "cell_type": "markdown",
   "metadata": {},
   "source": [
    "## <a id='6'><center><font color=\"INDIANRED\">5) Identifier la problématique (classification)</font></center></a>"
   ]
  },
  {
   "cell_type": "code",
   "execution_count": 372,
   "metadata": {},
   "outputs": [
    {
     "data": {
      "text/html": [
       "<div>\n",
       "<style scoped>\n",
       "    .dataframe tbody tr th:only-of-type {\n",
       "        vertical-align: middle;\n",
       "    }\n",
       "\n",
       "    .dataframe tbody tr th {\n",
       "        vertical-align: top;\n",
       "    }\n",
       "\n",
       "    .dataframe thead th {\n",
       "        text-align: right;\n",
       "    }\n",
       "</style>\n",
       "<table border=\"1\" class=\"dataframe\">\n",
       "  <thead>\n",
       "    <tr style=\"text-align: right;\">\n",
       "      <th></th>\n",
       "      <th>Value</th>\n",
       "      <th>Amount</th>\n",
       "      <th>AmountLoan</th>\n",
       "      <th>IsFinalPayBack</th>\n",
       "      <th>IsThirdPartyConfirmed</th>\n",
       "      <th>IsDefaulted</th>\n",
       "      <th>CustomerId_y</th>\n",
       "      <th>duree_pay</th>\n",
       "      <th>jour_diff</th>\n",
       "      <th>SubscriptionId_SubscriptionId_1</th>\n",
       "      <th>...</th>\n",
       "      <th>ProductCategory_airtime</th>\n",
       "      <th>ProductCategory_data_bundles</th>\n",
       "      <th>ProductCategory_financial_services</th>\n",
       "      <th>ProductCategory_movies</th>\n",
       "      <th>ProductCategory_retail</th>\n",
       "      <th>ProductCategory_tv</th>\n",
       "      <th>ProductCategory_utility_bill</th>\n",
       "      <th>InvestorId_InvestorId_1</th>\n",
       "      <th>InvestorId_InvestorId_2</th>\n",
       "      <th>InvestorId_InvestorId_3</th>\n",
       "    </tr>\n",
       "  </thead>\n",
       "  <tbody>\n",
       "    <tr>\n",
       "      <th>0</th>\n",
       "      <td>10000.0</td>\n",
       "      <td>-10000.0</td>\n",
       "      <td>10016.0</td>\n",
       "      <td>1.0</td>\n",
       "      <td>0.0</td>\n",
       "      <td>0.0</td>\n",
       "      <td>17</td>\n",
       "      <td>4.0</td>\n",
       "      <td>26.0</td>\n",
       "      <td>0</td>\n",
       "      <td>...</td>\n",
       "      <td>1</td>\n",
       "      <td>0</td>\n",
       "      <td>0</td>\n",
       "      <td>0</td>\n",
       "      <td>0</td>\n",
       "      <td>0</td>\n",
       "      <td>0</td>\n",
       "      <td>0</td>\n",
       "      <td>0</td>\n",
       "      <td>1</td>\n",
       "    </tr>\n",
       "    <tr>\n",
       "      <th>1</th>\n",
       "      <td>10000.0</td>\n",
       "      <td>-10000.0</td>\n",
       "      <td>584.0</td>\n",
       "      <td>1.0</td>\n",
       "      <td>0.0</td>\n",
       "      <td>0.0</td>\n",
       "      <td>17</td>\n",
       "      <td>5.0</td>\n",
       "      <td>25.0</td>\n",
       "      <td>0</td>\n",
       "      <td>...</td>\n",
       "      <td>1</td>\n",
       "      <td>0</td>\n",
       "      <td>0</td>\n",
       "      <td>0</td>\n",
       "      <td>0</td>\n",
       "      <td>0</td>\n",
       "      <td>0</td>\n",
       "      <td>0</td>\n",
       "      <td>0</td>\n",
       "      <td>1</td>\n",
       "    </tr>\n",
       "    <tr>\n",
       "      <th>2</th>\n",
       "      <td>10000.0</td>\n",
       "      <td>-10000.0</td>\n",
       "      <td>100.0</td>\n",
       "      <td>1.0</td>\n",
       "      <td>0.0</td>\n",
       "      <td>0.0</td>\n",
       "      <td>17</td>\n",
       "      <td>7.0</td>\n",
       "      <td>23.0</td>\n",
       "      <td>0</td>\n",
       "      <td>...</td>\n",
       "      <td>1</td>\n",
       "      <td>0</td>\n",
       "      <td>0</td>\n",
       "      <td>0</td>\n",
       "      <td>0</td>\n",
       "      <td>0</td>\n",
       "      <td>0</td>\n",
       "      <td>0</td>\n",
       "      <td>0</td>\n",
       "      <td>1</td>\n",
       "    </tr>\n",
       "    <tr>\n",
       "      <th>3</th>\n",
       "      <td>10000.0</td>\n",
       "      <td>-10000.0</td>\n",
       "      <td>11100.0</td>\n",
       "      <td>1.0</td>\n",
       "      <td>1.0</td>\n",
       "      <td>0.0</td>\n",
       "      <td>17</td>\n",
       "      <td>15.0</td>\n",
       "      <td>15.0</td>\n",
       "      <td>1</td>\n",
       "      <td>...</td>\n",
       "      <td>1</td>\n",
       "      <td>0</td>\n",
       "      <td>0</td>\n",
       "      <td>0</td>\n",
       "      <td>0</td>\n",
       "      <td>0</td>\n",
       "      <td>0</td>\n",
       "      <td>0</td>\n",
       "      <td>1</td>\n",
       "      <td>0</td>\n",
       "    </tr>\n",
       "    <tr>\n",
       "      <th>4</th>\n",
       "      <td>10000.0</td>\n",
       "      <td>-10000.0</td>\n",
       "      <td>10700.0</td>\n",
       "      <td>1.0</td>\n",
       "      <td>1.0</td>\n",
       "      <td>0.0</td>\n",
       "      <td>17</td>\n",
       "      <td>7.0</td>\n",
       "      <td>23.0</td>\n",
       "      <td>1</td>\n",
       "      <td>...</td>\n",
       "      <td>1</td>\n",
       "      <td>0</td>\n",
       "      <td>0</td>\n",
       "      <td>0</td>\n",
       "      <td>0</td>\n",
       "      <td>0</td>\n",
       "      <td>0</td>\n",
       "      <td>0</td>\n",
       "      <td>1</td>\n",
       "      <td>0</td>\n",
       "    </tr>\n",
       "    <tr>\n",
       "      <th>...</th>\n",
       "      <td>...</td>\n",
       "      <td>...</td>\n",
       "      <td>...</td>\n",
       "      <td>...</td>\n",
       "      <td>...</td>\n",
       "      <td>...</td>\n",
       "      <td>...</td>\n",
       "      <td>...</td>\n",
       "      <td>...</td>\n",
       "      <td>...</td>\n",
       "      <td>...</td>\n",
       "      <td>...</td>\n",
       "      <td>...</td>\n",
       "      <td>...</td>\n",
       "      <td>...</td>\n",
       "      <td>...</td>\n",
       "      <td>...</td>\n",
       "      <td>...</td>\n",
       "      <td>...</td>\n",
       "      <td>...</td>\n",
       "      <td>...</td>\n",
       "    </tr>\n",
       "    <tr>\n",
       "      <th>1483</th>\n",
       "      <td>5000.0</td>\n",
       "      <td>-5000.0</td>\n",
       "      <td>5200.0</td>\n",
       "      <td>1.0</td>\n",
       "      <td>1.0</td>\n",
       "      <td>0.0</td>\n",
       "      <td>1</td>\n",
       "      <td>0.0</td>\n",
       "      <td>30.0</td>\n",
       "      <td>0</td>\n",
       "      <td>...</td>\n",
       "      <td>1</td>\n",
       "      <td>0</td>\n",
       "      <td>0</td>\n",
       "      <td>0</td>\n",
       "      <td>0</td>\n",
       "      <td>0</td>\n",
       "      <td>0</td>\n",
       "      <td>1</td>\n",
       "      <td>0</td>\n",
       "      <td>0</td>\n",
       "    </tr>\n",
       "    <tr>\n",
       "      <th>1484</th>\n",
       "      <td>2500.0</td>\n",
       "      <td>-2500.0</td>\n",
       "      <td>2850.0</td>\n",
       "      <td>1.0</td>\n",
       "      <td>1.0</td>\n",
       "      <td>0.0</td>\n",
       "      <td>1</td>\n",
       "      <td>21.0</td>\n",
       "      <td>9.0</td>\n",
       "      <td>0</td>\n",
       "      <td>...</td>\n",
       "      <td>1</td>\n",
       "      <td>0</td>\n",
       "      <td>0</td>\n",
       "      <td>0</td>\n",
       "      <td>0</td>\n",
       "      <td>0</td>\n",
       "      <td>0</td>\n",
       "      <td>1</td>\n",
       "      <td>0</td>\n",
       "      <td>0</td>\n",
       "    </tr>\n",
       "    <tr>\n",
       "      <th>1485</th>\n",
       "      <td>3500.0</td>\n",
       "      <td>-3500.0</td>\n",
       "      <td>3763.0</td>\n",
       "      <td>1.0</td>\n",
       "      <td>1.0</td>\n",
       "      <td>0.0</td>\n",
       "      <td>1</td>\n",
       "      <td>8.0</td>\n",
       "      <td>22.0</td>\n",
       "      <td>0</td>\n",
       "      <td>...</td>\n",
       "      <td>0</td>\n",
       "      <td>0</td>\n",
       "      <td>0</td>\n",
       "      <td>0</td>\n",
       "      <td>0</td>\n",
       "      <td>1</td>\n",
       "      <td>0</td>\n",
       "      <td>1</td>\n",
       "      <td>0</td>\n",
       "      <td>0</td>\n",
       "    </tr>\n",
       "    <tr>\n",
       "      <th>1486</th>\n",
       "      <td>10000.0</td>\n",
       "      <td>-10000.0</td>\n",
       "      <td>10400.0</td>\n",
       "      <td>1.0</td>\n",
       "      <td>1.0</td>\n",
       "      <td>0.0</td>\n",
       "      <td>1</td>\n",
       "      <td>0.0</td>\n",
       "      <td>30.0</td>\n",
       "      <td>1</td>\n",
       "      <td>...</td>\n",
       "      <td>1</td>\n",
       "      <td>0</td>\n",
       "      <td>0</td>\n",
       "      <td>0</td>\n",
       "      <td>0</td>\n",
       "      <td>0</td>\n",
       "      <td>0</td>\n",
       "      <td>0</td>\n",
       "      <td>1</td>\n",
       "      <td>0</td>\n",
       "    </tr>\n",
       "    <tr>\n",
       "      <th>1487</th>\n",
       "      <td>500.0</td>\n",
       "      <td>-500.0</td>\n",
       "      <td>520.0</td>\n",
       "      <td>1.0</td>\n",
       "      <td>1.0</td>\n",
       "      <td>0.0</td>\n",
       "      <td>1</td>\n",
       "      <td>0.0</td>\n",
       "      <td>30.0</td>\n",
       "      <td>0</td>\n",
       "      <td>...</td>\n",
       "      <td>0</td>\n",
       "      <td>1</td>\n",
       "      <td>0</td>\n",
       "      <td>0</td>\n",
       "      <td>0</td>\n",
       "      <td>0</td>\n",
       "      <td>0</td>\n",
       "      <td>1</td>\n",
       "      <td>0</td>\n",
       "      <td>0</td>\n",
       "    </tr>\n",
       "  </tbody>\n",
       "</table>\n",
       "<p>1488 rows × 39 columns</p>\n",
       "</div>"
      ],
      "text/plain": [
       "        Value   Amount  AmountLoan  IsFinalPayBack  IsThirdPartyConfirmed  \\\n",
       "0     10000.0 -10000.0     10016.0             1.0                    0.0   \n",
       "1     10000.0 -10000.0       584.0             1.0                    0.0   \n",
       "2     10000.0 -10000.0       100.0             1.0                    0.0   \n",
       "3     10000.0 -10000.0     11100.0             1.0                    1.0   \n",
       "4     10000.0 -10000.0     10700.0             1.0                    1.0   \n",
       "...       ...      ...         ...             ...                    ...   \n",
       "1483   5000.0  -5000.0      5200.0             1.0                    1.0   \n",
       "1484   2500.0  -2500.0      2850.0             1.0                    1.0   \n",
       "1485   3500.0  -3500.0      3763.0             1.0                    1.0   \n",
       "1486  10000.0 -10000.0     10400.0             1.0                    1.0   \n",
       "1487    500.0   -500.0       520.0             1.0                    1.0   \n",
       "\n",
       "      IsDefaulted  CustomerId_y  duree_pay  jour_diff  \\\n",
       "0             0.0            17        4.0       26.0   \n",
       "1             0.0            17        5.0       25.0   \n",
       "2             0.0            17        7.0       23.0   \n",
       "3             0.0            17       15.0       15.0   \n",
       "4             0.0            17        7.0       23.0   \n",
       "...           ...           ...        ...        ...   \n",
       "1483          0.0             1        0.0       30.0   \n",
       "1484          0.0             1       21.0        9.0   \n",
       "1485          0.0             1        8.0       22.0   \n",
       "1486          0.0             1        0.0       30.0   \n",
       "1487          0.0             1        0.0       30.0   \n",
       "\n",
       "      SubscriptionId_SubscriptionId_1  ...  ProductCategory_airtime  \\\n",
       "0                                   0  ...                        1   \n",
       "1                                   0  ...                        1   \n",
       "2                                   0  ...                        1   \n",
       "3                                   1  ...                        1   \n",
       "4                                   1  ...                        1   \n",
       "...                               ...  ...                      ...   \n",
       "1483                                0  ...                        1   \n",
       "1484                                0  ...                        1   \n",
       "1485                                0  ...                        0   \n",
       "1486                                1  ...                        1   \n",
       "1487                                0  ...                        0   \n",
       "\n",
       "      ProductCategory_data_bundles  ProductCategory_financial_services  \\\n",
       "0                                0                                   0   \n",
       "1                                0                                   0   \n",
       "2                                0                                   0   \n",
       "3                                0                                   0   \n",
       "4                                0                                   0   \n",
       "...                            ...                                 ...   \n",
       "1483                             0                                   0   \n",
       "1484                             0                                   0   \n",
       "1485                             0                                   0   \n",
       "1486                             0                                   0   \n",
       "1487                             1                                   0   \n",
       "\n",
       "      ProductCategory_movies  ProductCategory_retail  ProductCategory_tv  \\\n",
       "0                          0                       0                   0   \n",
       "1                          0                       0                   0   \n",
       "2                          0                       0                   0   \n",
       "3                          0                       0                   0   \n",
       "4                          0                       0                   0   \n",
       "...                      ...                     ...                 ...   \n",
       "1483                       0                       0                   0   \n",
       "1484                       0                       0                   0   \n",
       "1485                       0                       0                   1   \n",
       "1486                       0                       0                   0   \n",
       "1487                       0                       0                   0   \n",
       "\n",
       "      ProductCategory_utility_bill  InvestorId_InvestorId_1  \\\n",
       "0                                0                        0   \n",
       "1                                0                        0   \n",
       "2                                0                        0   \n",
       "3                                0                        0   \n",
       "4                                0                        0   \n",
       "...                            ...                      ...   \n",
       "1483                             0                        1   \n",
       "1484                             0                        1   \n",
       "1485                             0                        1   \n",
       "1486                             0                        0   \n",
       "1487                             0                        1   \n",
       "\n",
       "      InvestorId_InvestorId_2  InvestorId_InvestorId_3  \n",
       "0                           0                        1  \n",
       "1                           0                        1  \n",
       "2                           0                        1  \n",
       "3                           1                        0  \n",
       "4                           1                        0  \n",
       "...                       ...                      ...  \n",
       "1483                        0                        0  \n",
       "1484                        0                        0  \n",
       "1485                        0                        0  \n",
       "1486                        1                        0  \n",
       "1487                        0                        0  \n",
       "\n",
       "[1488 rows x 39 columns]"
      ]
     },
     "execution_count": 372,
     "metadata": {},
     "output_type": "execute_result"
    }
   ],
   "source": [
    "df_demise"
   ]
  },
  {
   "cell_type": "markdown",
   "metadata": {},
   "source": [
    "On esseye de trouver les bons payeurs et les mauvais payeurs, on se fixe un score de 70%, donc on esseye d'avoir un recall des bons payeurs bien, et une précision des mauvais payeurs bien"
   ]
  },
  {
   "cell_type": "markdown",
   "metadata": {},
   "source": [
    "## <a id='7'><center><font color=\"INDIANRED\">6) Appliquer des modèles</font></center></a>"
   ]
  },
  {
   "cell_type": "code",
   "execution_count": 373,
   "metadata": {},
   "outputs": [],
   "source": [
    "X = df_demise.drop(\"IsDefaulted\", axis=1)\n",
    "y = df_demise[\"IsDefaulted\"]"
   ]
  },
  {
   "cell_type": "markdown",
   "metadata": {},
   "source": [
    "## <a id='8'><center><font color=\"INDIANRED\">7) Trouver le modèle plus pertinent</font></center></a>"
   ]
  },
  {
   "cell_type": "markdown",
   "metadata": {},
   "source": [
    "### <a id='8-1'><center><font color=\"steelblue\">7-1) Train_test_split</font></center></a>"
   ]
  },
  {
   "cell_type": "markdown",
   "metadata": {},
   "source": [
    "On sépare les données d'entrainement et de test à hauteur de 80% d'entrainement et 20 % de test"
   ]
  },
  {
   "cell_type": "code",
   "execution_count": 374,
   "metadata": {},
   "outputs": [],
   "source": [
    "#df_target1 = df_demise[df_demise[\"IsDefaulted\"] == 1.0]\n",
    "#df_target1"
   ]
  },
  {
   "cell_type": "code",
   "execution_count": null,
   "metadata": {},
   "outputs": [],
   "source": []
  },
  {
   "cell_type": "code",
   "execution_count": 375,
   "metadata": {},
   "outputs": [],
   "source": [
    "#df_target0 = df_demise[df_demise[\"IsDefaulted\"] == 0.0]\n",
    "#df_target0"
   ]
  },
  {
   "cell_type": "code",
   "execution_count": 376,
   "metadata": {},
   "outputs": [],
   "source": [
    "#X_0 = df_target0.drop(\"IsDefaulted\", axis=1)\n",
    "#y_0 = df_target0[\"IsDefaulted\"]\n",
    "#X_1 = df_target1.drop(\"IsDefaulted\", axis=1)\n",
    "#y_1 = df_target1[\"IsDefaulted\"]"
   ]
  },
  {
   "cell_type": "code",
   "execution_count": 377,
   "metadata": {},
   "outputs": [],
   "source": [
    "#X_train0, X_test0, y_train0, y_test0 = train_test_split(X_0, y_0, test_size = 0.2, random_state = 0)\n",
    "#X_train1, X_test1, y_train1, y_test1 = train_test_split(X_1, y_1, test_size = 0.2, random_state = 0)"
   ]
  },
  {
   "cell_type": "code",
   "execution_count": 378,
   "metadata": {},
   "outputs": [],
   "source": [
    "#split = int(target1.shape[0] * 0.8)\n",
    "#split"
   ]
  },
  {
   "cell_type": "code",
   "execution_count": 379,
   "metadata": {},
   "outputs": [],
   "source": [
    "#y_train1.value_counts()"
   ]
  },
  {
   "cell_type": "code",
   "execution_count": 380,
   "metadata": {},
   "outputs": [],
   "source": [
    "#X_train = pd.concat([X_train0, X_train1])\n",
    "#X_test = pd.concat([X_test0, X_test1])\n",
    "#y_train = pd.concat([y_train0, y_train1])\n",
    "#y_test = pd.concat([y_test0, y_test1])"
   ]
  },
  {
   "cell_type": "raw",
   "metadata": {},
   "source": [
    "Toutes les cellules en texte brut qui suivent est un test pour faire le split ci-dessus automatiquement"
   ]
  },
  {
   "cell_type": "raw",
   "metadata": {},
   "source": [
    "def group_target(df):\n",
    "    value_count = df.IsDefaulted.value_counts().reset_index()\n",
    "    df_by_target = df.set_index('IsDefaulted')\n",
    "    df_s = [df_by_target.loc[value_count[value_count.IsDefaulted == count]['index']] for count in value_count.IsDefaulted.unique()]\n",
    "    return df_s"
   ]
  },
  {
   "cell_type": "raw",
   "metadata": {},
   "source": [
    "dfsplit = group_target(df_demise)\n",
    "dfsplit"
   ]
  },
  {
   "cell_type": "raw",
   "metadata": {},
   "source": [
    "def split_tkt(df_targetgroup, test_size=0.2):\n",
    "    target = df_targetgroup.index.unique()\n",
    "    train_target, test_target = train_test_split(target, test_size=test_size)\n",
    "    train_df, test_df = df_targetgroup.loc[train_target], df_targetgroup.loc[test_target]\n",
    "    return train_df, test_df"
   ]
  },
  {
   "cell_type": "raw",
   "metadata": {},
   "source": [
    "rod = split_tkt(df_demise)\n",
    "rod"
   ]
  },
  {
   "cell_type": "raw",
   "metadata": {},
   "source": [
    "def get_sized_splits(df_s, test_size):\n",
    "    train_splits, test_splits = zip(*[split_tkt(df_demise, test_size) for df_targetgroup in df_s])\n",
    "    return train_splits, test_splits"
   ]
  },
  {
   "cell_type": "raw",
   "metadata": {},
   "source": [
    "get_sized_splits(df_demise,0.2)"
   ]
  },
  {
   "cell_type": "raw",
   "metadata": {},
   "source": [
    "df_s = group_target(df_demise)\n",
    "train_splits, test_splits = get_sized_splits(df_s, 0.2)\n",
    "train_splits, test_splits"
   ]
  },
  {
   "cell_type": "raw",
   "metadata": {},
   "source": [
    "def split(df, test_size):\n",
    "    df_s = group_target(df)\n",
    "    train_splits, test_splits = get_sized_splits(df_s, test_size=test_size)\n",
    "    return pd.concat(train_splits), pd.concat(test_splits)\n",
    "\n",
    "splitdf = split(df_demise, 0.2)"
   ]
  },
  {
   "cell_type": "raw",
   "metadata": {},
   "source": [
    "splitdf"
   ]
  },
  {
   "cell_type": "raw",
   "metadata": {},
   "source": [
    "df_split = splitdf[0]\n",
    "df_split"
   ]
  },
  {
   "cell_type": "raw",
   "metadata": {},
   "source": [
    "df_split[\"IsDefaulted\"].value_counts()"
   ]
  },
  {
   "cell_type": "code",
   "execution_count": 381,
   "metadata": {},
   "outputs": [],
   "source": [
    "X_train, X_test, y_train, y_test = train_test_split(X, y, test_size = 0.2, random_state = 0)"
   ]
  },
  {
   "cell_type": "code",
   "execution_count": 382,
   "metadata": {},
   "outputs": [],
   "source": [
    "#ros = RandomOverSampler()\n",
    "#X_train, y_train = ros.fit_sample(X_train, y_train)\n",
    "#print('Resampled dataset shape %s' % Counter(X_train))\n",
    "\n",
    "#rus = RandomUnderSampler()\n",
    "#X_train, y_train = rus.fit_resample(X_train, y_train)\n",
    "#print('Resampled dataset shape %s' % Counter(X_train))"
   ]
  },
  {
   "cell_type": "markdown",
   "metadata": {},
   "source": [
    "### <a id='8-2'><center><font color=\"steelblue\">7-2) Boost du modèle</font></center></a>"
   ]
  },
  {
   "cell_type": "code",
   "execution_count": 383,
   "metadata": {},
   "outputs": [],
   "source": [
    "def evaluate(model):\n",
    "    #On entraine le modèle\n",
    "    model.fit(X_train,y_train)\n",
    "    #On fait les prédictions\n",
    "    pred = model.predict(X_test)\n",
    "    \n",
    "    #on affiche la matrice de confusion\n",
    "    print(confusion_matrix(y_test,pred))\n",
    "    #On affiche toute les valeurs de metrics pour la classification\n",
    "    print(classification_report(y_test,pred))\n",
    "    \n",
    "    #Learning curve avec cross validation de 4\n",
    "    N, train_score,val_score = learning_curve(model, X_train, y_train, cv = 4, train_sizes = np.linspace(0.1,1,10), scoring = 'accuracy')\n",
    "    \n",
    "    #on l'affiche dans un plot\n",
    "    plt.figure(figsize=(12,8))\n",
    "    plt.plot(N, train_score.mean(axis=1),label='train_score')\n",
    "    plt.plot(N, val_score.mean(axis=1),label='val_score')\n",
    "    plt.title(f'{name}')\n",
    "    plt.legend()\n",
    "    plt.show()\n",
    "    \n",
    "    print(\"\\n____________________________________________________________________________________\\n\")"
   ]
  },
  {
   "cell_type": "code",
   "execution_count": 384,
   "metadata": {},
   "outputs": [],
   "source": [
    "#On créer une pipeline, avec 2 polynomial, un test anova sur le Kbest et avec une séléction de 4 features\n",
    "#mettre dans l'estimateur dans un seul processe, make_pipeline mettre les séquence que l'on  va appliquer\n",
    "Pipe = make_pipeline(PolynomialFeatures(2,include_bias=False),SelectKBest(f_classif,k=4))"
   ]
  },
  {
   "cell_type": "code",
   "execution_count": 385,
   "metadata": {},
   "outputs": [],
   "source": [
    "#On définit les modèles\n",
    "random_forest_classifier = make_pipeline(Pipe,StandardScaler(), RandomForestClassifier(random_state=0))\n",
    "adaboost = make_pipeline(Pipe, AdaBoostClassifier(random_state=0))\n",
    "SVM = make_pipeline(Pipe,StandardScaler(),SVC(random_state=0))\n",
    "KNN = make_pipeline(Pipe,StandardScaler(),KNeighborsClassifier())\n",
    "regressionlogistique = make_pipeline(Pipe, LogisticRegression(solver = 'liblinear'))\n",
    "dtree = make_pipeline(Pipe, tree.DecisionTreeClassifier(criterion = 'gini', random_state = 0))\n",
    "XGboostcla = make_pipeline(Pipe,xgb.XGBClassifier())"
   ]
  },
  {
   "cell_type": "code",
   "execution_count": 386,
   "metadata": {},
   "outputs": [],
   "source": [
    "models_pipe = { 'random_forest_classifier' : random_forest_classifier,\n",
    "               'adaboost' : adaboost,\n",
    "               'SVM' : SVM,\n",
    "               'KNN' : KNN,\n",
    "               'regressionlogistique' : regressionlogistique,\n",
    "               'dtree' : dtree,\n",
    "               'XGboostcla' : XGboostcla}"
   ]
  },
  {
   "cell_type": "code",
   "execution_count": 387,
   "metadata": {
    "scrolled": false
   },
   "outputs": [
    {
     "name": "stdout",
     "output_type": "stream",
     "text": [
      "random_forest_classifier\n",
      "[[249  13]\n",
      " [  7  29]]\n",
      "              precision    recall  f1-score   support\n",
      "\n",
      "         0.0       0.97      0.95      0.96       262\n",
      "         1.0       0.69      0.81      0.74        36\n",
      "\n",
      "    accuracy                           0.93       298\n",
      "   macro avg       0.83      0.88      0.85       298\n",
      "weighted avg       0.94      0.93      0.94       298\n",
      "\n"
     ]
    },
    {
     "data": {
      "image/png": "[encoded data removed]",
      "text/plain": [
       "<Figure size 864x576 with 1 Axes>"
      ]
     },
     "metadata": {
      "needs_background": "light"
     },
     "output_type": "display_data"
    },
    {
     "name": "stdout",
     "output_type": "stream",
     "text": [
      "\n",
      "____________________________________________________________________________________\n",
      "\n",
      "adaboost\n",
      "[[249  13]\n",
      " [  7  29]]\n",
      "              precision    recall  f1-score   support\n",
      "\n",
      "         0.0       0.97      0.95      0.96       262\n",
      "         1.0       0.69      0.81      0.74        36\n",
      "\n",
      "    accuracy                           0.93       298\n",
      "   macro avg       0.83      0.88      0.85       298\n",
      "weighted avg       0.94      0.93      0.94       298\n",
      "\n"
     ]
    },
    {
     "data": {
      "image/png": "[encoded data removed]",
      "text/plain": [
       "<Figure size 864x576 with 1 Axes>"
      ]
     },
     "metadata": {
      "needs_background": "light"
     },
     "output_type": "display_data"
    },
    {
     "name": "stdout",
     "output_type": "stream",
     "text": [
      "\n",
      "____________________________________________________________________________________\n",
      "\n",
      "SVM\n",
      "[[249  13]\n",
      " [  7  29]]\n",
      "              precision    recall  f1-score   support\n",
      "\n",
      "         0.0       0.97      0.95      0.96       262\n",
      "         1.0       0.69      0.81      0.74        36\n",
      "\n",
      "    accuracy                           0.93       298\n",
      "   macro avg       0.83      0.88      0.85       298\n",
      "weighted avg       0.94      0.93      0.94       298\n",
      "\n"
     ]
    },
    {
     "data": {
      "image/png": "[encoded data removed]",
      "text/plain": [
       "<Figure size 864x576 with 1 Axes>"
      ]
     },
     "metadata": {
      "needs_background": "light"
     },
     "output_type": "display_data"
    },
    {
     "name": "stdout",
     "output_type": "stream",
     "text": [
      "\n",
      "____________________________________________________________________________________\n",
      "\n",
      "KNN\n",
      "[[249  13]\n",
      " [  7  29]]\n",
      "              precision    recall  f1-score   support\n",
      "\n",
      "         0.0       0.97      0.95      0.96       262\n",
      "         1.0       0.69      0.81      0.74        36\n",
      "\n",
      "    accuracy                           0.93       298\n",
      "   macro avg       0.83      0.88      0.85       298\n",
      "weighted avg       0.94      0.93      0.94       298\n",
      "\n"
     ]
    },
    {
     "data": {
      "image/png": "[encoded data removed]",
      "text/plain": [
       "<Figure size 864x576 with 1 Axes>"
      ]
     },
     "metadata": {
      "needs_background": "light"
     },
     "output_type": "display_data"
    },
    {
     "name": "stdout",
     "output_type": "stream",
     "text": [
      "\n",
      "____________________________________________________________________________________\n",
      "\n",
      "regressionlogistique\n",
      "[[249  13]\n",
      " [  7  29]]\n",
      "              precision    recall  f1-score   support\n",
      "\n",
      "         0.0       0.97      0.95      0.96       262\n",
      "         1.0       0.69      0.81      0.74        36\n",
      "\n",
      "    accuracy                           0.93       298\n",
      "   macro avg       0.83      0.88      0.85       298\n",
      "weighted avg       0.94      0.93      0.94       298\n",
      "\n"
     ]
    },
    {
     "data": {
      "image/png": "[encoded data removed]",
      "text/plain": [
       "<Figure size 864x576 with 1 Axes>"
      ]
     },
     "metadata": {
      "needs_background": "light"
     },
     "output_type": "display_data"
    },
    {
     "name": "stdout",
     "output_type": "stream",
     "text": [
      "\n",
      "____________________________________________________________________________________\n",
      "\n",
      "dtree\n",
      "[[249  13]\n",
      " [  7  29]]\n",
      "              precision    recall  f1-score   support\n",
      "\n",
      "         0.0       0.97      0.95      0.96       262\n",
      "         1.0       0.69      0.81      0.74        36\n",
      "\n",
      "    accuracy                           0.93       298\n",
      "   macro avg       0.83      0.88      0.85       298\n",
      "weighted avg       0.94      0.93      0.94       298\n",
      "\n"
     ]
    },
    {
     "data": {
      "image/png": "[encoded data removed]",
      "text/plain": [
       "<Figure size 864x576 with 1 Axes>"
      ]
     },
     "metadata": {
      "needs_background": "light"
     },
     "output_type": "display_data"
    },
    {
     "name": "stdout",
     "output_type": "stream",
     "text": [
      "\n",
      "____________________________________________________________________________________\n",
      "\n",
      "XGboostcla\n",
      "[[249  13]\n",
      " [  7  29]]\n",
      "              precision    recall  f1-score   support\n",
      "\n",
      "         0.0       0.97      0.95      0.96       262\n",
      "         1.0       0.69      0.81      0.74        36\n",
      "\n",
      "    accuracy                           0.93       298\n",
      "   macro avg       0.83      0.88      0.85       298\n",
      "weighted avg       0.94      0.93      0.94       298\n",
      "\n"
     ]
    },
    {
     "data": {
      "image/png": "[encoded data removed]",
      "text/plain": [
       "<Figure size 864x576 with 1 Axes>"
      ]
     },
     "metadata": {
      "needs_background": "light"
     },
     "output_type": "display_data"
    },
    {
     "name": "stdout",
     "output_type": "stream",
     "text": [
      "\n",
      "____________________________________________________________________________________\n",
      "\n"
     ]
    }
   ],
   "source": [
    "#boucle pour faire les modèles\n",
    "for name,model in models_pipe.items() : \n",
    "    print(name)\n",
    "    evaluate(model)\n"
   ]
  },
  {
   "cell_type": "markdown",
   "metadata": {},
   "source": [
    "### <a id='8-3'><center><font color=\"steelblue\">7-3)Gridsearch</font></center></a>"
   ]
  },
  {
   "cell_type": "code",
   "execution_count": 388,
   "metadata": {},
   "outputs": [
    {
     "data": {
      "text/plain": [
       "{'memory': None,\n",
       " 'steps': [('pipeline',\n",
       "   Pipeline(steps=[('polynomialfeatures', PolynomialFeatures(include_bias=False)),\n",
       "                   ('selectkbest', SelectKBest(k=4))])),\n",
       "  ('standardscaler', StandardScaler()),\n",
       "  ('kneighborsclassifier', KNeighborsClassifier())],\n",
       " 'verbose': False,\n",
       " 'pipeline': Pipeline(steps=[('polynomialfeatures', PolynomialFeatures(include_bias=False)),\n",
       "                 ('selectkbest', SelectKBest(k=4))]),\n",
       " 'standardscaler': StandardScaler(),\n",
       " 'kneighborsclassifier': KNeighborsClassifier(),\n",
       " 'pipeline__memory': None,\n",
       " 'pipeline__steps': [('polynomialfeatures',\n",
       "   PolynomialFeatures(include_bias=False)),\n",
       "  ('selectkbest', SelectKBest(k=4))],\n",
       " 'pipeline__verbose': False,\n",
       " 'pipeline__polynomialfeatures': PolynomialFeatures(include_bias=False),\n",
       " 'pipeline__selectkbest': SelectKBest(k=4),\n",
       " 'pipeline__polynomialfeatures__degree': 2,\n",
       " 'pipeline__polynomialfeatures__include_bias': False,\n",
       " 'pipeline__polynomialfeatures__interaction_only': False,\n",
       " 'pipeline__polynomialfeatures__order': 'C',\n",
       " 'pipeline__selectkbest__k': 4,\n",
       " 'pipeline__selectkbest__score_func': <function sklearn.feature_selection._univariate_selection.f_classif(X, y)>,\n",
       " 'standardscaler__copy': True,\n",
       " 'standardscaler__with_mean': True,\n",
       " 'standardscaler__with_std': True,\n",
       " 'kneighborsclassifier__algorithm': 'auto',\n",
       " 'kneighborsclassifier__leaf_size': 30,\n",
       " 'kneighborsclassifier__metric': 'minkowski',\n",
       " 'kneighborsclassifier__metric_params': None,\n",
       " 'kneighborsclassifier__n_jobs': None,\n",
       " 'kneighborsclassifier__n_neighbors': 5,\n",
       " 'kneighborsclassifier__p': 2,\n",
       " 'kneighborsclassifier__weights': 'uniform'}"
      ]
     },
     "execution_count": 388,
     "metadata": {},
     "output_type": "execute_result"
    }
   ],
   "source": [
    "KNN.get_params()"
   ]
  },
  {
   "cell_type": "markdown",
   "metadata": {},
   "source": [
    "On va esseyé de booster le modèle SVM"
   ]
  },
  {
   "cell_type": "code",
   "execution_count": 389,
   "metadata": {},
   "outputs": [
    {
     "data": {
      "text/plain": [
       "{'memory': None,\n",
       " 'steps': [('pipeline',\n",
       "   Pipeline(steps=[('polynomialfeatures', PolynomialFeatures(include_bias=False)),\n",
       "                   ('selectkbest', SelectKBest(k=4))])),\n",
       "  ('standardscaler', StandardScaler()),\n",
       "  ('svc', SVC(random_state=0))],\n",
       " 'verbose': False,\n",
       " 'pipeline': Pipeline(steps=[('polynomialfeatures', PolynomialFeatures(include_bias=False)),\n",
       "                 ('selectkbest', SelectKBest(k=4))]),\n",
       " 'standardscaler': StandardScaler(),\n",
       " 'svc': SVC(random_state=0),\n",
       " 'pipeline__memory': None,\n",
       " 'pipeline__steps': [('polynomialfeatures',\n",
       "   PolynomialFeatures(include_bias=False)),\n",
       "  ('selectkbest', SelectKBest(k=4))],\n",
       " 'pipeline__verbose': False,\n",
       " 'pipeline__polynomialfeatures': PolynomialFeatures(include_bias=False),\n",
       " 'pipeline__selectkbest': SelectKBest(k=4),\n",
       " 'pipeline__polynomialfeatures__degree': 2,\n",
       " 'pipeline__polynomialfeatures__include_bias': False,\n",
       " 'pipeline__polynomialfeatures__interaction_only': False,\n",
       " 'pipeline__polynomialfeatures__order': 'C',\n",
       " 'pipeline__selectkbest__k': 4,\n",
       " 'pipeline__selectkbest__score_func': <function sklearn.feature_selection._univariate_selection.f_classif(X, y)>,\n",
       " 'standardscaler__copy': True,\n",
       " 'standardscaler__with_mean': True,\n",
       " 'standardscaler__with_std': True,\n",
       " 'svc__C': 1.0,\n",
       " 'svc__break_ties': False,\n",
       " 'svc__cache_size': 200,\n",
       " 'svc__class_weight': None,\n",
       " 'svc__coef0': 0.0,\n",
       " 'svc__decision_function_shape': 'ovr',\n",
       " 'svc__degree': 3,\n",
       " 'svc__gamma': 'scale',\n",
       " 'svc__kernel': 'rbf',\n",
       " 'svc__max_iter': -1,\n",
       " 'svc__probability': False,\n",
       " 'svc__random_state': 0,\n",
       " 'svc__shrinking': True,\n",
       " 'svc__tol': 0.001,\n",
       " 'svc__verbose': False}"
      ]
     },
     "execution_count": 389,
     "metadata": {},
     "output_type": "execute_result"
    }
   ],
   "source": [
    "#On affiche les paramètres du SVM\n",
    "SVM.get_params()"
   ]
  },
  {
   "cell_type": "code",
   "execution_count": 390,
   "metadata": {},
   "outputs": [],
   "source": [
    "#On change le gamma, le C, le nombre de polymonialfeature et le selectKbest\n",
    "params = {'svc__gamma':[1e-3, 1e-4],\n",
    "          'svc__C':[1.0,10.0,100.0,1000.0],\n",
    "          'pipeline__polynomialfeatures__degree':[2,3,4],\n",
    "          'pipeline__selectkbest__k':range(2,17)}"
   ]
  },
  {
   "cell_type": "code",
   "execution_count": 391,
   "metadata": {},
   "outputs": [],
   "source": [
    "paramsKNN = {'kneighborsclassifier__n_neighbors':[2, 3, 4,5,6,7,8,9],\n",
    "          'kneighborsclassifier__p':[1,2],\n",
    "          'pipeline__polynomialfeatures__degree':[2,3,4],\n",
    "          'pipeline__selectkbest__k':range(2,17)}"
   ]
  },
  {
   "cell_type": "markdown",
   "metadata": {},
   "source": [
    "On enleve la recherche de différent kernel, l'ordinateur tourne trop longtemps"
   ]
  },
  {
   "cell_type": "code",
   "execution_count": 392,
   "metadata": {},
   "outputs": [],
   "source": [
    " #        'svc__kernel':['linear', 'poly', 'rbf', 'sigmoid', 'precomputed'],"
   ]
  },
  {
   "cell_type": "markdown",
   "metadata": {},
   "source": [
    "Le machine tourne beaucoup avec gridsearch, du coup on va faire un randomizedsearch"
   ]
  },
  {
   "cell_type": "code",
   "execution_count": 393,
   "metadata": {
    "scrolled": true
   },
   "outputs": [
    {
     "name": "stdout",
     "output_type": "stream",
     "text": [
      "{'svc__gamma': 0.0001, 'svc__C': 100.0, 'pipeline__selectkbest__k': 12, 'pipeline__polynomialfeatures__degree': 4}\n",
      "              precision    recall  f1-score   support\n",
      "\n",
      "         0.0       0.97      0.95      0.96       262\n",
      "         1.0       0.69      0.81      0.74        36\n",
      "\n",
      "    accuracy                           0.93       298\n",
      "   macro avg       0.83      0.88      0.85       298\n",
      "weighted avg       0.94      0.93      0.94       298\n",
      "\n"
     ]
    }
   ],
   "source": [
    "#grid = GridSearchCV(SVM, params,scoring='accuracy',cv=4)\n",
    "grid = RandomizedSearchCV(SVM, params,scoring='accuracy',cv=4,n_iter=10)\n",
    "grid.fit(X_train,y_train)\n",
    "print(grid.best_params_)\n",
    "\n",
    "svm_pred = grid.predict(X_test)\n",
    "\n",
    "print(classification_report(y_test,svm_pred))"
   ]
  },
  {
   "cell_type": "markdown",
   "metadata": {},
   "source": [
    "### <a id='8-4'><center><font color=\"steelblue\">7-4)Treshold</font></center></a>"
   ]
  },
  {
   "cell_type": "code",
   "execution_count": 394,
   "metadata": {},
   "outputs": [],
   "source": [
    "precision,recall,threshold = precision_recall_curve(y_test,grid.best_estimator_.decision_function(X_test))"
   ]
  },
  {
   "cell_type": "code",
   "execution_count": 395,
   "metadata": {
    "scrolled": true
   },
   "outputs": [
    {
     "data": {
      "text/plain": [
       "<matplotlib.legend.Legend at 0x1b808c929c8>"
      ]
     },
     "execution_count": 395,
     "metadata": {},
     "output_type": "execute_result"
    },
    {
     "data": {
      "image/png": "[encoded data removed]",
      "text/plain": [
       "<Figure size 432x288 with 1 Axes>"
      ]
     },
     "metadata": {
      "needs_background": "light"
     },
     "output_type": "display_data"
    }
   ],
   "source": [
    "plt.plot(threshold,precision[:-1], label=\"precision\")\n",
    "plt.plot(threshold,recall[:-1], label=\"recall\")\n",
    "plt.legend()"
   ]
  },
  {
   "cell_type": "markdown",
   "metadata": {},
   "source": [
    "## <a id='9'><center><font color=\"INDIANRED\">8) Analyser le résultat</font></center></a>"
   ]
  },
  {
   "cell_type": "code",
   "execution_count": 396,
   "metadata": {},
   "outputs": [],
   "source": [
    "def final(model,X,treshold=0):\n",
    "    return model.decision_function(X) > treshold"
   ]
  },
  {
   "cell_type": "code",
   "execution_count": 397,
   "metadata": {},
   "outputs": [],
   "source": [
    "f_pred = final(grid.best_estimator_,X_test,treshold=0.8)"
   ]
  },
  {
   "cell_type": "code",
   "execution_count": 398,
   "metadata": {},
   "outputs": [
    {
     "data": {
      "text/plain": [
       "0.7435897435897436"
      ]
     },
     "execution_count": 398,
     "metadata": {},
     "output_type": "execute_result"
    }
   ],
   "source": [
    "f1_score(y_test,f_pred)"
   ]
  },
  {
   "cell_type": "code",
   "execution_count": 399,
   "metadata": {},
   "outputs": [
    {
     "data": {
      "text/plain": [
       "0.8055555555555556"
      ]
     },
     "execution_count": 399,
     "metadata": {},
     "output_type": "execute_result"
    }
   ],
   "source": [
    "recall_score(y_test,f_pred)"
   ]
  },
  {
   "cell_type": "code",
   "execution_count": 400,
   "metadata": {},
   "outputs": [
    {
     "name": "stdout",
     "output_type": "stream",
     "text": [
      "              precision    recall  f1-score   support\n",
      "\n",
      "         0.0       0.97      0.95      0.96       262\n",
      "         1.0       0.69      0.81      0.74        36\n",
      "\n",
      "    accuracy                           0.93       298\n",
      "   macro avg       0.83      0.88      0.85       298\n",
      "weighted avg       0.94      0.93      0.94       298\n",
      "\n"
     ]
    }
   ],
   "source": [
    "print(classification_report(y_test,f_pred))"
   ]
  },
  {
   "cell_type": "markdown",
   "metadata": {},
   "source": [
    "On sacrifie un peu de precision des non solvables et de F1 score des solvables pour monter le recall des non solvables"
   ]
  },
  {
   "cell_type": "raw",
   "metadata": {},
   "source": [
    "grid = RandomizedSearchCV(KNN, paramsKNN,scoring='accuracy',cv=4,n_iter=100)\n",
    "grid.fit(X_train,y_train)\n",
    "print(grid.best_params_)\n",
    "\n",
    "knn_pred = grid.predict(X_test)\n",
    "\n",
    "print(classification_report(y_test,knn_pred))"
   ]
  },
  {
   "cell_type": "code",
   "execution_count": null,
   "metadata": {},
   "outputs": [],
   "source": []
  },
  {
   "cell_type": "code",
   "execution_count": 401,
   "metadata": {},
   "outputs": [
    {
     "data": {
      "text/plain": [
       "dict_keys(['memory', 'steps', 'verbose', 'pipeline', 'standardscaler', 'svc', 'pipeline__memory', 'pipeline__steps', 'pipeline__verbose', 'pipeline__polynomialfeatures', 'pipeline__selectkbest', 'pipeline__polynomialfeatures__degree', 'pipeline__polynomialfeatures__include_bias', 'pipeline__polynomialfeatures__interaction_only', 'pipeline__polynomialfeatures__order', 'pipeline__selectkbest__k', 'pipeline__selectkbest__score_func', 'standardscaler__copy', 'standardscaler__with_mean', 'standardscaler__with_std', 'svc__C', 'svc__break_ties', 'svc__cache_size', 'svc__class_weight', 'svc__coef0', 'svc__decision_function_shape', 'svc__degree', 'svc__gamma', 'svc__kernel', 'svc__max_iter', 'svc__probability', 'svc__random_state', 'svc__shrinking', 'svc__tol', 'svc__verbose'])"
      ]
     },
     "execution_count": 401,
     "metadata": {},
     "output_type": "execute_result"
    }
   ],
   "source": [
    "SVM.get_params().keys()"
   ]
  },
  {
   "cell_type": "raw",
   "metadata": {},
   "source": [
    "import matplotlib.pyplot as plt\n",
    "import numpy as np\n",
    "\n",
    "\n",
    "from sklearn.svm import SVC\n",
    "from sklearn.model_selection import validation_curve\n",
    "from sklearn.datasets import load_digits\n",
    "\n",
    "#param_range = np.logspace(-6, -1, 5)\n",
    "param_range = np.arange(3, 20, 2)\n",
    "train_scores, test_scores = validation_curve(\n",
    "    SVC(), X, y, param_name=\"gamma\", param_range=param_range,\n",
    "    scoring=\"accuracy\", n_jobs=1)\n",
    "train_scores_mean = np.mean(train_scores, axis=1)\n",
    "train_scores_std = np.std(train_scores, axis=1)\n",
    "test_scores_mean = np.mean(test_scores, axis=1)\n",
    "test_scores_std = np.std(test_scores, axis=1)\n",
    "\n",
    "plt.title(\"Validation Curve with SVM\")\n",
    "plt.xlabel(r\"$\\gamma$\")\n",
    "plt.ylabel(\"Score\")\n",
    "plt.ylim(0.0, 1.1)\n",
    "lw = 2\n",
    "plt.semilogx(param_range, train_scores_mean, label=\"Training score\",\n",
    "             color=\"darkorange\", lw=lw)\n",
    "plt.fill_between(param_range, train_scores_mean - train_scores_std,\n",
    "                 train_scores_mean + train_scores_std, alpha=0.2,\n",
    "                 color=\"darkorange\", lw=lw)\n",
    "plt.semilogx(param_range, test_scores_mean, label=\"Cross-validation score\",\n",
    "             color=\"navy\", lw=lw)\n",
    "plt.fill_between(param_range, test_scores_mean - test_scores_std,\n",
    "                 test_scores_mean + test_scores_std, alpha=0.2,\n",
    "                 color=\"navy\", lw=lw)\n",
    "plt.legend(loc=\"best\")\n",
    "plt.show()"
   ]
  },
  {
   "cell_type": "raw",
   "metadata": {},
   "source": [
    "y_train.value_counts()"
   ]
  },
  {
   "cell_type": "raw",
   "metadata": {},
   "source": [
    "from flask import Flask, escape, request\n",
    "from joblib import dump, load\n",
    "\n",
    "df = pd.read_csv('df_mean.csv')\n",
    "X = df.drop(\"Loan_Status\",axis=1)\n",
    "y = df['Loan_Status']\n",
    "\n",
    "app = Flask(__name__)\n",
    "#classification_report(y_test,dtrpred)\n",
    "@app.route('/')\n",
    "def hello():\n",
    "    X_train, X_test, y_train, y_test = train_test_split(X, y, test_size = 0.2, random_state = 0)\n",
    "    #Entraînement du modèle\n",
    "    dtree = tree.DecisionTreeClassifier(criterion = 'gini', random_state = 0)\n",
    "    dtr=dtree.fit(X_train, y_train)\n",
    "    dtrpred = dtree.predict(X_test)\n",
    "    score = f1_score(y_test,dtrpred)\n",
    "    \n",
    "    return(\"Prediction={:.4f}\".format(score))\n",
    "app.run()"
   ]
  },
  {
   "cell_type": "code",
   "execution_count": null,
   "metadata": {},
   "outputs": [],
   "source": []
  }
 ],
 "metadata": {
  "kernelspec": {
   "display_name": "Python 3",
   "language": "python",
   "name": "python3"
  },
  "language_info": {
   "codemirror_mode": {
    "name": "ipython",
    "version": 3
   },
   "file_extension": ".py",
   "mimetype": "text/x-python",
   "name": "python",
   "nbconvert_exporter": "python",
   "pygments_lexer": "ipython3",
   "version": "3.7.6"
  }
 },
 "nbformat": 4,
 "nbformat_minor": 4
}
