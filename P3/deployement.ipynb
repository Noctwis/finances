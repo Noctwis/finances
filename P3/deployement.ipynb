{
 "cells": [
  {
   "cell_type": "code",
   "execution_count": 9,
   "metadata": {},
   "outputs": [
    {
     "name": "stdout",
     "output_type": "stream",
     "text": [
      " * Serving Flask app \"__main__\" (lazy loading)\n",
      " * Environment: production\n",
      "   WARNING: This is a development server. Do not use it in a production deployment.\n",
      "   Use a production WSGI server instead.\n",
      " * Debug mode: off\n"
     ]
    },
    {
     "name": "stderr",
     "output_type": "stream",
     "text": [
      " * Running on http://127.0.0.1:5000/ (Press CTRL+C to quit)\n"
     ]
    }
   ],
   "source": [
    "from flask import Flask, escape, request\n",
    "import pandas as pd\n",
    "from sklearn.metrics import mean_squared_error, r2_score,classification_report,confusion_matrix, accuracy_score\n",
    "from sklearn import tree,preprocessing \n",
    "from sklearn.model_selection import train_test_split,GridSearchCV, RandomizedSearchCV\n",
    "from sklearn.metrics import precision_score, recall_score, f1_score,precision_recall_curve\n",
    "\n",
    "df = pd.read_csv('df_mean.csv')\n",
    "X = df.drop(\"Loan_Status\",axis=1)\n",
    "y = df['Loan_Status']\n",
    "\n",
    "app = Flask(__name__)\n",
    "#classification_report(y_test,dtrpred)\n",
    "@app.route('/')\n",
    "def hello():\n",
    "    X_train, X_test, y_train, y_test = train_test_split(X, y, test_size = 0.2, random_state = 0)\n",
    "    #Entraînement du modèle\n",
    "    dtree = tree.DecisionTreeClassifier(criterion = 'gini', random_state = 0)\n",
    "    dtr=dtree.fit(X_train, y_train)\n",
    "    dtrpred = dtree.predict(X_test)\n",
    "    score = f1_score(y_test,dtrpred)\n",
    "    \n",
    "    return(\"Prediction={:.4f}\".format(score))\n",
    "app.run()"
   ]
  },
  {
   "cell_type": "code",
   "execution_count": null,
   "metadata": {},
   "outputs": [],
   "source": []
  },
  {
   "cell_type": "code",
   "execution_count": null,
   "metadata": {},
   "outputs": [],
   "source": []
  }
 ],
 "metadata": {
  "kernelspec": {
   "display_name": "Python 3",
   "language": "python",
   "name": "python3"
  },
  "language_info": {
   "codemirror_mode": {
    "name": "ipython",
    "version": 3
   },
   "file_extension": ".py",
   "mimetype": "text/x-python",
   "name": "python",
   "nbconvert_exporter": "python",
   "pygments_lexer": "ipython3",
   "version": "3.7.6"
  }
 },
 "nbformat": 4,
 "nbformat_minor": 4
}
