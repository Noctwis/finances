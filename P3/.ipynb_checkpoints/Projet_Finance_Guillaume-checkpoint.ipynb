{
 "cells": [
  {
   "cell_type": "markdown",
   "metadata": {},
   "source": [
    "# Projet Finance "
   ]
  },
  {
   "cell_type": "markdown",
   "metadata": {},
   "source": [
    "### Introduction: Problématique métier\n",
    "\n",
    "Nous sommes dans le secteur bancaire et plus précisément dans l’attribution de prêt a des clients d’une banque. Le but de ce projet est de prévoir si tel ou tel client est autorisé à contracter un prêt. \n",
    "En d’autres terme classer nos clients en deux groupes distincts :\n",
    "    • Autorisé à contracter un prêt\n",
    "    • Non-autorisé\n",
    "Pour ce faire la banque possède un certain nombre d’information sur le comportement de ces clients ou leurs informations personnelles."
   ]
  },
  {
   "cell_type": "markdown",
   "metadata": {},
   "source": [
    "### Traduction Machine Learning\n",
    "\n",
    "Au vu de la problématique métier on est dans le cas d’un problème supervisé de Machine Learning et plus précisément dans un cas de classification. \n",
    "\n",
    "Nous pouvons donc imaginer partir sur des modèles tel que des Decision Tree (Classifier), des random forest et autres Xgboost.\n",
    "\n",
    "Les metrics pour évaluer nos modèles sont dans ce cas l’accuracy, le recall ou encore la précision. \n",
    "\n",
    "<font color=\"green\">Il faut peut-être voir avec le client si il préfère privilégier le fait de n’omettre aucun client qui puisse théoriquement contracté un prêt (Au risque d’augmenter l’accession au crédit à des clients à risque).  Ou au contraire si il veut minimiser les clients à risque au détriment de clients potentiellement viable\n",
    "</font> \n",
    "\n",
    "En fonction de cette réponse on privilégiera :\n",
    "    • Le score de « Recall » dans le premier cas.\n",
    "    • Le score de « Precision » dans le second cas. \n",
    "    • Autrement on peut-équilibrer cela grace au F1 score.\n",
    "\n",
    "<font color= \"green\">Il pourrait être intéressant de savoir si la banque à un seuil de clients à risque qu’elle accepte de prendre  car cela pourrait nous permettre de fixer un seuil de recall / precision qui conviennent à ces attentes. </font>"
   ]
  },
  {
   "cell_type": "markdown",
   "metadata": {},
   "source": [
    "## Importation library"
   ]
  },
  {
   "cell_type": "code",
   "execution_count": 1,
   "metadata": {},
   "outputs": [],
   "source": [
    "# Librairie général de python pour des opération communes\n",
    "import pandas as pd\n",
    "import numpy as np\n",
    "#from pandasgui import show # Fonction permettant une visualisation approfondie \n",
    "#d'une dataframe pandas sur un interface graphique avancée. Mis en commentaire car probléme d'installation.\n",
    "\n",
    "\n",
    "#Librairie de visualisation principale\n",
    "import seaborn as sns \n",
    "import matplotlib.pyplot as plt\n",
    "import graphviz\n",
    "import missingno as msno\n",
    "import scipy as scp\n",
    "\n",
    "\n",
    "\n",
    "# Sklearn sampling\n",
    "from imblearn.over_sampling import RandomOverSampler\n",
    "from imblearn.over_sampling import SMOTE, RandomOverSampler\n",
    "\n",
    "\n",
    "#Sklearn preprocessing \n",
    "from sklearn.preprocessing import LabelEncoder #Encode les labels\n",
    "from sklearn.preprocessing import OneHotEncoder #Permet d'indentifier et de modifier nos variables qualitative.\n",
    "\n",
    "#Sklearn Feature Selection\n",
    "from sklearn.feature_selection import SelectKBest,f_classif,chi2 #Etude des variables, test du Chi2 et test anova\n",
    "\n",
    "#Sklearn PCA\n",
    "\n",
    "from sklearn.decomposition import PCA\n",
    "from sklearn.preprocessing import scale\n",
    "from sklearn.preprocessing import StandardScaler\n",
    "\n",
    "#Split\n",
    "\n",
    "from sklearn.model_selection import train_test_split\n",
    "\n",
    "\n",
    "#Modèles de machine learning\n",
    "\n",
    "from sklearn.linear_model import LogisticRegression\n",
    "from sklearn.ensemble import RandomForestClassifier\n",
    "from sklearn.tree import DecisionTreeClassifier\n",
    "from xgboost import XGBClassifier\n",
    "from sklearn import svm as svml \n",
    "from sklearn import tree\n",
    "\n",
    "#Nos metrics\n",
    "\n",
    "from sklearn.metrics import accuracy_score, recall_score, precision_score, f1_score,confusion_matrix, classification_report\n",
    "\n",
    "#Importer notre modèle\n",
    "import pickle \n",
    "\n",
    "\n",
    "import warnings\n",
    "warnings.filterwarnings('ignore')"
   ]
  },
  {
   "cell_type": "markdown",
   "metadata": {},
   "source": [
    "## Sommaire\n",
    "\n",
    "- [1 : Importation des données](#1)\n",
    "- [2 : Compréhension des données](#2)\n",
    "- [3: Première visualisation](#3)\n",
    "- [4: Visualisation Valeurs Manquante](#4)\n",
    "- [5: Nettoyage des données](#5)\n",
    "- - [5.1: Gestion Nan: Variables qualitatives](#6)\n",
    "- - [5.2: Gestion Nan: Variables quantitatives](#7)\n",
    "- [6: Nettoyage des données : Modification des types](#8)\n",
    "- - [6.1: Variable Qualitative: One Hot Encoder](#9)\n",
    "- [7: Seconde visualisation](#11)\n",
    "- - [7.1: Variable Qualitative](#12)\n",
    "- - [7.2: Variable Quantitative](#13)\n",
    "- - [7.3: Nettoyage Outlier](#14)\n",
    "- - [7.4: Etudes des Variables K-Best](#15)\n",
    "- [8: Création de Features](#16)\n",
    "- [9: Equilibrage](#17)\n",
    "- [10: PCA](#18)\n",
    "- [11: Normalisation](#19)\n",
    "- [12: Modélisation](#20)\n",
    "- - [12.1: Choix du modéle / Fonction](#21)\n",
    "- - [12.2: Full Data Modeling](#22)\n",
    "- - [12.3: Only Best Features](#23)\n",
    "- - [12.4: Partial Data Modeling](#24)\n",
    "- [13: Analyse des résultats](#25)\n",
    "- [14: Exportation du model](#26)\n",
    "\n",
    "\n"
   ]
  },
  {
   "cell_type": "markdown",
   "metadata": {},
   "source": [
    "### <a id='1'><center><font color=\"INDIANRED\">1) Importation des données</font></center></a>"
   ]
  },
  {
   "cell_type": "markdown",
   "metadata": {},
   "source": [
    "Nous avons deux dataset \"différents\" stocké avec deux méthodes différentes examinons tout d'abords les différences entre ces deux fichier. "
   ]
  },
  {
   "cell_type": "markdown",
   "metadata": {},
   "source": [
    "### Comparaison des datasets"
   ]
  },
  {
   "cell_type": "code",
   "execution_count": 2,
   "metadata": {},
   "outputs": [],
   "source": [
    "df_csv= pd.read_csv('train.csv')\n",
    "df_xls=pd.read_excel('train.xlsx')"
   ]
  },
  {
   "cell_type": "markdown",
   "metadata": {},
   "source": [
    "On visualise d'abords nos deux DF de manière supperficielle  pour voir si les deux correpondent."
   ]
  },
  {
   "cell_type": "code",
   "execution_count": 3,
   "metadata": {
    "scrolled": true
   },
   "outputs": [
    {
     "data": {
      "text/html": [
       "<div>\n",
       "<style scoped>\n",
       "    .dataframe tbody tr th:only-of-type {\n",
       "        vertical-align: middle;\n",
       "    }\n",
       "\n",
       "    .dataframe tbody tr th {\n",
       "        vertical-align: top;\n",
       "    }\n",
       "\n",
       "    .dataframe thead th {\n",
       "        text-align: right;\n",
       "    }\n",
       "</style>\n",
       "<table border=\"1\" class=\"dataframe\">\n",
       "  <thead>\n",
       "    <tr style=\"text-align: right;\">\n",
       "      <th></th>\n",
       "      <th>Loan_ID</th>\n",
       "      <th>Gender</th>\n",
       "      <th>Married</th>\n",
       "      <th>Dependents</th>\n",
       "      <th>Education</th>\n",
       "      <th>Self_Employed</th>\n",
       "      <th>ApplicantIncome</th>\n",
       "      <th>CoapplicantIncome</th>\n",
       "      <th>LoanAmount</th>\n",
       "      <th>Loan_Amount_Term</th>\n",
       "      <th>Credit_History</th>\n",
       "      <th>Property_Area</th>\n",
       "      <th>Loan_Status</th>\n",
       "    </tr>\n",
       "  </thead>\n",
       "  <tbody>\n",
       "    <tr>\n",
       "      <th>0</th>\n",
       "      <td>LP001002</td>\n",
       "      <td>Male</td>\n",
       "      <td>No</td>\n",
       "      <td>0</td>\n",
       "      <td>Graduate</td>\n",
       "      <td>No</td>\n",
       "      <td>5849</td>\n",
       "      <td>0.0</td>\n",
       "      <td>NaN</td>\n",
       "      <td>360.0</td>\n",
       "      <td>1.0</td>\n",
       "      <td>Urban</td>\n",
       "      <td>Y</td>\n",
       "    </tr>\n",
       "    <tr>\n",
       "      <th>1</th>\n",
       "      <td>LP001003</td>\n",
       "      <td>Male</td>\n",
       "      <td>Yes</td>\n",
       "      <td>1</td>\n",
       "      <td>Graduate</td>\n",
       "      <td>No</td>\n",
       "      <td>4583</td>\n",
       "      <td>1508.0</td>\n",
       "      <td>128.0</td>\n",
       "      <td>360.0</td>\n",
       "      <td>1.0</td>\n",
       "      <td>Rural</td>\n",
       "      <td>N</td>\n",
       "    </tr>\n",
       "    <tr>\n",
       "      <th>2</th>\n",
       "      <td>LP001005</td>\n",
       "      <td>Male</td>\n",
       "      <td>Yes</td>\n",
       "      <td>0</td>\n",
       "      <td>Graduate</td>\n",
       "      <td>Yes</td>\n",
       "      <td>3000</td>\n",
       "      <td>0.0</td>\n",
       "      <td>66.0</td>\n",
       "      <td>360.0</td>\n",
       "      <td>1.0</td>\n",
       "      <td>Urban</td>\n",
       "      <td>Y</td>\n",
       "    </tr>\n",
       "    <tr>\n",
       "      <th>3</th>\n",
       "      <td>LP001006</td>\n",
       "      <td>Male</td>\n",
       "      <td>Yes</td>\n",
       "      <td>0</td>\n",
       "      <td>Not Graduate</td>\n",
       "      <td>No</td>\n",
       "      <td>2583</td>\n",
       "      <td>2358.0</td>\n",
       "      <td>120.0</td>\n",
       "      <td>360.0</td>\n",
       "      <td>1.0</td>\n",
       "      <td>Urban</td>\n",
       "      <td>Y</td>\n",
       "    </tr>\n",
       "    <tr>\n",
       "      <th>4</th>\n",
       "      <td>LP001008</td>\n",
       "      <td>Male</td>\n",
       "      <td>No</td>\n",
       "      <td>0</td>\n",
       "      <td>Graduate</td>\n",
       "      <td>No</td>\n",
       "      <td>6000</td>\n",
       "      <td>0.0</td>\n",
       "      <td>141.0</td>\n",
       "      <td>360.0</td>\n",
       "      <td>1.0</td>\n",
       "      <td>Urban</td>\n",
       "      <td>Y</td>\n",
       "    </tr>\n",
       "    <tr>\n",
       "      <th>...</th>\n",
       "      <td>...</td>\n",
       "      <td>...</td>\n",
       "      <td>...</td>\n",
       "      <td>...</td>\n",
       "      <td>...</td>\n",
       "      <td>...</td>\n",
       "      <td>...</td>\n",
       "      <td>...</td>\n",
       "      <td>...</td>\n",
       "      <td>...</td>\n",
       "      <td>...</td>\n",
       "      <td>...</td>\n",
       "      <td>...</td>\n",
       "    </tr>\n",
       "    <tr>\n",
       "      <th>609</th>\n",
       "      <td>LP002978</td>\n",
       "      <td>Female</td>\n",
       "      <td>No</td>\n",
       "      <td>0</td>\n",
       "      <td>Graduate</td>\n",
       "      <td>No</td>\n",
       "      <td>2900</td>\n",
       "      <td>0.0</td>\n",
       "      <td>71.0</td>\n",
       "      <td>360.0</td>\n",
       "      <td>1.0</td>\n",
       "      <td>Rural</td>\n",
       "      <td>Y</td>\n",
       "    </tr>\n",
       "    <tr>\n",
       "      <th>610</th>\n",
       "      <td>LP002979</td>\n",
       "      <td>Male</td>\n",
       "      <td>Yes</td>\n",
       "      <td>3+</td>\n",
       "      <td>Graduate</td>\n",
       "      <td>No</td>\n",
       "      <td>4106</td>\n",
       "      <td>0.0</td>\n",
       "      <td>40.0</td>\n",
       "      <td>180.0</td>\n",
       "      <td>1.0</td>\n",
       "      <td>Rural</td>\n",
       "      <td>Y</td>\n",
       "    </tr>\n",
       "    <tr>\n",
       "      <th>611</th>\n",
       "      <td>LP002983</td>\n",
       "      <td>Male</td>\n",
       "      <td>Yes</td>\n",
       "      <td>1</td>\n",
       "      <td>Graduate</td>\n",
       "      <td>No</td>\n",
       "      <td>8072</td>\n",
       "      <td>240.0</td>\n",
       "      <td>253.0</td>\n",
       "      <td>360.0</td>\n",
       "      <td>1.0</td>\n",
       "      <td>Urban</td>\n",
       "      <td>Y</td>\n",
       "    </tr>\n",
       "    <tr>\n",
       "      <th>612</th>\n",
       "      <td>LP002984</td>\n",
       "      <td>Male</td>\n",
       "      <td>Yes</td>\n",
       "      <td>2</td>\n",
       "      <td>Graduate</td>\n",
       "      <td>No</td>\n",
       "      <td>7583</td>\n",
       "      <td>0.0</td>\n",
       "      <td>187.0</td>\n",
       "      <td>360.0</td>\n",
       "      <td>1.0</td>\n",
       "      <td>Urban</td>\n",
       "      <td>Y</td>\n",
       "    </tr>\n",
       "    <tr>\n",
       "      <th>613</th>\n",
       "      <td>LP002990</td>\n",
       "      <td>Female</td>\n",
       "      <td>No</td>\n",
       "      <td>0</td>\n",
       "      <td>Graduate</td>\n",
       "      <td>Yes</td>\n",
       "      <td>4583</td>\n",
       "      <td>0.0</td>\n",
       "      <td>133.0</td>\n",
       "      <td>360.0</td>\n",
       "      <td>0.0</td>\n",
       "      <td>Semiurban</td>\n",
       "      <td>N</td>\n",
       "    </tr>\n",
       "  </tbody>\n",
       "</table>\n",
       "<p>614 rows × 13 columns</p>\n",
       "</div>"
      ],
      "text/plain": [
       "      Loan_ID  Gender Married Dependents     Education Self_Employed  \\\n",
       "0    LP001002    Male      No          0      Graduate            No   \n",
       "1    LP001003    Male     Yes          1      Graduate            No   \n",
       "2    LP001005    Male     Yes          0      Graduate           Yes   \n",
       "3    LP001006    Male     Yes          0  Not Graduate            No   \n",
       "4    LP001008    Male      No          0      Graduate            No   \n",
       "..        ...     ...     ...        ...           ...           ...   \n",
       "609  LP002978  Female      No          0      Graduate            No   \n",
       "610  LP002979    Male     Yes         3+      Graduate            No   \n",
       "611  LP002983    Male     Yes          1      Graduate            No   \n",
       "612  LP002984    Male     Yes          2      Graduate            No   \n",
       "613  LP002990  Female      No          0      Graduate           Yes   \n",
       "\n",
       "     ApplicantIncome  CoapplicantIncome  LoanAmount  Loan_Amount_Term  \\\n",
       "0               5849                0.0         NaN             360.0   \n",
       "1               4583             1508.0       128.0             360.0   \n",
       "2               3000                0.0        66.0             360.0   \n",
       "3               2583             2358.0       120.0             360.0   \n",
       "4               6000                0.0       141.0             360.0   \n",
       "..               ...                ...         ...               ...   \n",
       "609             2900                0.0        71.0             360.0   \n",
       "610             4106                0.0        40.0             180.0   \n",
       "611             8072              240.0       253.0             360.0   \n",
       "612             7583                0.0       187.0             360.0   \n",
       "613             4583                0.0       133.0             360.0   \n",
       "\n",
       "     Credit_History Property_Area Loan_Status  \n",
       "0               1.0         Urban           Y  \n",
       "1               1.0         Rural           N  \n",
       "2               1.0         Urban           Y  \n",
       "3               1.0         Urban           Y  \n",
       "4               1.0         Urban           Y  \n",
       "..              ...           ...         ...  \n",
       "609             1.0         Rural           Y  \n",
       "610             1.0         Rural           Y  \n",
       "611             1.0         Urban           Y  \n",
       "612             1.0         Urban           Y  \n",
       "613             0.0     Semiurban           N  \n",
       "\n",
       "[614 rows x 13 columns]"
      ]
     },
     "execution_count": 3,
     "metadata": {},
     "output_type": "execute_result"
    }
   ],
   "source": [
    "df_csv"
   ]
  },
  {
   "cell_type": "code",
   "execution_count": 4,
   "metadata": {},
   "outputs": [
    {
     "data": {
      "text/html": [
       "<div>\n",
       "<style scoped>\n",
       "    .dataframe tbody tr th:only-of-type {\n",
       "        vertical-align: middle;\n",
       "    }\n",
       "\n",
       "    .dataframe tbody tr th {\n",
       "        vertical-align: top;\n",
       "    }\n",
       "\n",
       "    .dataframe thead th {\n",
       "        text-align: right;\n",
       "    }\n",
       "</style>\n",
       "<table border=\"1\" class=\"dataframe\">\n",
       "  <thead>\n",
       "    <tr style=\"text-align: right;\">\n",
       "      <th></th>\n",
       "      <th>Loan_ID</th>\n",
       "      <th>Gender</th>\n",
       "      <th>Married</th>\n",
       "      <th>Dependents</th>\n",
       "      <th>Education</th>\n",
       "      <th>Self_Employed</th>\n",
       "      <th>ApplicantIncome</th>\n",
       "      <th>CoapplicantIncome</th>\n",
       "      <th>LoanAmount</th>\n",
       "      <th>Loan_Amount_Term</th>\n",
       "      <th>Credit_History</th>\n",
       "      <th>Property_Area</th>\n",
       "      <th>Loan_Status</th>\n",
       "    </tr>\n",
       "  </thead>\n",
       "  <tbody>\n",
       "    <tr>\n",
       "      <th>0</th>\n",
       "      <td>LP001002</td>\n",
       "      <td>Male</td>\n",
       "      <td>No</td>\n",
       "      <td>0</td>\n",
       "      <td>Graduate</td>\n",
       "      <td>No</td>\n",
       "      <td>5849</td>\n",
       "      <td>0.0</td>\n",
       "      <td>NaN</td>\n",
       "      <td>360.0</td>\n",
       "      <td>1.0</td>\n",
       "      <td>Urban</td>\n",
       "      <td>Y</td>\n",
       "    </tr>\n",
       "    <tr>\n",
       "      <th>1</th>\n",
       "      <td>LP001003</td>\n",
       "      <td>Male</td>\n",
       "      <td>Yes</td>\n",
       "      <td>1</td>\n",
       "      <td>Graduate</td>\n",
       "      <td>No</td>\n",
       "      <td>4583</td>\n",
       "      <td>1508.0</td>\n",
       "      <td>128.0</td>\n",
       "      <td>360.0</td>\n",
       "      <td>1.0</td>\n",
       "      <td>Rural</td>\n",
       "      <td>N</td>\n",
       "    </tr>\n",
       "    <tr>\n",
       "      <th>2</th>\n",
       "      <td>LP001005</td>\n",
       "      <td>Male</td>\n",
       "      <td>Yes</td>\n",
       "      <td>0</td>\n",
       "      <td>Graduate</td>\n",
       "      <td>Yes</td>\n",
       "      <td>3000</td>\n",
       "      <td>0.0</td>\n",
       "      <td>66.0</td>\n",
       "      <td>360.0</td>\n",
       "      <td>1.0</td>\n",
       "      <td>Urban</td>\n",
       "      <td>Y</td>\n",
       "    </tr>\n",
       "    <tr>\n",
       "      <th>3</th>\n",
       "      <td>LP001006</td>\n",
       "      <td>Male</td>\n",
       "      <td>Yes</td>\n",
       "      <td>0</td>\n",
       "      <td>Not Graduate</td>\n",
       "      <td>No</td>\n",
       "      <td>2583</td>\n",
       "      <td>2358.0</td>\n",
       "      <td>120.0</td>\n",
       "      <td>360.0</td>\n",
       "      <td>1.0</td>\n",
       "      <td>Urban</td>\n",
       "      <td>Y</td>\n",
       "    </tr>\n",
       "    <tr>\n",
       "      <th>4</th>\n",
       "      <td>LP001008</td>\n",
       "      <td>Male</td>\n",
       "      <td>No</td>\n",
       "      <td>0</td>\n",
       "      <td>Graduate</td>\n",
       "      <td>No</td>\n",
       "      <td>6000</td>\n",
       "      <td>0.0</td>\n",
       "      <td>141.0</td>\n",
       "      <td>360.0</td>\n",
       "      <td>1.0</td>\n",
       "      <td>Urban</td>\n",
       "      <td>Y</td>\n",
       "    </tr>\n",
       "    <tr>\n",
       "      <th>...</th>\n",
       "      <td>...</td>\n",
       "      <td>...</td>\n",
       "      <td>...</td>\n",
       "      <td>...</td>\n",
       "      <td>...</td>\n",
       "      <td>...</td>\n",
       "      <td>...</td>\n",
       "      <td>...</td>\n",
       "      <td>...</td>\n",
       "      <td>...</td>\n",
       "      <td>...</td>\n",
       "      <td>...</td>\n",
       "      <td>...</td>\n",
       "    </tr>\n",
       "    <tr>\n",
       "      <th>609</th>\n",
       "      <td>LP002978</td>\n",
       "      <td>Female</td>\n",
       "      <td>No</td>\n",
       "      <td>0</td>\n",
       "      <td>Graduate</td>\n",
       "      <td>No</td>\n",
       "      <td>2900</td>\n",
       "      <td>0.0</td>\n",
       "      <td>71.0</td>\n",
       "      <td>360.0</td>\n",
       "      <td>1.0</td>\n",
       "      <td>Rural</td>\n",
       "      <td>Y</td>\n",
       "    </tr>\n",
       "    <tr>\n",
       "      <th>610</th>\n",
       "      <td>LP002979</td>\n",
       "      <td>Male</td>\n",
       "      <td>Yes</td>\n",
       "      <td>3+</td>\n",
       "      <td>Graduate</td>\n",
       "      <td>No</td>\n",
       "      <td>4106</td>\n",
       "      <td>0.0</td>\n",
       "      <td>40.0</td>\n",
       "      <td>180.0</td>\n",
       "      <td>1.0</td>\n",
       "      <td>Rural</td>\n",
       "      <td>Y</td>\n",
       "    </tr>\n",
       "    <tr>\n",
       "      <th>611</th>\n",
       "      <td>LP002983</td>\n",
       "      <td>Male</td>\n",
       "      <td>Yes</td>\n",
       "      <td>1</td>\n",
       "      <td>Graduate</td>\n",
       "      <td>No</td>\n",
       "      <td>8072</td>\n",
       "      <td>240.0</td>\n",
       "      <td>253.0</td>\n",
       "      <td>360.0</td>\n",
       "      <td>1.0</td>\n",
       "      <td>Urban</td>\n",
       "      <td>Y</td>\n",
       "    </tr>\n",
       "    <tr>\n",
       "      <th>612</th>\n",
       "      <td>LP002984</td>\n",
       "      <td>Male</td>\n",
       "      <td>Yes</td>\n",
       "      <td>2</td>\n",
       "      <td>Graduate</td>\n",
       "      <td>No</td>\n",
       "      <td>7583</td>\n",
       "      <td>0.0</td>\n",
       "      <td>187.0</td>\n",
       "      <td>360.0</td>\n",
       "      <td>1.0</td>\n",
       "      <td>Urban</td>\n",
       "      <td>Y</td>\n",
       "    </tr>\n",
       "    <tr>\n",
       "      <th>613</th>\n",
       "      <td>LP002990</td>\n",
       "      <td>Female</td>\n",
       "      <td>No</td>\n",
       "      <td>0</td>\n",
       "      <td>Graduate</td>\n",
       "      <td>Yes</td>\n",
       "      <td>4583</td>\n",
       "      <td>0.0</td>\n",
       "      <td>133.0</td>\n",
       "      <td>360.0</td>\n",
       "      <td>0.0</td>\n",
       "      <td>Semiurban</td>\n",
       "      <td>N</td>\n",
       "    </tr>\n",
       "  </tbody>\n",
       "</table>\n",
       "<p>614 rows × 13 columns</p>\n",
       "</div>"
      ],
      "text/plain": [
       "      Loan_ID  Gender Married Dependents     Education Self_Employed  \\\n",
       "0    LP001002    Male      No          0      Graduate            No   \n",
       "1    LP001003    Male     Yes          1      Graduate            No   \n",
       "2    LP001005    Male     Yes          0      Graduate           Yes   \n",
       "3    LP001006    Male     Yes          0  Not Graduate            No   \n",
       "4    LP001008    Male      No          0      Graduate            No   \n",
       "..        ...     ...     ...        ...           ...           ...   \n",
       "609  LP002978  Female      No          0      Graduate            No   \n",
       "610  LP002979    Male     Yes         3+      Graduate            No   \n",
       "611  LP002983    Male     Yes          1      Graduate            No   \n",
       "612  LP002984    Male     Yes          2      Graduate            No   \n",
       "613  LP002990  Female      No          0      Graduate           Yes   \n",
       "\n",
       "     ApplicantIncome  CoapplicantIncome  LoanAmount  Loan_Amount_Term  \\\n",
       "0               5849                0.0         NaN             360.0   \n",
       "1               4583             1508.0       128.0             360.0   \n",
       "2               3000                0.0        66.0             360.0   \n",
       "3               2583             2358.0       120.0             360.0   \n",
       "4               6000                0.0       141.0             360.0   \n",
       "..               ...                ...         ...               ...   \n",
       "609             2900                0.0        71.0             360.0   \n",
       "610             4106                0.0        40.0             180.0   \n",
       "611             8072              240.0       253.0             360.0   \n",
       "612             7583                0.0       187.0             360.0   \n",
       "613             4583                0.0       133.0             360.0   \n",
       "\n",
       "     Credit_History Property_Area Loan_Status  \n",
       "0               1.0         Urban           Y  \n",
       "1               1.0         Rural           N  \n",
       "2               1.0         Urban           Y  \n",
       "3               1.0         Urban           Y  \n",
       "4               1.0         Urban           Y  \n",
       "..              ...           ...         ...  \n",
       "609             1.0         Rural           Y  \n",
       "610             1.0         Rural           Y  \n",
       "611             1.0         Urban           Y  \n",
       "612             1.0         Urban           Y  \n",
       "613             0.0     Semiurban           N  \n",
       "\n",
       "[614 rows x 13 columns]"
      ]
     },
     "execution_count": 4,
     "metadata": {},
     "output_type": "execute_result"
    }
   ],
   "source": [
    "df_xls"
   ]
  },
  {
   "cell_type": "markdown",
   "metadata": {},
   "source": [
    "On vérifie la liste de nos colonnes. "
   ]
  },
  {
   "cell_type": "code",
   "execution_count": 5,
   "metadata": {},
   "outputs": [
    {
     "name": "stdout",
     "output_type": "stream",
     "text": [
      "Index(['Loan_ID', 'Gender', 'Married', 'Dependents', 'Education',\n",
      "       'Self_Employed', 'ApplicantIncome', 'CoapplicantIncome', 'LoanAmount',\n",
      "       'Loan_Amount_Term', 'Credit_History', 'Property_Area', 'Loan_Status'],\n",
      "      dtype='object')\n",
      "Index(['Loan_ID', 'Gender', 'Married', 'Dependents', 'Education',\n",
      "       'Self_Employed', 'ApplicantIncome', 'CoapplicantIncome', 'LoanAmount',\n",
      "       'Loan_Amount_Term', 'Credit_History', 'Property_Area', 'Loan_Status'],\n",
      "      dtype='object')\n"
     ]
    }
   ],
   "source": [
    "print(df_csv.columns)\n",
    "print(df_xls.columns)"
   ]
  },
  {
   "cell_type": "markdown",
   "metadata": {},
   "source": [
    "On continue notre exploration en regardant le type et le nombre de valeurs réel de nos datasets"
   ]
  },
  {
   "cell_type": "code",
   "execution_count": 6,
   "metadata": {},
   "outputs": [
    {
     "name": "stdout",
     "output_type": "stream",
     "text": [
      "<class 'pandas.core.frame.DataFrame'>\n",
      "RangeIndex: 614 entries, 0 to 613\n",
      "Data columns (total 13 columns):\n",
      " #   Column             Non-Null Count  Dtype  \n",
      "---  ------             --------------  -----  \n",
      " 0   Loan_ID            614 non-null    object \n",
      " 1   Gender             601 non-null    object \n",
      " 2   Married            611 non-null    object \n",
      " 3   Dependents         599 non-null    object \n",
      " 4   Education          614 non-null    object \n",
      " 5   Self_Employed      582 non-null    object \n",
      " 6   ApplicantIncome    614 non-null    int64  \n",
      " 7   CoapplicantIncome  614 non-null    float64\n",
      " 8   LoanAmount         592 non-null    float64\n",
      " 9   Loan_Amount_Term   600 non-null    float64\n",
      " 10  Credit_History     564 non-null    float64\n",
      " 11  Property_Area      614 non-null    object \n",
      " 12  Loan_Status        614 non-null    object \n",
      "dtypes: float64(4), int64(1), object(8)\n",
      "memory usage: 62.5+ KB\n"
     ]
    }
   ],
   "source": [
    "df_csv.info()"
   ]
  },
  {
   "cell_type": "code",
   "execution_count": 7,
   "metadata": {},
   "outputs": [
    {
     "name": "stdout",
     "output_type": "stream",
     "text": [
      "<class 'pandas.core.frame.DataFrame'>\n",
      "RangeIndex: 614 entries, 0 to 613\n",
      "Data columns (total 13 columns):\n",
      " #   Column             Non-Null Count  Dtype  \n",
      "---  ------             --------------  -----  \n",
      " 0   Loan_ID            614 non-null    object \n",
      " 1   Gender             601 non-null    object \n",
      " 2   Married            611 non-null    object \n",
      " 3   Dependents         599 non-null    object \n",
      " 4   Education          614 non-null    object \n",
      " 5   Self_Employed      582 non-null    object \n",
      " 6   ApplicantIncome    614 non-null    int64  \n",
      " 7   CoapplicantIncome  614 non-null    float64\n",
      " 8   LoanAmount         592 non-null    float64\n",
      " 9   Loan_Amount_Term   600 non-null    float64\n",
      " 10  Credit_History     564 non-null    float64\n",
      " 11  Property_Area      614 non-null    object \n",
      " 12  Loan_Status        614 non-null    object \n",
      "dtypes: float64(4), int64(1), object(8)\n",
      "memory usage: 62.5+ KB\n"
     ]
    }
   ],
   "source": [
    "df_xls.info()"
   ]
  },
  {
   "cell_type": "markdown",
   "metadata": {},
   "source": [
    "Enfin on vérifie les grands indicateurs statistique de nos données numétiques. "
   ]
  },
  {
   "cell_type": "code",
   "execution_count": 8,
   "metadata": {},
   "outputs": [
    {
     "data": {
      "text/html": [
       "<div>\n",
       "<style scoped>\n",
       "    .dataframe tbody tr th:only-of-type {\n",
       "        vertical-align: middle;\n",
       "    }\n",
       "\n",
       "    .dataframe tbody tr th {\n",
       "        vertical-align: top;\n",
       "    }\n",
       "\n",
       "    .dataframe thead th {\n",
       "        text-align: right;\n",
       "    }\n",
       "</style>\n",
       "<table border=\"1\" class=\"dataframe\">\n",
       "  <thead>\n",
       "    <tr style=\"text-align: right;\">\n",
       "      <th></th>\n",
       "      <th>ApplicantIncome</th>\n",
       "      <th>CoapplicantIncome</th>\n",
       "      <th>LoanAmount</th>\n",
       "      <th>Loan_Amount_Term</th>\n",
       "      <th>Credit_History</th>\n",
       "    </tr>\n",
       "  </thead>\n",
       "  <tbody>\n",
       "    <tr>\n",
       "      <th>count</th>\n",
       "      <td>614.000000</td>\n",
       "      <td>614.000000</td>\n",
       "      <td>592.000000</td>\n",
       "      <td>600.00000</td>\n",
       "      <td>564.000000</td>\n",
       "    </tr>\n",
       "    <tr>\n",
       "      <th>mean</th>\n",
       "      <td>5403.459283</td>\n",
       "      <td>1621.245798</td>\n",
       "      <td>146.412162</td>\n",
       "      <td>342.00000</td>\n",
       "      <td>0.842199</td>\n",
       "    </tr>\n",
       "    <tr>\n",
       "      <th>std</th>\n",
       "      <td>6109.041673</td>\n",
       "      <td>2926.248369</td>\n",
       "      <td>85.587325</td>\n",
       "      <td>65.12041</td>\n",
       "      <td>0.364878</td>\n",
       "    </tr>\n",
       "    <tr>\n",
       "      <th>min</th>\n",
       "      <td>150.000000</td>\n",
       "      <td>0.000000</td>\n",
       "      <td>9.000000</td>\n",
       "      <td>12.00000</td>\n",
       "      <td>0.000000</td>\n",
       "    </tr>\n",
       "    <tr>\n",
       "      <th>25%</th>\n",
       "      <td>2877.500000</td>\n",
       "      <td>0.000000</td>\n",
       "      <td>100.000000</td>\n",
       "      <td>360.00000</td>\n",
       "      <td>1.000000</td>\n",
       "    </tr>\n",
       "    <tr>\n",
       "      <th>50%</th>\n",
       "      <td>3812.500000</td>\n",
       "      <td>1188.500000</td>\n",
       "      <td>128.000000</td>\n",
       "      <td>360.00000</td>\n",
       "      <td>1.000000</td>\n",
       "    </tr>\n",
       "    <tr>\n",
       "      <th>75%</th>\n",
       "      <td>5795.000000</td>\n",
       "      <td>2297.250000</td>\n",
       "      <td>168.000000</td>\n",
       "      <td>360.00000</td>\n",
       "      <td>1.000000</td>\n",
       "    </tr>\n",
       "    <tr>\n",
       "      <th>max</th>\n",
       "      <td>81000.000000</td>\n",
       "      <td>41667.000000</td>\n",
       "      <td>700.000000</td>\n",
       "      <td>480.00000</td>\n",
       "      <td>1.000000</td>\n",
       "    </tr>\n",
       "  </tbody>\n",
       "</table>\n",
       "</div>"
      ],
      "text/plain": [
       "       ApplicantIncome  CoapplicantIncome  LoanAmount  Loan_Amount_Term  \\\n",
       "count       614.000000         614.000000  592.000000         600.00000   \n",
       "mean       5403.459283        1621.245798  146.412162         342.00000   \n",
       "std        6109.041673        2926.248369   85.587325          65.12041   \n",
       "min         150.000000           0.000000    9.000000          12.00000   \n",
       "25%        2877.500000           0.000000  100.000000         360.00000   \n",
       "50%        3812.500000        1188.500000  128.000000         360.00000   \n",
       "75%        5795.000000        2297.250000  168.000000         360.00000   \n",
       "max       81000.000000       41667.000000  700.000000         480.00000   \n",
       "\n",
       "       Credit_History  \n",
       "count      564.000000  \n",
       "mean         0.842199  \n",
       "std          0.364878  \n",
       "min          0.000000  \n",
       "25%          1.000000  \n",
       "50%          1.000000  \n",
       "75%          1.000000  \n",
       "max          1.000000  "
      ]
     },
     "execution_count": 8,
     "metadata": {},
     "output_type": "execute_result"
    }
   ],
   "source": [
    "df_csv.describe()"
   ]
  },
  {
   "cell_type": "code",
   "execution_count": 9,
   "metadata": {},
   "outputs": [
    {
     "data": {
      "text/html": [
       "<div>\n",
       "<style scoped>\n",
       "    .dataframe tbody tr th:only-of-type {\n",
       "        vertical-align: middle;\n",
       "    }\n",
       "\n",
       "    .dataframe tbody tr th {\n",
       "        vertical-align: top;\n",
       "    }\n",
       "\n",
       "    .dataframe thead th {\n",
       "        text-align: right;\n",
       "    }\n",
       "</style>\n",
       "<table border=\"1\" class=\"dataframe\">\n",
       "  <thead>\n",
       "    <tr style=\"text-align: right;\">\n",
       "      <th></th>\n",
       "      <th>ApplicantIncome</th>\n",
       "      <th>CoapplicantIncome</th>\n",
       "      <th>LoanAmount</th>\n",
       "      <th>Loan_Amount_Term</th>\n",
       "      <th>Credit_History</th>\n",
       "    </tr>\n",
       "  </thead>\n",
       "  <tbody>\n",
       "    <tr>\n",
       "      <th>count</th>\n",
       "      <td>614.000000</td>\n",
       "      <td>614.000000</td>\n",
       "      <td>592.000000</td>\n",
       "      <td>600.00000</td>\n",
       "      <td>564.000000</td>\n",
       "    </tr>\n",
       "    <tr>\n",
       "      <th>mean</th>\n",
       "      <td>5403.459283</td>\n",
       "      <td>1621.245798</td>\n",
       "      <td>146.412162</td>\n",
       "      <td>342.00000</td>\n",
       "      <td>0.842199</td>\n",
       "    </tr>\n",
       "    <tr>\n",
       "      <th>std</th>\n",
       "      <td>6109.041673</td>\n",
       "      <td>2926.248369</td>\n",
       "      <td>85.587325</td>\n",
       "      <td>65.12041</td>\n",
       "      <td>0.364878</td>\n",
       "    </tr>\n",
       "    <tr>\n",
       "      <th>min</th>\n",
       "      <td>150.000000</td>\n",
       "      <td>0.000000</td>\n",
       "      <td>9.000000</td>\n",
       "      <td>12.00000</td>\n",
       "      <td>0.000000</td>\n",
       "    </tr>\n",
       "    <tr>\n",
       "      <th>25%</th>\n",
       "      <td>2877.500000</td>\n",
       "      <td>0.000000</td>\n",
       "      <td>100.000000</td>\n",
       "      <td>360.00000</td>\n",
       "      <td>1.000000</td>\n",
       "    </tr>\n",
       "    <tr>\n",
       "      <th>50%</th>\n",
       "      <td>3812.500000</td>\n",
       "      <td>1188.500000</td>\n",
       "      <td>128.000000</td>\n",
       "      <td>360.00000</td>\n",
       "      <td>1.000000</td>\n",
       "    </tr>\n",
       "    <tr>\n",
       "      <th>75%</th>\n",
       "      <td>5795.000000</td>\n",
       "      <td>2297.250000</td>\n",
       "      <td>168.000000</td>\n",
       "      <td>360.00000</td>\n",
       "      <td>1.000000</td>\n",
       "    </tr>\n",
       "    <tr>\n",
       "      <th>max</th>\n",
       "      <td>81000.000000</td>\n",
       "      <td>41667.000000</td>\n",
       "      <td>700.000000</td>\n",
       "      <td>480.00000</td>\n",
       "      <td>1.000000</td>\n",
       "    </tr>\n",
       "  </tbody>\n",
       "</table>\n",
       "</div>"
      ],
      "text/plain": [
       "       ApplicantIncome  CoapplicantIncome  LoanAmount  Loan_Amount_Term  \\\n",
       "count       614.000000         614.000000  592.000000         600.00000   \n",
       "mean       5403.459283        1621.245798  146.412162         342.00000   \n",
       "std        6109.041673        2926.248369   85.587325          65.12041   \n",
       "min         150.000000           0.000000    9.000000          12.00000   \n",
       "25%        2877.500000           0.000000  100.000000         360.00000   \n",
       "50%        3812.500000        1188.500000  128.000000         360.00000   \n",
       "75%        5795.000000        2297.250000  168.000000         360.00000   \n",
       "max       81000.000000       41667.000000  700.000000         480.00000   \n",
       "\n",
       "       Credit_History  \n",
       "count      564.000000  \n",
       "mean         0.842199  \n",
       "std          0.364878  \n",
       "min          0.000000  \n",
       "25%          1.000000  \n",
       "50%          1.000000  \n",
       "75%          1.000000  \n",
       "max          1.000000  "
      ]
     },
     "execution_count": 9,
     "metadata": {},
     "output_type": "execute_result"
    }
   ],
   "source": [
    "df_xls.describe()"
   ]
  },
  {
   "cell_type": "markdown",
   "metadata": {},
   "source": [
    "### Conclusion\n",
    "\n",
    "Les deux datasets présente des carractéritiques similaire :\n",
    "<ul><li>Même nombre de colonnes </li>\n",
    "    <li>Même nombre de lignes</li>\n",
    "    <li>Même nombre de valeurs manquante</li>\n",
    "    <li>Indicateurs statistiques égaux</li>\n",
    "On peut donc partir du postulat que nos datasets sont identiques nous ne travaillerons donc que sur le dataset en csv "
   ]
  },
  {
   "cell_type": "markdown",
   "metadata": {},
   "source": [
    "### <a id='2'><center><font color=\"INDIANRED\">2) Compréhension des données</font></center></a>"
   ]
  },
  {
   "cell_type": "markdown",
   "metadata": {},
   "source": [
    "### Compréhension des variable"
   ]
  },
  {
   "cell_type": "code",
   "execution_count": 10,
   "metadata": {},
   "outputs": [],
   "source": [
    "df=df_csv"
   ]
  },
  {
   "cell_type": "code",
   "execution_count": 11,
   "metadata": {},
   "outputs": [
    {
     "data": {
      "text/html": [
       "<div>\n",
       "<style scoped>\n",
       "    .dataframe tbody tr th:only-of-type {\n",
       "        vertical-align: middle;\n",
       "    }\n",
       "\n",
       "    .dataframe tbody tr th {\n",
       "        vertical-align: top;\n",
       "    }\n",
       "\n",
       "    .dataframe thead th {\n",
       "        text-align: right;\n",
       "    }\n",
       "</style>\n",
       "<table border=\"1\" class=\"dataframe\">\n",
       "  <thead>\n",
       "    <tr style=\"text-align: right;\">\n",
       "      <th></th>\n",
       "      <th>Loan_ID</th>\n",
       "      <th>Gender</th>\n",
       "      <th>Married</th>\n",
       "      <th>Dependents</th>\n",
       "      <th>Education</th>\n",
       "      <th>Self_Employed</th>\n",
       "      <th>ApplicantIncome</th>\n",
       "      <th>CoapplicantIncome</th>\n",
       "      <th>LoanAmount</th>\n",
       "      <th>Loan_Amount_Term</th>\n",
       "      <th>Credit_History</th>\n",
       "      <th>Property_Area</th>\n",
       "      <th>Loan_Status</th>\n",
       "    </tr>\n",
       "  </thead>\n",
       "  <tbody>\n",
       "    <tr>\n",
       "      <th>0</th>\n",
       "      <td>LP001002</td>\n",
       "      <td>Male</td>\n",
       "      <td>No</td>\n",
       "      <td>0</td>\n",
       "      <td>Graduate</td>\n",
       "      <td>No</td>\n",
       "      <td>5849</td>\n",
       "      <td>0.0</td>\n",
       "      <td>NaN</td>\n",
       "      <td>360.0</td>\n",
       "      <td>1.0</td>\n",
       "      <td>Urban</td>\n",
       "      <td>Y</td>\n",
       "    </tr>\n",
       "    <tr>\n",
       "      <th>1</th>\n",
       "      <td>LP001003</td>\n",
       "      <td>Male</td>\n",
       "      <td>Yes</td>\n",
       "      <td>1</td>\n",
       "      <td>Graduate</td>\n",
       "      <td>No</td>\n",
       "      <td>4583</td>\n",
       "      <td>1508.0</td>\n",
       "      <td>128.0</td>\n",
       "      <td>360.0</td>\n",
       "      <td>1.0</td>\n",
       "      <td>Rural</td>\n",
       "      <td>N</td>\n",
       "    </tr>\n",
       "    <tr>\n",
       "      <th>2</th>\n",
       "      <td>LP001005</td>\n",
       "      <td>Male</td>\n",
       "      <td>Yes</td>\n",
       "      <td>0</td>\n",
       "      <td>Graduate</td>\n",
       "      <td>Yes</td>\n",
       "      <td>3000</td>\n",
       "      <td>0.0</td>\n",
       "      <td>66.0</td>\n",
       "      <td>360.0</td>\n",
       "      <td>1.0</td>\n",
       "      <td>Urban</td>\n",
       "      <td>Y</td>\n",
       "    </tr>\n",
       "    <tr>\n",
       "      <th>3</th>\n",
       "      <td>LP001006</td>\n",
       "      <td>Male</td>\n",
       "      <td>Yes</td>\n",
       "      <td>0</td>\n",
       "      <td>Not Graduate</td>\n",
       "      <td>No</td>\n",
       "      <td>2583</td>\n",
       "      <td>2358.0</td>\n",
       "      <td>120.0</td>\n",
       "      <td>360.0</td>\n",
       "      <td>1.0</td>\n",
       "      <td>Urban</td>\n",
       "      <td>Y</td>\n",
       "    </tr>\n",
       "    <tr>\n",
       "      <th>4</th>\n",
       "      <td>LP001008</td>\n",
       "      <td>Male</td>\n",
       "      <td>No</td>\n",
       "      <td>0</td>\n",
       "      <td>Graduate</td>\n",
       "      <td>No</td>\n",
       "      <td>6000</td>\n",
       "      <td>0.0</td>\n",
       "      <td>141.0</td>\n",
       "      <td>360.0</td>\n",
       "      <td>1.0</td>\n",
       "      <td>Urban</td>\n",
       "      <td>Y</td>\n",
       "    </tr>\n",
       "  </tbody>\n",
       "</table>\n",
       "</div>"
      ],
      "text/plain": [
       "    Loan_ID Gender Married Dependents     Education Self_Employed  \\\n",
       "0  LP001002   Male      No          0      Graduate            No   \n",
       "1  LP001003   Male     Yes          1      Graduate            No   \n",
       "2  LP001005   Male     Yes          0      Graduate           Yes   \n",
       "3  LP001006   Male     Yes          0  Not Graduate            No   \n",
       "4  LP001008   Male      No          0      Graduate            No   \n",
       "\n",
       "   ApplicantIncome  CoapplicantIncome  LoanAmount  Loan_Amount_Term  \\\n",
       "0             5849                0.0         NaN             360.0   \n",
       "1             4583             1508.0       128.0             360.0   \n",
       "2             3000                0.0        66.0             360.0   \n",
       "3             2583             2358.0       120.0             360.0   \n",
       "4             6000                0.0       141.0             360.0   \n",
       "\n",
       "   Credit_History Property_Area Loan_Status  \n",
       "0             1.0         Urban           Y  \n",
       "1             1.0         Rural           N  \n",
       "2             1.0         Urban           Y  \n",
       "3             1.0         Urban           Y  \n",
       "4             1.0         Urban           Y  "
      ]
     },
     "execution_count": 11,
     "metadata": {},
     "output_type": "execute_result"
    }
   ],
   "source": [
    "df.head()"
   ]
  },
  {
   "cell_type": "code",
   "execution_count": 12,
   "metadata": {},
   "outputs": [
    {
     "data": {
      "text/plain": [
       "array([ 1.,  0., nan])"
      ]
     },
     "execution_count": 12,
     "metadata": {},
     "output_type": "execute_result"
    }
   ],
   "source": [
    "df.Credit_History.unique()"
   ]
  },
  {
   "cell_type": "code",
   "execution_count": 13,
   "metadata": {},
   "outputs": [
    {
     "name": "stdout",
     "output_type": "stream",
     "text": [
      "<class 'pandas.core.frame.DataFrame'>\n",
      "RangeIndex: 614 entries, 0 to 613\n",
      "Data columns (total 13 columns):\n",
      " #   Column             Non-Null Count  Dtype  \n",
      "---  ------             --------------  -----  \n",
      " 0   Loan_ID            614 non-null    object \n",
      " 1   Gender             601 non-null    object \n",
      " 2   Married            611 non-null    object \n",
      " 3   Dependents         599 non-null    object \n",
      " 4   Education          614 non-null    object \n",
      " 5   Self_Employed      582 non-null    object \n",
      " 6   ApplicantIncome    614 non-null    int64  \n",
      " 7   CoapplicantIncome  614 non-null    float64\n",
      " 8   LoanAmount         592 non-null    float64\n",
      " 9   Loan_Amount_Term   600 non-null    float64\n",
      " 10  Credit_History     564 non-null    float64\n",
      " 11  Property_Area      614 non-null    object \n",
      " 12  Loan_Status        614 non-null    object \n",
      "dtypes: float64(4), int64(1), object(8)\n",
      "memory usage: 62.5+ KB\n"
     ]
    }
   ],
   "source": [
    "df.info()"
   ]
  },
  {
   "cell_type": "markdown",
   "metadata": {},
   "source": [
    "Nous avons donc 13 colonnes dans ce dataset dont une target (Loan_Status):\n",
    "\n",
    "<b>Variables Indépendante</b>\n",
    "<ul><li> Loan_ID : Un ID représentant uniquement chaque clients (Type: String)</li>\n",
    "    <li>Gender : Le genre de notre client (Type: String) </li>\n",
    "    <li>Married: Booleen représentant si notre client est marié(e) ou non (Type: Bool) </li>\n",
    "    <li>Dependents: nombre de personne à charge sur le client (Type: Integer) </li>\n",
    "    <li> Education: Booleen représentant si la personne est diplomé ou non (Type: Bool) </li>\n",
    "    <li>Self_Employed: Booleen représentant si la personne est auto entrepreuneur (Type: bool) </li>\n",
    "    <li>ApplicantIncome: Les revenus du client (Type: Float) </li>\n",
    "    <li>CoapplicantIncome: Les revenus d'une personne associé au client (Mari / femme, parents...) (Type: Float)</li>\n",
    "    <li>LoanAmount: Montant de l'emprunt (En centaine) (Type: Float)</li>\n",
    "    <li>Loan_Amount_Term: Montant des remboursement par mois(Type: Float) </li>\n",
    "    <li>Credit_History: existe-il des antécédants de crédit.(Type: Bool)</li>\n",
    "    <li>Property_Area: La zone de l'habitation. (Type: String) </li></ul>\n",
    "\n",
    "<b>Notre Target</b>\n",
    "\n",
    "<ul><li>Loan_Status: Représente si un crédit est accordé ou non en fonction des autres variables indépendantes</li></ul>"
   ]
  },
  {
   "cell_type": "markdown",
   "metadata": {},
   "source": [
    "### <a id='3'><center><font color=\"INDIANRED\">3)Première visualisation</font></center></a>"
   ]
  },
  {
   "cell_type": "markdown",
   "metadata": {},
   "source": [
    "### Visualisation univarié"
   ]
  },
  {
   "cell_type": "markdown",
   "metadata": {},
   "source": [
    "Voyons les répartition de nos différents groupe"
   ]
  },
  {
   "cell_type": "code",
   "execution_count": 14,
   "metadata": {},
   "outputs": [
    {
     "data": {
      "text/html": [
       "<div>\n",
       "<style scoped>\n",
       "    .dataframe tbody tr th:only-of-type {\n",
       "        vertical-align: middle;\n",
       "    }\n",
       "\n",
       "    .dataframe tbody tr th {\n",
       "        vertical-align: top;\n",
       "    }\n",
       "\n",
       "    .dataframe thead th {\n",
       "        text-align: right;\n",
       "    }\n",
       "</style>\n",
       "<table border=\"1\" class=\"dataframe\">\n",
       "  <thead>\n",
       "    <tr style=\"text-align: right;\">\n",
       "      <th></th>\n",
       "      <th>Loan_ID</th>\n",
       "      <th>Gender</th>\n",
       "      <th>Married</th>\n",
       "      <th>Dependents</th>\n",
       "      <th>Education</th>\n",
       "      <th>Self_Employed</th>\n",
       "      <th>ApplicantIncome</th>\n",
       "      <th>CoapplicantIncome</th>\n",
       "      <th>LoanAmount</th>\n",
       "      <th>Loan_Amount_Term</th>\n",
       "      <th>Credit_History</th>\n",
       "      <th>Property_Area</th>\n",
       "      <th>Loan_Status</th>\n",
       "    </tr>\n",
       "  </thead>\n",
       "  <tbody>\n",
       "    <tr>\n",
       "      <th>0</th>\n",
       "      <td>LP001002</td>\n",
       "      <td>Male</td>\n",
       "      <td>No</td>\n",
       "      <td>0</td>\n",
       "      <td>Graduate</td>\n",
       "      <td>No</td>\n",
       "      <td>5849</td>\n",
       "      <td>0.0</td>\n",
       "      <td>NaN</td>\n",
       "      <td>360.0</td>\n",
       "      <td>1.0</td>\n",
       "      <td>Urban</td>\n",
       "      <td>Y</td>\n",
       "    </tr>\n",
       "    <tr>\n",
       "      <th>1</th>\n",
       "      <td>LP001003</td>\n",
       "      <td>Male</td>\n",
       "      <td>Yes</td>\n",
       "      <td>1</td>\n",
       "      <td>Graduate</td>\n",
       "      <td>No</td>\n",
       "      <td>4583</td>\n",
       "      <td>1508.0</td>\n",
       "      <td>128.0</td>\n",
       "      <td>360.0</td>\n",
       "      <td>1.0</td>\n",
       "      <td>Rural</td>\n",
       "      <td>N</td>\n",
       "    </tr>\n",
       "    <tr>\n",
       "      <th>2</th>\n",
       "      <td>LP001005</td>\n",
       "      <td>Male</td>\n",
       "      <td>Yes</td>\n",
       "      <td>0</td>\n",
       "      <td>Graduate</td>\n",
       "      <td>Yes</td>\n",
       "      <td>3000</td>\n",
       "      <td>0.0</td>\n",
       "      <td>66.0</td>\n",
       "      <td>360.0</td>\n",
       "      <td>1.0</td>\n",
       "      <td>Urban</td>\n",
       "      <td>Y</td>\n",
       "    </tr>\n",
       "    <tr>\n",
       "      <th>3</th>\n",
       "      <td>LP001006</td>\n",
       "      <td>Male</td>\n",
       "      <td>Yes</td>\n",
       "      <td>0</td>\n",
       "      <td>Not Graduate</td>\n",
       "      <td>No</td>\n",
       "      <td>2583</td>\n",
       "      <td>2358.0</td>\n",
       "      <td>120.0</td>\n",
       "      <td>360.0</td>\n",
       "      <td>1.0</td>\n",
       "      <td>Urban</td>\n",
       "      <td>Y</td>\n",
       "    </tr>\n",
       "    <tr>\n",
       "      <th>4</th>\n",
       "      <td>LP001008</td>\n",
       "      <td>Male</td>\n",
       "      <td>No</td>\n",
       "      <td>0</td>\n",
       "      <td>Graduate</td>\n",
       "      <td>No</td>\n",
       "      <td>6000</td>\n",
       "      <td>0.0</td>\n",
       "      <td>141.0</td>\n",
       "      <td>360.0</td>\n",
       "      <td>1.0</td>\n",
       "      <td>Urban</td>\n",
       "      <td>Y</td>\n",
       "    </tr>\n",
       "  </tbody>\n",
       "</table>\n",
       "</div>"
      ],
      "text/plain": [
       "    Loan_ID Gender Married Dependents     Education Self_Employed  \\\n",
       "0  LP001002   Male      No          0      Graduate            No   \n",
       "1  LP001003   Male     Yes          1      Graduate            No   \n",
       "2  LP001005   Male     Yes          0      Graduate           Yes   \n",
       "3  LP001006   Male     Yes          0  Not Graduate            No   \n",
       "4  LP001008   Male      No          0      Graduate            No   \n",
       "\n",
       "   ApplicantIncome  CoapplicantIncome  LoanAmount  Loan_Amount_Term  \\\n",
       "0             5849                0.0         NaN             360.0   \n",
       "1             4583             1508.0       128.0             360.0   \n",
       "2             3000                0.0        66.0             360.0   \n",
       "3             2583             2358.0       120.0             360.0   \n",
       "4             6000                0.0       141.0             360.0   \n",
       "\n",
       "   Credit_History Property_Area Loan_Status  \n",
       "0             1.0         Urban           Y  \n",
       "1             1.0         Rural           N  \n",
       "2             1.0         Urban           Y  \n",
       "3             1.0         Urban           Y  \n",
       "4             1.0         Urban           Y  "
      ]
     },
     "execution_count": 14,
     "metadata": {},
     "output_type": "execute_result"
    }
   ],
   "source": [
    "df.head()"
   ]
  },
  {
   "cell_type": "markdown",
   "metadata": {},
   "source": [
    "### Variable quantitative"
   ]
  },
  {
   "cell_type": "code",
   "execution_count": 15,
   "metadata": {},
   "outputs": [
    {
     "ename": "RuntimeError",
     "evalue": "Selected KDE bandwidth is 0. Cannot estiamte density.",
     "output_type": "error",
     "traceback": [
      "\u001b[1;31m---------------------------------------------------------------------------\u001b[0m",
      "\u001b[1;31mValueError\u001b[0m                                Traceback (most recent call last)",
      "\u001b[1;32m~\\anaconda3\\lib\\site-packages\\statsmodels\\nonparametric\\kde.py\u001b[0m in \u001b[0;36mkdensityfft\u001b[1;34m(X, kernel, bw, weights, gridsize, adjust, clip, cut, retgrid)\u001b[0m\n\u001b[0;32m    450\u001b[0m     \u001b[1;32mtry\u001b[0m\u001b[1;33m:\u001b[0m\u001b[1;33m\u001b[0m\u001b[1;33m\u001b[0m\u001b[0m\n\u001b[1;32m--> 451\u001b[1;33m         \u001b[0mbw\u001b[0m \u001b[1;33m=\u001b[0m \u001b[0mfloat\u001b[0m\u001b[1;33m(\u001b[0m\u001b[0mbw\u001b[0m\u001b[1;33m)\u001b[0m\u001b[1;33m\u001b[0m\u001b[1;33m\u001b[0m\u001b[0m\n\u001b[0m\u001b[0;32m    452\u001b[0m     \u001b[1;32mexcept\u001b[0m\u001b[1;33m:\u001b[0m\u001b[1;33m\u001b[0m\u001b[1;33m\u001b[0m\u001b[0m\n",
      "\u001b[1;31mValueError\u001b[0m: could not convert string to float: 'scott'",
      "\nDuring handling of the above exception, another exception occurred:\n",
      "\u001b[1;31mRuntimeError\u001b[0m                              Traceback (most recent call last)",
      "\u001b[1;32m<ipython-input-15-0a6444410eb7>\u001b[0m in \u001b[0;36m<module>\u001b[1;34m\u001b[0m\n\u001b[0;32m      2\u001b[0m \u001b[0mfig\u001b[0m\u001b[1;33m,\u001b[0m \u001b[0maxes\u001b[0m \u001b[1;33m=\u001b[0m \u001b[0mplt\u001b[0m\u001b[1;33m.\u001b[0m\u001b[0msubplots\u001b[0m\u001b[1;33m(\u001b[0m\u001b[0mncols\u001b[0m\u001b[1;33m=\u001b[0m\u001b[1;36m2\u001b[0m\u001b[1;33m,\u001b[0m \u001b[0mnrows\u001b[0m\u001b[1;33m=\u001b[0m\u001b[1;36m2\u001b[0m\u001b[1;33m,\u001b[0m \u001b[0mfigsize\u001b[0m\u001b[1;33m=\u001b[0m\u001b[1;33m(\u001b[0m\u001b[1;36m15\u001b[0m\u001b[1;33m,\u001b[0m\u001b[1;36m15\u001b[0m\u001b[1;33m)\u001b[0m\u001b[1;33m)\u001b[0m\u001b[1;31m#On fixe notre subplot\u001b[0m\u001b[1;33m\u001b[0m\u001b[1;33m\u001b[0m\u001b[0m\n\u001b[0;32m      3\u001b[0m \u001b[1;32mfor\u001b[0m \u001b[0mx\u001b[0m\u001b[1;33m,\u001b[0m \u001b[0max\u001b[0m \u001b[1;32min\u001b[0m \u001b[0mzip\u001b[0m\u001b[1;33m(\u001b[0m\u001b[0mnum_feature\u001b[0m\u001b[1;33m,\u001b[0m \u001b[0maxes\u001b[0m\u001b[1;33m.\u001b[0m\u001b[0mflat\u001b[0m\u001b[1;33m)\u001b[0m\u001b[1;33m:\u001b[0m \u001b[1;31m#On passe en revue toute nos colonnes\u001b[0m\u001b[1;33m\u001b[0m\u001b[1;33m\u001b[0m\u001b[0m\n\u001b[1;32m----> 4\u001b[1;33m     \u001b[0msns\u001b[0m\u001b[1;33m.\u001b[0m\u001b[0mdistplot\u001b[0m\u001b[1;33m(\u001b[0m\u001b[0mdf\u001b[0m\u001b[1;33m.\u001b[0m\u001b[0miloc\u001b[0m\u001b[1;33m[\u001b[0m\u001b[1;33m:\u001b[0m\u001b[1;33m,\u001b[0m\u001b[0mx\u001b[0m\u001b[1;33m]\u001b[0m\u001b[1;33m,\u001b[0m\u001b[0max\u001b[0m\u001b[1;33m=\u001b[0m\u001b[0max\u001b[0m\u001b[1;33m)\u001b[0m \u001b[1;31m#On affiche des distplot pour chacune des variable numérique.\u001b[0m\u001b[1;33m\u001b[0m\u001b[1;33m\u001b[0m\u001b[0m\n\u001b[0m\u001b[0;32m      5\u001b[0m \u001b[0mplt\u001b[0m\u001b[1;33m.\u001b[0m\u001b[0mshow\u001b[0m\u001b[1;33m(\u001b[0m\u001b[1;33m)\u001b[0m\u001b[1;33m\u001b[0m\u001b[1;33m\u001b[0m\u001b[0m\n",
      "\u001b[1;32m~\\anaconda3\\lib\\site-packages\\seaborn\\distributions.py\u001b[0m in \u001b[0;36mdistplot\u001b[1;34m(a, bins, hist, kde, rug, fit, hist_kws, kde_kws, rug_kws, fit_kws, color, vertical, norm_hist, axlabel, label, ax)\u001b[0m\n\u001b[0;32m    231\u001b[0m     \u001b[1;32mif\u001b[0m \u001b[0mkde\u001b[0m\u001b[1;33m:\u001b[0m\u001b[1;33m\u001b[0m\u001b[1;33m\u001b[0m\u001b[0m\n\u001b[0;32m    232\u001b[0m         \u001b[0mkde_color\u001b[0m \u001b[1;33m=\u001b[0m \u001b[0mkde_kws\u001b[0m\u001b[1;33m.\u001b[0m\u001b[0mpop\u001b[0m\u001b[1;33m(\u001b[0m\u001b[1;34m\"color\"\u001b[0m\u001b[1;33m,\u001b[0m \u001b[0mcolor\u001b[0m\u001b[1;33m)\u001b[0m\u001b[1;33m\u001b[0m\u001b[1;33m\u001b[0m\u001b[0m\n\u001b[1;32m--> 233\u001b[1;33m         \u001b[0mkdeplot\u001b[0m\u001b[1;33m(\u001b[0m\u001b[0ma\u001b[0m\u001b[1;33m,\u001b[0m \u001b[0mvertical\u001b[0m\u001b[1;33m=\u001b[0m\u001b[0mvertical\u001b[0m\u001b[1;33m,\u001b[0m \u001b[0max\u001b[0m\u001b[1;33m=\u001b[0m\u001b[0max\u001b[0m\u001b[1;33m,\u001b[0m \u001b[0mcolor\u001b[0m\u001b[1;33m=\u001b[0m\u001b[0mkde_color\u001b[0m\u001b[1;33m,\u001b[0m \u001b[1;33m**\u001b[0m\u001b[0mkde_kws\u001b[0m\u001b[1;33m)\u001b[0m\u001b[1;33m\u001b[0m\u001b[1;33m\u001b[0m\u001b[0m\n\u001b[0m\u001b[0;32m    234\u001b[0m         \u001b[1;32mif\u001b[0m \u001b[0mkde_color\u001b[0m \u001b[1;33m!=\u001b[0m \u001b[0mcolor\u001b[0m\u001b[1;33m:\u001b[0m\u001b[1;33m\u001b[0m\u001b[1;33m\u001b[0m\u001b[0m\n\u001b[0;32m    235\u001b[0m             \u001b[0mkde_kws\u001b[0m\u001b[1;33m[\u001b[0m\u001b[1;34m\"color\"\u001b[0m\u001b[1;33m]\u001b[0m \u001b[1;33m=\u001b[0m \u001b[0mkde_color\u001b[0m\u001b[1;33m\u001b[0m\u001b[1;33m\u001b[0m\u001b[0m\n",
      "\u001b[1;32m~\\anaconda3\\lib\\site-packages\\seaborn\\distributions.py\u001b[0m in \u001b[0;36mkdeplot\u001b[1;34m(data, data2, shade, vertical, kernel, bw, gridsize, cut, clip, legend, cumulative, shade_lowest, cbar, cbar_ax, cbar_kws, ax, **kwargs)\u001b[0m\n\u001b[0;32m    703\u001b[0m         ax = _univariate_kdeplot(data, shade, vertical, kernel, bw,\n\u001b[0;32m    704\u001b[0m                                  \u001b[0mgridsize\u001b[0m\u001b[1;33m,\u001b[0m \u001b[0mcut\u001b[0m\u001b[1;33m,\u001b[0m \u001b[0mclip\u001b[0m\u001b[1;33m,\u001b[0m \u001b[0mlegend\u001b[0m\u001b[1;33m,\u001b[0m \u001b[0max\u001b[0m\u001b[1;33m,\u001b[0m\u001b[1;33m\u001b[0m\u001b[1;33m\u001b[0m\u001b[0m\n\u001b[1;32m--> 705\u001b[1;33m                                  cumulative=cumulative, **kwargs)\n\u001b[0m\u001b[0;32m    706\u001b[0m \u001b[1;33m\u001b[0m\u001b[0m\n\u001b[0;32m    707\u001b[0m     \u001b[1;32mreturn\u001b[0m \u001b[0max\u001b[0m\u001b[1;33m\u001b[0m\u001b[1;33m\u001b[0m\u001b[0m\n",
      "\u001b[1;32m~\\anaconda3\\lib\\site-packages\\seaborn\\distributions.py\u001b[0m in \u001b[0;36m_univariate_kdeplot\u001b[1;34m(data, shade, vertical, kernel, bw, gridsize, cut, clip, legend, ax, cumulative, **kwargs)\u001b[0m\n\u001b[0;32m    293\u001b[0m         x, y = _statsmodels_univariate_kde(data, kernel, bw,\n\u001b[0;32m    294\u001b[0m                                            \u001b[0mgridsize\u001b[0m\u001b[1;33m,\u001b[0m \u001b[0mcut\u001b[0m\u001b[1;33m,\u001b[0m \u001b[0mclip\u001b[0m\u001b[1;33m,\u001b[0m\u001b[1;33m\u001b[0m\u001b[1;33m\u001b[0m\u001b[0m\n\u001b[1;32m--> 295\u001b[1;33m                                            cumulative=cumulative)\n\u001b[0m\u001b[0;32m    296\u001b[0m     \u001b[1;32melse\u001b[0m\u001b[1;33m:\u001b[0m\u001b[1;33m\u001b[0m\u001b[1;33m\u001b[0m\u001b[0m\n\u001b[0;32m    297\u001b[0m         \u001b[1;31m# Fall back to scipy if missing statsmodels\u001b[0m\u001b[1;33m\u001b[0m\u001b[1;33m\u001b[0m\u001b[1;33m\u001b[0m\u001b[0m\n",
      "\u001b[1;32m~\\anaconda3\\lib\\site-packages\\seaborn\\distributions.py\u001b[0m in \u001b[0;36m_statsmodels_univariate_kde\u001b[1;34m(data, kernel, bw, gridsize, cut, clip, cumulative)\u001b[0m\n\u001b[0;32m    365\u001b[0m     \u001b[0mfft\u001b[0m \u001b[1;33m=\u001b[0m \u001b[0mkernel\u001b[0m \u001b[1;33m==\u001b[0m \u001b[1;34m\"gau\"\u001b[0m\u001b[1;33m\u001b[0m\u001b[1;33m\u001b[0m\u001b[0m\n\u001b[0;32m    366\u001b[0m     \u001b[0mkde\u001b[0m \u001b[1;33m=\u001b[0m \u001b[0msmnp\u001b[0m\u001b[1;33m.\u001b[0m\u001b[0mKDEUnivariate\u001b[0m\u001b[1;33m(\u001b[0m\u001b[0mdata\u001b[0m\u001b[1;33m)\u001b[0m\u001b[1;33m\u001b[0m\u001b[1;33m\u001b[0m\u001b[0m\n\u001b[1;32m--> 367\u001b[1;33m     \u001b[0mkde\u001b[0m\u001b[1;33m.\u001b[0m\u001b[0mfit\u001b[0m\u001b[1;33m(\u001b[0m\u001b[0mkernel\u001b[0m\u001b[1;33m,\u001b[0m \u001b[0mbw\u001b[0m\u001b[1;33m,\u001b[0m \u001b[0mfft\u001b[0m\u001b[1;33m,\u001b[0m \u001b[0mgridsize\u001b[0m\u001b[1;33m=\u001b[0m\u001b[0mgridsize\u001b[0m\u001b[1;33m,\u001b[0m \u001b[0mcut\u001b[0m\u001b[1;33m=\u001b[0m\u001b[0mcut\u001b[0m\u001b[1;33m,\u001b[0m \u001b[0mclip\u001b[0m\u001b[1;33m=\u001b[0m\u001b[0mclip\u001b[0m\u001b[1;33m)\u001b[0m\u001b[1;33m\u001b[0m\u001b[1;33m\u001b[0m\u001b[0m\n\u001b[0m\u001b[0;32m    368\u001b[0m     \u001b[1;32mif\u001b[0m \u001b[0mcumulative\u001b[0m\u001b[1;33m:\u001b[0m\u001b[1;33m\u001b[0m\u001b[1;33m\u001b[0m\u001b[0m\n\u001b[0;32m    369\u001b[0m         \u001b[0mgrid\u001b[0m\u001b[1;33m,\u001b[0m \u001b[0my\u001b[0m \u001b[1;33m=\u001b[0m \u001b[0mkde\u001b[0m\u001b[1;33m.\u001b[0m\u001b[0msupport\u001b[0m\u001b[1;33m,\u001b[0m \u001b[0mkde\u001b[0m\u001b[1;33m.\u001b[0m\u001b[0mcdf\u001b[0m\u001b[1;33m\u001b[0m\u001b[1;33m\u001b[0m\u001b[0m\n",
      "\u001b[1;32m~\\anaconda3\\lib\\site-packages\\statsmodels\\nonparametric\\kde.py\u001b[0m in \u001b[0;36mfit\u001b[1;34m(self, kernel, bw, fft, weights, gridsize, adjust, cut, clip)\u001b[0m\n\u001b[0;32m    138\u001b[0m             density, grid, bw = kdensityfft(endog, kernel=kernel, bw=bw,\n\u001b[0;32m    139\u001b[0m                     \u001b[0madjust\u001b[0m\u001b[1;33m=\u001b[0m\u001b[0madjust\u001b[0m\u001b[1;33m,\u001b[0m \u001b[0mweights\u001b[0m\u001b[1;33m=\u001b[0m\u001b[0mweights\u001b[0m\u001b[1;33m,\u001b[0m \u001b[0mgridsize\u001b[0m\u001b[1;33m=\u001b[0m\u001b[0mgridsize\u001b[0m\u001b[1;33m,\u001b[0m\u001b[1;33m\u001b[0m\u001b[1;33m\u001b[0m\u001b[0m\n\u001b[1;32m--> 140\u001b[1;33m                     clip=clip, cut=cut)\n\u001b[0m\u001b[0;32m    141\u001b[0m         \u001b[1;32melse\u001b[0m\u001b[1;33m:\u001b[0m\u001b[1;33m\u001b[0m\u001b[1;33m\u001b[0m\u001b[0m\n\u001b[0;32m    142\u001b[0m             density, grid, bw = kdensity(endog, kernel=kernel, bw=bw,\n",
      "\u001b[1;32m~\\anaconda3\\lib\\site-packages\\statsmodels\\nonparametric\\kde.py\u001b[0m in \u001b[0;36mkdensityfft\u001b[1;34m(X, kernel, bw, weights, gridsize, adjust, clip, cut, retgrid)\u001b[0m\n\u001b[0;32m    451\u001b[0m         \u001b[0mbw\u001b[0m \u001b[1;33m=\u001b[0m \u001b[0mfloat\u001b[0m\u001b[1;33m(\u001b[0m\u001b[0mbw\u001b[0m\u001b[1;33m)\u001b[0m\u001b[1;33m\u001b[0m\u001b[1;33m\u001b[0m\u001b[0m\n\u001b[0;32m    452\u001b[0m     \u001b[1;32mexcept\u001b[0m\u001b[1;33m:\u001b[0m\u001b[1;33m\u001b[0m\u001b[1;33m\u001b[0m\u001b[0m\n\u001b[1;32m--> 453\u001b[1;33m         \u001b[0mbw\u001b[0m \u001b[1;33m=\u001b[0m \u001b[0mbandwidths\u001b[0m\u001b[1;33m.\u001b[0m\u001b[0mselect_bandwidth\u001b[0m\u001b[1;33m(\u001b[0m\u001b[0mX\u001b[0m\u001b[1;33m,\u001b[0m \u001b[0mbw\u001b[0m\u001b[1;33m,\u001b[0m \u001b[0mkern\u001b[0m\u001b[1;33m)\u001b[0m \u001b[1;31m# will cross-val fit this pattern?\u001b[0m\u001b[1;33m\u001b[0m\u001b[1;33m\u001b[0m\u001b[0m\n\u001b[0m\u001b[0;32m    454\u001b[0m     \u001b[0mbw\u001b[0m \u001b[1;33m*=\u001b[0m \u001b[0madjust\u001b[0m\u001b[1;33m\u001b[0m\u001b[1;33m\u001b[0m\u001b[0m\n\u001b[0;32m    455\u001b[0m \u001b[1;33m\u001b[0m\u001b[0m\n",
      "\u001b[1;32m~\\anaconda3\\lib\\site-packages\\statsmodels\\nonparametric\\bandwidths.py\u001b[0m in \u001b[0;36mselect_bandwidth\u001b[1;34m(x, bw, kernel)\u001b[0m\n\u001b[0;32m    172\u001b[0m         \u001b[1;31m# eventually this can fall back on another selection criterion.\u001b[0m\u001b[1;33m\u001b[0m\u001b[1;33m\u001b[0m\u001b[1;33m\u001b[0m\u001b[0m\n\u001b[0;32m    173\u001b[0m         \u001b[0merr\u001b[0m \u001b[1;33m=\u001b[0m \u001b[1;34m\"Selected KDE bandwidth is 0. Cannot estiamte density.\"\u001b[0m\u001b[1;33m\u001b[0m\u001b[1;33m\u001b[0m\u001b[0m\n\u001b[1;32m--> 174\u001b[1;33m         \u001b[1;32mraise\u001b[0m \u001b[0mRuntimeError\u001b[0m\u001b[1;33m(\u001b[0m\u001b[0merr\u001b[0m\u001b[1;33m)\u001b[0m\u001b[1;33m\u001b[0m\u001b[1;33m\u001b[0m\u001b[0m\n\u001b[0m\u001b[0;32m    175\u001b[0m     \u001b[1;32melse\u001b[0m\u001b[1;33m:\u001b[0m\u001b[1;33m\u001b[0m\u001b[1;33m\u001b[0m\u001b[0m\n\u001b[0;32m    176\u001b[0m         \u001b[1;32mreturn\u001b[0m \u001b[0mbandwidth\u001b[0m\u001b[1;33m\u001b[0m\u001b[1;33m\u001b[0m\u001b[0m\n",
      "\u001b[1;31mRuntimeError\u001b[0m: Selected KDE bandwidth is 0. Cannot estiamte density."
     ]
    },
    {
     "data": {
      "image/png": "[encoded data removed]",
      "text/plain": [
       "<Figure size 1080x1080 with 4 Axes>"
      ]
     },
     "metadata": {
      "needs_background": "light"
     },
     "output_type": "display_data"
    }
   ],
   "source": [
    "num_feature=[6,7,8,9] #Les indexs des variables numétiques. \n",
    "fig, axes = plt.subplots(ncols=2, nrows=2, figsize=(15,15))#On fixe notre subplot\n",
    "for x, ax in zip(num_feature, axes.flat): #On passe en revue toute nos colonnes \n",
    "    sns.distplot(df.iloc[:,x],ax=ax) #On affiche des distplot pour chacune des variable numérique. \n",
    "plt.show()"
   ]
  },
  {
   "cell_type": "markdown",
   "metadata": {},
   "source": [
    "Avec ces graphique on repére une grosse tendance concernant les mensualité et l'income. Celà ce reflète par un gros pic de densité. Le LoanAmount est plus étendue avec un pic à 180 a peu près. Pour le CoapplicantIncome la forte présence de 0 (C'est à dire l'absence de revenu secondaire), nuit grandement à la lisibilité du graphique. A noter également que pour l'instant on ne peut pas visualiser les données concernant les Dependants a cause de la présence de +3"
   ]
  },
  {
   "cell_type": "markdown",
   "metadata": {},
   "source": [
    "### Variable qualitatif"
   ]
  },
  {
   "cell_type": "code",
   "execution_count": null,
   "metadata": {},
   "outputs": [],
   "source": [
    "cat_feature=[1,2,3,4,5,10,11] # Les indexs de nos variable qualitatif (Hors Target)\n",
    "\n",
    "fig, axes = plt.subplots(ncols=3, nrows=3, figsize=(15,10)) # Même principe que pour la boucle précédente mais avec un countplot\n",
    "plt.suptitle('Répartition des variables')\n",
    "for x, ax in zip(cat_feature, axes.flat):\n",
    "    sns.countplot(df.iloc[:,x],ax=ax)\n",
    "plt.show()"
   ]
  },
  {
   "cell_type": "markdown",
   "metadata": {},
   "source": [
    "Ici on a une visualisation de nos données catégorical et la répartition de nos données dans ces catégories. On a pas de belle parité dans nos données mais étant donné qu'il ne s'agit pas de notre target ce n'est pas important d'équilibré ces variables.  "
   ]
  },
  {
   "cell_type": "markdown",
   "metadata": {},
   "source": [
    "### Target"
   ]
  },
  {
   "cell_type": "code",
   "execution_count": null,
   "metadata": {},
   "outputs": [],
   "source": [
    "#Visualisation de notre target.\n",
    "sns.countplot(df.Loan_Status)"
   ]
  },
  {
   "cell_type": "code",
   "execution_count": null,
   "metadata": {},
   "outputs": [],
   "source": []
  },
  {
   "cell_type": "code",
   "execution_count": null,
   "metadata": {},
   "outputs": [],
   "source": [
    "#Représentation en pie plot pour avoir une vue des proportions en %.\n",
    "\n",
    "plt.pie(x=df['Loan_Status'].value_counts(), autopct=\"%1.1f%%\", shadow=True,\n",
    "        startangle=90, radius=1.5, colors = ['Green', 'Red'])\n",
    "plt.legend(labels=df['Loan_Status'])\n",
    "plt.show()"
   ]
  },
  {
   "cell_type": "markdown",
   "metadata": {},
   "source": [
    "Ici on remarque un petit déséquilibre dans nos targets qu'il faudra peut-être palier ce n'est pas forcément obligatoire avec 30%"
   ]
  },
  {
   "cell_type": "markdown",
   "metadata": {},
   "source": [
    "### <a id='3'><center><font color=\"INDIANRED\">4) Visualisation valeurs manquantes</font></center></a>"
   ]
  },
  {
   "cell_type": "code",
   "execution_count": null,
   "metadata": {},
   "outputs": [],
   "source": [
    "msno.matrix(df)\n",
    "#Représente visuelement les valeurs manquante en blanc."
   ]
  },
  {
   "cell_type": "code",
   "execution_count": null,
   "metadata": {},
   "outputs": [],
   "source": [
    "# Le nombre de valeurs null par colonne. \n",
    "df.isnull().sum()"
   ]
  },
  {
   "cell_type": "code",
   "execution_count": null,
   "metadata": {},
   "outputs": [],
   "source": [
    "df.isnull().sum()/len(df)*100"
   ]
  },
  {
   "cell_type": "code",
   "execution_count": null,
   "metadata": {},
   "outputs": [],
   "source": [
    "msno.bar(df)"
   ]
  },
  {
   "cell_type": "markdown",
   "metadata": {},
   "source": [
    "Cette représentation représente le nombre de valeur non-null dans le dataset."
   ]
  },
  {
   "cell_type": "code",
   "execution_count": null,
   "metadata": {},
   "outputs": [],
   "source": [
    "msno.heatmap(df)"
   ]
  },
  {
   "cell_type": "markdown",
   "metadata": {},
   "source": [
    "Cette visualisation peut être intéressessante mais j'ai encore du mal à l'analyser. Il est censé représenté le liens entre l'absence de variable. \n",
    "\n",
    "1 représente que la présence d'une variable implique la présence d'une variable.\n",
    "-1 représente que la présence d'une variable implique l'absence de l'autre variable. "
   ]
  },
  {
   "cell_type": "markdown",
   "metadata": {},
   "source": [
    "#### Conclusion\n",
    "Nous avons donc 7 colonnes avec des valeurs null à traiter avant de poursuivre: \n",
    "<ul><li>Gender</li>\n",
    "    <li>Married</li>\n",
    "    <li>Dependants</li>\n",
    "    <li>Self_Employed</li>\n",
    "    <li>Loan_amount</li>\n",
    "    <li>Loan_amount_term</li>\n",
    "    <li>Credit History</li>"
   ]
  },
  {
   "cell_type": "markdown",
   "metadata": {},
   "source": [
    "### <a id='5'><center><font color=\"INDIANRED\">5) Nettoyage des données - Gestion des Valeurs Manquante</font></center></a>"
   ]
  },
  {
   "cell_type": "markdown",
   "metadata": {},
   "source": []
  },
  {
   "cell_type": "markdown",
   "metadata": {},
   "source": [
    "Maintenant il va nous falloir élaborer des stratégies pour enlever ces NaN. Chaque variable aura un traitement particulier pour garder un maximum la précision de nos données.   "
   ]
  },
  {
   "cell_type": "code",
   "execution_count": null,
   "metadata": {},
   "outputs": [],
   "source": [
    "df_cln0= df.copy()\n",
    "df_cln0.isnull().sum()\n",
    "#On créer un nouveau df pour travailler (Etant donné que l'on va changé beaucoup de chose à partir de là).\n",
    "#On itérera cette variable (df_cln1, dfcln2...) a chaque changement. "
   ]
  },
  {
   "cell_type": "markdown",
   "metadata": {},
   "source": [
    "### <a id=\"6\">Variable Qualitatif</a>"
   ]
  },
  {
   "cell_type": "markdown",
   "metadata": {},
   "source": [
    "#### Gender\n",
    "Ici il y a deux possibilités : Male or Female. \n",
    "Difficile de prédire cette valeurs en fonction des autres variable car cette variable est théoriquement indépendante. Je vais donc remplacer par une valeur fixe qui aura pour effet d'équilibrer (Légérement) cette features."
   ]
  },
  {
   "cell_type": "code",
   "execution_count": null,
   "metadata": {},
   "outputs": [],
   "source": [
    "sns.countplot(df_cln0.Gender)"
   ]
  },
  {
   "cell_type": "markdown",
   "metadata": {},
   "source": [
    "On va donc fixer (Arbitrairement nos valeurs manquante en Female)."
   ]
  },
  {
   "cell_type": "code",
   "execution_count": null,
   "metadata": {},
   "outputs": [],
   "source": [
    "df_cln1=df_cln0.copy()\n",
    "df_cln1[\"Gender\"]=df_cln1.Gender.fillna(\"Female\")\n",
    "#On rempli nos NaN avec une valeur fixe Female."
   ]
  },
  {
   "cell_type": "code",
   "execution_count": null,
   "metadata": {},
   "outputs": [],
   "source": [
    "df_cln1.Gender.isnull().sum()"
   ]
  },
  {
   "cell_type": "markdown",
   "metadata": {},
   "source": [
    "#### Married\n",
    "Ici il est plus difficle de statuer car le fait d'être mariée peut renforcer l'aspect de stabilité d'un foyer auprès de l'organisme bancaire. Visualisons dans un premier temps. "
   ]
  },
  {
   "cell_type": "code",
   "execution_count": null,
   "metadata": {},
   "outputs": [],
   "source": [
    "df_cln1.loc[df_cln1['Married'].isnull()]\n",
    "#On remarque que l'ID 104 a un CoapplicantIncome non null on peut partir du postulat qu'il y a donc une seconde personne \n",
    "#Dans le foyer probablement un conjoint. \n",
    "#Pour les autres rien.\n",
    "#On va donc remplacer la ligne 104 par Yes et les 228 et 435 par No"
   ]
  },
  {
   "cell_type": "code",
   "execution_count": null,
   "metadata": {},
   "outputs": [],
   "source": [
    "#\n",
    "df_cln1.iloc[104,2]=\"Yes\"\n",
    "df_cln1.iloc[[228,435],2]=\"No\""
   ]
  },
  {
   "cell_type": "code",
   "execution_count": null,
   "metadata": {},
   "outputs": [],
   "source": [
    "df_cln1.Married.isnull().sum()"
   ]
  },
  {
   "cell_type": "markdown",
   "metadata": {},
   "source": [
    "#### Dépendents\n",
    "\n",
    "   Le nombre de personne à charge n'est pas évident à deviner car il n'aura a priorie aucun impact direct sur les autres variables. Cependant on peut imaginer une corélation entre le fait d'être marrié et le fait d'avoir des enfants (Même si il existe des exceptions). "
   ]
  },
  {
   "cell_type": "code",
   "execution_count": null,
   "metadata": {},
   "outputs": [],
   "source": [
    "sns.countplot(\"Married\",hue=\"Dependents\", data=df_cln1)\n",
    "#Effectivement, il y a une forte majorité de 0 personne à charge pour les célibataires. "
   ]
  },
  {
   "cell_type": "code",
   "execution_count": null,
   "metadata": {},
   "outputs": [],
   "source": [
    "df_cln1.loc[df.Dependents.isnull()]"
   ]
  },
  {
   "cell_type": "code",
   "execution_count": null,
   "metadata": {},
   "outputs": [],
   "source": [
    "df_cln2=df_cln1.copy()"
   ]
  },
  {
   "cell_type": "code",
   "execution_count": null,
   "metadata": {},
   "outputs": [],
   "source": [
    "#On modifie déjà nos célibataires avec un 0 en dépendents"
   ]
  },
  {
   "cell_type": "code",
   "execution_count": null,
   "metadata": {},
   "outputs": [],
   "source": [
    "df_cln2.Dependents.loc[((df_cln2.Dependents.isnull())&(df_cln2.Married == \"No\"))]=\"0\""
   ]
  },
  {
   "cell_type": "code",
   "execution_count": null,
   "metadata": {},
   "outputs": [],
   "source": [
    "df_cln2.loc[df_cln2.Dependents.isnull()]\n",
    "#Il ne nous reste plus que des gens marrié avec un nombre indéterminté de Dependents\n"
   ]
  },
  {
   "cell_type": "code",
   "execution_count": null,
   "metadata": {},
   "outputs": [],
   "source": [
    "#Partons du postulats que les gens marrié vivant à la campagne sont plus enclin à faire des enfants.\n",
    "sns.countplot(hue=\"Dependents\", x=\"Property_Area\", data=df_cln2.loc[df_cln2['Married']==\"Yes\"])\n",
    "#C'est assez peu concluant."
   ]
  },
  {
   "cell_type": "code",
   "execution_count": null,
   "metadata": {},
   "outputs": [],
   "source": [
    "#Un haut revenu est un terreau propice pour des enfants.\n",
    "sns.catplot(x=\"Dependents\", y=\"ApplicantIncome\", data=df_cln2)"
   ]
  },
  {
   "cell_type": "code",
   "execution_count": null,
   "metadata": {},
   "outputs": [],
   "source": [
    "sns.boxplot(x=\"Dependents\",y=\"ApplicantIncome\", data=df_cln2.loc[df_cln2['Married']==\"Yes\"])\n",
    "plt.ylim(0,15000)\n",
    "#Passé 5000 applicantIncome il y a plus de chance d'avoir 1 Dependents. "
   ]
  },
  {
   "cell_type": "code",
   "execution_count": null,
   "metadata": {},
   "outputs": [],
   "source": [
    "#Un dernier axe serait de vérifier le selfemployement\n",
    "\n",
    "sns.countplot(hue=\"Dependents\", x=\"Self_Employed\", data=df_cln2.loc[df_cln2['Married']==\"Yes\"])"
   ]
  },
  {
   "cell_type": "markdown",
   "metadata": {},
   "source": [
    "On a donc étudié 3 variables en liaison avec le nombre de Dependants nous pouvons poser quelques régle de subtistution. Le plus marquant reste l'income. \n",
    "<ul><li>Les clients avec un income supplémentaire de 5000 seront fixé avec un dependants 1</li>\n",
    "    <li>En dessous de 5000 les clients veront leur dépendants fixé à 0</li>"
   ]
  },
  {
   "cell_type": "code",
   "execution_count": null,
   "metadata": {},
   "outputs": [],
   "source": [
    "df_cln2.Dependents.loc[((df_cln2.Dependents.isnull())&(df_cln2.ApplicantIncome >= 5000))]=\"1\"\n",
    "df_cln2.Dependents.loc[((df_cln2.Dependents.isnull())&(df_cln2.ApplicantIncome <= 5000))]=\"0\""
   ]
  },
  {
   "cell_type": "code",
   "execution_count": null,
   "metadata": {},
   "outputs": [],
   "source": [
    "df_cln2.isnull().sum()"
   ]
  },
  {
   "cell_type": "markdown",
   "metadata": {},
   "source": [
    "#### Self_Employed\n",
    "Le status d'auto entrepreneur peut être un frein à l'obtention d'un crédit.\n",
    "Une écrasante majorité des clients ne le sont pas."
   ]
  },
  {
   "cell_type": "code",
   "execution_count": null,
   "metadata": {},
   "outputs": [],
   "source": [
    "\n",
    "plt.subplot(1,2,1)\n",
    "sns.countplot(\"Loan_Status\", data=df_cln2.loc[df_cln2['Self_Employed']==\"Yes\"])\n",
    "\n",
    "plt.subplot(1,2,2)\n",
    "sns.countplot(\"Loan_Status\", data=df_cln2.loc[df_cln2['Self_Employed']==\"No\"])\n"
   ]
  },
  {
   "cell_type": "code",
   "execution_count": null,
   "metadata": {},
   "outputs": [],
   "source": [
    "# Le graphique ci-dessus montre une certaine indépendance de cette variable.  "
   ]
  },
  {
   "cell_type": "code",
   "execution_count": null,
   "metadata": {},
   "outputs": [],
   "source": [
    "df_cln2.loc[df_cln2['Self_Employed']==\"No\"].describe()"
   ]
  },
  {
   "cell_type": "code",
   "execution_count": null,
   "metadata": {},
   "outputs": [],
   "source": [
    "df_cln2.loc[df_cln2['Self_Employed']==\"Yes\"].describe()"
   ]
  },
  {
   "cell_type": "code",
   "execution_count": null,
   "metadata": {},
   "outputs": [],
   "source": [
    "#On remarque une moyenne d'income des Self_employed plus élevé que pour le client classique.\n",
    "#Cependant le max des clients classique monte plus haut et le min descent plus bas"
   ]
  },
  {
   "cell_type": "code",
   "execution_count": null,
   "metadata": {},
   "outputs": [],
   "source": [
    "df_cln2.loc[df_cln2['Self_Employed'].isnull()]"
   ]
  },
  {
   "cell_type": "markdown",
   "metadata": {},
   "source": [
    "On va partir de ce postulat: \n",
    "   <ul><li>Au delà de 4000 on va fixer notre client en Yes</li>\n",
    "    <li>En dessous il sera en No</li></ul>"
   ]
  },
  {
   "cell_type": "code",
   "execution_count": null,
   "metadata": {},
   "outputs": [],
   "source": [
    "df_cln3=df_cln2.copy()"
   ]
  },
  {
   "cell_type": "code",
   "execution_count": null,
   "metadata": {},
   "outputs": [],
   "source": [
    "df_cln3.Self_Employed.loc[(df_cln3.Self_Employed.isnull())&(df_cln2.ApplicantIncome >= 4000)]=\"Yes\"\n",
    "df_cln3.Self_Employed.loc[(df_cln3.Self_Employed.isnull())&(df_cln2.ApplicantIncome <= 4000)]=\"No\""
   ]
  },
  {
   "cell_type": "markdown",
   "metadata": {},
   "source": [
    "#### Credit History\n",
    "\n",
    "Encore une fois il est difficile de deviner si un client a déjà eu un crédit. On peut imaginer que de très bas revenu n'y ont jamais eu accès"
   ]
  },
  {
   "cell_type": "code",
   "execution_count": null,
   "metadata": {},
   "outputs": [],
   "source": [
    "sns.catplot(y=\"ApplicantIncome\", x=\"Credit_History\", data=df_cln3)\n",
    "plt.ylim(0,10000)"
   ]
  },
  {
   "cell_type": "code",
   "execution_count": null,
   "metadata": {},
   "outputs": [],
   "source": [
    "df_cln3.loc[df_cln3.Credit_History == 1].describe()"
   ]
  },
  {
   "cell_type": "code",
   "execution_count": null,
   "metadata": {},
   "outputs": [],
   "source": [
    "df_cln3.loc[df_cln3.Credit_History == 0].describe()"
   ]
  },
  {
   "cell_type": "code",
   "execution_count": null,
   "metadata": {},
   "outputs": [],
   "source": [
    "sns.countplot(\"Loan_Status\", data=df_cln3.loc[df_cln3.Credit_History == 0])\n",
    "#Une majorité écrasante de Credit_History  0 ce voient refusé un nouveau crédit."
   ]
  },
  {
   "cell_type": "markdown",
   "metadata": {},
   "source": [
    "On va donc partir sur ce postulat si Loan_Status est égale à N alors Credit_History est égale à 0 et vis versa"
   ]
  },
  {
   "cell_type": "code",
   "execution_count": null,
   "metadata": {},
   "outputs": [],
   "source": [
    "df_cln4=df_cln3.copy()"
   ]
  },
  {
   "cell_type": "code",
   "execution_count": null,
   "metadata": {},
   "outputs": [],
   "source": [
    "df_cln4.Credit_History.loc[(df_cln4.Credit_History.isnull())&(df_cln4.Loan_Status== \"N\")]= 0\n",
    "df_cln4.Credit_History.loc[(df_cln4.Credit_History.isnull())&(df_cln4.Loan_Status== \"Y\")]= 1"
   ]
  },
  {
   "cell_type": "code",
   "execution_count": null,
   "metadata": {},
   "outputs": [],
   "source": [
    "df_cln4.isnull().sum()"
   ]
  },
  {
   "cell_type": "markdown",
   "metadata": {},
   "source": [
    "### <a id=\"7\">Variable quantitative</a>"
   ]
  },
  {
   "cell_type": "markdown",
   "metadata": {},
   "source": [
    "#### LoanAmount\n",
    "Voyons déjà si il n'y aurait pas un lien entre nos deux variable lié au prêt.\n",
    "On peut imaginer que les mensualité sont directement lié au montant total du prêt (Il nous manque cependant les mensualités."
   ]
  },
  {
   "cell_type": "code",
   "execution_count": null,
   "metadata": {},
   "outputs": [],
   "source": [
    "sns.relplot(x=df_cln4.LoanAmount*100, y=\"Loan_Amount_Term\", data=df_cln4)"
   ]
  },
  {
   "cell_type": "code",
   "execution_count": null,
   "metadata": {},
   "outputs": [],
   "source": [
    "df_cln4.Loan_Amount_Term.unique()"
   ]
  },
  {
   "cell_type": "code",
   "execution_count": null,
   "metadata": {},
   "outputs": [],
   "source": [
    "df_cln4.loc[df_cln4[\"LoanAmount\"].isnull()]\n",
    "#Nombre des Loan_Amount_Term sont égaux à 360"
   ]
  },
  {
   "cell_type": "code",
   "execution_count": null,
   "metadata": {},
   "outputs": [],
   "source": [
    "sns.countplot(\"Loan_Amount_Term\",hue=\"Loan_Status\",data=df_cln4)\n",
    "#La donnée à 360 pour le Loan_Amount_Term est grandement majoritaire."
   ]
  },
  {
   "cell_type": "code",
   "execution_count": null,
   "metadata": {},
   "outputs": [],
   "source": [
    "df_cln4.loc[(df_cln4.Loan_Amount_Term == 360) & (df_cln4.Loan_Status==\"Y\")].describe()"
   ]
  },
  {
   "cell_type": "code",
   "execution_count": null,
   "metadata": {},
   "outputs": [],
   "source": [
    "df_cln4.loc[(df_cln4.Loan_Amount_Term == 360) & (df_cln4.Loan_Status==\"N\")].describe()"
   ]
  },
  {
   "cell_type": "code",
   "execution_count": null,
   "metadata": {},
   "outputs": [],
   "source": [
    "df_cln5=df_cln4.copy()"
   ]
  },
  {
   "cell_type": "code",
   "execution_count": null,
   "metadata": {},
   "outputs": [],
   "source": [
    "#Ici on remplace les valeurs Nan de ApplicantIncome par la mediane (Arrondie)\n",
    "# des samples avec un Loan_Amount_Term égale à 360 et appartenant à la target N et Y\n",
    "df_cln5.LoanAmount.loc[(df_cln5.LoanAmount.isnull()) & (df_cln5.Loan_Amount_Term == 360) & (df_cln4.Loan_Status==\"Y\")]= round(df_cln4.ApplicantIncome.loc[(df_cln5.Loan_Amount_Term == 360) & (df_cln5.Loan_Status==\"Y\")].median(),0)\n",
    "df_cln5.LoanAmount.loc[(df_cln5.LoanAmount.isnull()) & (df_cln5.Loan_Amount_Term == 360) & (df_cln4.Loan_Status==\"N\")]= round(df_cln4.ApplicantIncome.loc[(df_cln5.Loan_Amount_Term == 360) & (df_cln5.Loan_Status==\"N\")].median(),0)"
   ]
  },
  {
   "cell_type": "code",
   "execution_count": null,
   "metadata": {},
   "outputs": [],
   "source": [
    "c= df_cln4.columns\n",
    "c[0]\n",
    "z= range(0,len(c)-1)\n",
    "\n",
    "for x,z in zip(c,z):\n",
    "    print(c[z],len(df_cln4[x].unique()))"
   ]
  },
  {
   "cell_type": "code",
   "execution_count": null,
   "metadata": {},
   "outputs": [],
   "source": [
    "round(df_cln4.loc[(df_cln5.Loan_Amount_Term == 360) & (df_cln5.Loan_Status==\"Y\")].median(),0)"
   ]
  },
  {
   "cell_type": "code",
   "execution_count": null,
   "metadata": {},
   "outputs": [],
   "source": [
    "df_cln5.loc[df_cln5.LoanAmount.isnull()]\n",
    "#Faisons de même avec les 180 et 240 !"
   ]
  },
  {
   "cell_type": "code",
   "execution_count": null,
   "metadata": {},
   "outputs": [],
   "source": [
    "df_cln5.LoanAmount.loc[(df_cln5.LoanAmount.isnull()) & (df_cln5.Loan_Amount_Term == 240) & (df_cln5.Loan_Status==\"Y\")]= round(df_cln5.ApplicantIncome.loc[(df_cln5.Loan_Amount_Term == 240) & (df_cln5.Loan_Status==\"Y\")].median(),0)\n",
    "df_cln5.LoanAmount.loc[(df_cln5.LoanAmount.isnull()) & (df_cln5.Loan_Amount_Term == 240) & (df_cln5.Loan_Status==\"N\")]= round(df_cln5.ApplicantIncome.loc[(df_cln5.Loan_Amount_Term == 240) & (df_cln5.Loan_Status==\"N\")].median(),0)"
   ]
  },
  {
   "cell_type": "code",
   "execution_count": null,
   "metadata": {},
   "outputs": [],
   "source": [
    "df_cln5.loc[df_cln5.LoanAmount.isnull()]"
   ]
  },
  {
   "cell_type": "code",
   "execution_count": null,
   "metadata": {},
   "outputs": [],
   "source": [
    "df_cln5.LoanAmount.loc[(df_cln5.LoanAmount.isnull()) & (df_cln5.Loan_Amount_Term == 180) & (df_cln5.Loan_Status==\"Y\")]= round(df_cln5.ApplicantIncome.loc[(df_cln5.Loan_Amount_Term == 180) & (df_cln5.Loan_Status==\"Y\")].median(),0)\n",
    "df_cln5.LoanAmount.loc[(df_cln5.LoanAmount.isnull()) & (df_cln5.Loan_Amount_Term == 180) & (df_cln5.Loan_Status==\"N\")]= round(df_cln5.ApplicantIncome.loc[(df_cln5.Loan_Amount_Term == 180) & (df_cln5.Loan_Status==\"N\")].median(),0)"
   ]
  },
  {
   "cell_type": "code",
   "execution_count": null,
   "metadata": {},
   "outputs": [],
   "source": [
    "df_cln5.isnull().sum()"
   ]
  },
  {
   "cell_type": "markdown",
   "metadata": {},
   "source": [
    "#### Loan_Amount_Term\n",
    "\n",
    "On pourrait imaginer faire pareille quand dans le cas précédents cependant ici le LoanAmount a beaucoup plus de valeurs différentes. On va plutôt réfléchir à remplacer tout nos NaN par ce qui est a la fois le mode et la median de notre colonne Loan_Amount_Term soit 360"
   ]
  },
  {
   "cell_type": "code",
   "execution_count": null,
   "metadata": {},
   "outputs": [],
   "source": [
    "df_cln5.loc[df_cln5.Loan_Amount_Term.isnull()]"
   ]
  },
  {
   "cell_type": "code",
   "execution_count": null,
   "metadata": {},
   "outputs": [],
   "source": [
    "df_cln5.describe()"
   ]
  },
  {
   "cell_type": "code",
   "execution_count": null,
   "metadata": {},
   "outputs": [],
   "source": [
    "sns.countplot(\"Loan_Amount_Term\", hue=\"Loan_Status\", data=df_cln5)\n",
    "#On peut vraiment voir l'écrasante domination du Loan_Amount_Term à 360"
   ]
  },
  {
   "cell_type": "code",
   "execution_count": null,
   "metadata": {},
   "outputs": [],
   "source": [
    "df_cln6=df_cln5.copy()"
   ]
  },
  {
   "cell_type": "code",
   "execution_count": null,
   "metadata": {},
   "outputs": [],
   "source": [
    "df_cln6.Loan_Amount_Term.loc[df_cln6.Loan_Amount_Term.isnull()]= 360"
   ]
  },
  {
   "cell_type": "code",
   "execution_count": null,
   "metadata": {},
   "outputs": [],
   "source": [
    "df_cln6.isnull().sum()"
   ]
  },
  {
   "cell_type": "markdown",
   "metadata": {},
   "source": [
    "#### Conclusion\n",
    "Nos données sont maintenant totalement rempli avec nos nouvelles valeurs explorons maintenant les type de nos variables. "
   ]
  },
  {
   "cell_type": "markdown",
   "metadata": {},
   "source": [
    "### <a id='8'><center><font color=\"INDIANRED\">6) Nettoyage des données - Modification types des données</font></center></a>"
   ]
  },
  {
   "cell_type": "markdown",
   "metadata": {},
   "source": [
    "Ici on peut imaginer changer certaine de nos données: \n",
    "<ul><li>Changer les variables discréte en numérique pour être sure qu'elle soit accepté par nos algorithme</li>\n",
    "    <li>Générer peut-être une colonne par résultat catégorical (Exemple: Male 0 ou 1 / Female 0 ou 1)</li>\n",
    "    <li>Restituer leur forme inital aux donnée (LoanAmount x 100)</li>\n",
    "    <li>Vérifier que les types sont cohérents</li></ul>"
   ]
  },
  {
   "cell_type": "code",
   "execution_count": null,
   "metadata": {},
   "outputs": [],
   "source": [
    "df_cln6.info()"
   ]
  },
  {
   "cell_type": "markdown",
   "metadata": {},
   "source": [
    "### <a id=\"9\">Gestion des variables categorical</a>"
   ]
  },
  {
   "cell_type": "markdown",
   "metadata": {},
   "source": [
    "#### One Hot encoder"
   ]
  },
  {
   "cell_type": "markdown",
   "metadata": {},
   "source": [
    "La bibliothéques One Hot encoder permet de généré des colonnes pour stocker toutes les possibilités d'une variable qualitatif au format booléen (Je suis encore en recherche sur cette fonction étant donné que c'est ma première tentative avec."
   ]
  },
  {
   "cell_type": "code",
   "execution_count": null,
   "metadata": {},
   "outputs": [],
   "source": [
    "ohe= OneHotEncoder()"
   ]
  },
  {
   "cell_type": "code",
   "execution_count": null,
   "metadata": {},
   "outputs": [],
   "source": [
    "df_cln7= df_cln6.copy()"
   ]
  },
  {
   "cell_type": "code",
   "execution_count": null,
   "metadata": {},
   "outputs": [],
   "source": [
    "ohe.fit(df_cln7)"
   ]
  },
  {
   "cell_type": "code",
   "execution_count": null,
   "metadata": {},
   "outputs": [],
   "source": [
    "df_cln8=ohe.transform(df_cln7)"
   ]
  },
  {
   "cell_type": "code",
   "execution_count": null,
   "metadata": {},
   "outputs": [],
   "source": [
    "df_cln7"
   ]
  },
  {
   "cell_type": "code",
   "execution_count": null,
   "metadata": {},
   "outputs": [],
   "source": [
    "le=LabelEncoder()"
   ]
  },
  {
   "cell_type": "code",
   "execution_count": null,
   "metadata": {},
   "outputs": [],
   "source": [
    "integer_encoded = le.fit_transform(df_cln7[\"Married\"])"
   ]
  },
  {
   "cell_type": "code",
   "execution_count": null,
   "metadata": {},
   "outputs": [],
   "source": [
    "integer_encoded.shape"
   ]
  },
  {
   "cell_type": "code",
   "execution_count": null,
   "metadata": {},
   "outputs": [],
   "source": [
    "#On boucle sur notre LabelEncoder qui permet de remplacer nos catégorie par des numéros.\n",
    "df_cln8=df_cln7.copy()\n",
    "for n in df_cln8.iloc[:,1:].select_dtypes('object').columns :\n",
    "    df_cln8[n]=le.fit_transform(y=df_cln8[n])\n",
    "    "
   ]
  },
  {
   "cell_type": "code",
   "execution_count": null,
   "metadata": {},
   "outputs": [],
   "source": [
    "df_cln8\n",
    "#Plus de string que des chiffre (Ce que nous souhaitions)"
   ]
  },
  {
   "cell_type": "code",
   "execution_count": null,
   "metadata": {},
   "outputs": [],
   "source": [
    "#Maintenant on va séparer nos colonnes catégorie en n colonnes booléene \n",
    "ohe= OneHotEncoder(sparse=False)"
   ]
  },
  {
   "cell_type": "code",
   "execution_count": null,
   "metadata": {},
   "outputs": [],
   "source": [
    "#Déjà avec la colonne Gender pour comprendre le fonctionnement pas à pas. \n",
    "ohe= OneHotEncoder(sparse=True)\n",
    "integer_encoded= df_cln8[[\"Gender\"]]\n",
    "X= ohe.fit_transform(integer_encoded)"
   ]
  },
  {
   "cell_type": "code",
   "execution_count": null,
   "metadata": {},
   "outputs": [],
   "source": []
  },
  {
   "cell_type": "code",
   "execution_count": null,
   "metadata": {},
   "outputs": [],
   "source": [
    "X"
   ]
  },
  {
   "cell_type": "code",
   "execution_count": null,
   "metadata": {},
   "outputs": [],
   "source": [
    "df_cln8[[\"Female\",\"Male\"]]= X"
   ]
  },
  {
   "cell_type": "code",
   "execution_count": null,
   "metadata": {},
   "outputs": [],
   "source": [
    "df_cln8.sum()"
   ]
  },
  {
   "cell_type": "markdown",
   "metadata": {},
   "source": [
    "#Essayons de gagner du temps en implémentant nos données en block. \n",
    "indexC = [2,3,4,5,10,11] #Nos colonnes catégorical (Hors target)\n",
    "X2,X3,X4,X5,X10,X11= ohe.fit_transform(df_cln8.iloc[:,indexC])\n",
    "X2= ohe.fit_transform(df_cln8.iloc[:,indexC])\n",
    "print(X2[:,1])\n",
    "#ça n'a pas fonctionné comme je l'espérais je n'arrive pas a traiter les données tel qu'elle me sont renvoyé ici je vais\n",
    "#donc fonctionner features par feature mais en créant une fonction"
   ]
  },
  {
   "cell_type": "code",
   "execution_count": null,
   "metadata": {},
   "outputs": [],
   "source": [
    "def encoder_multi(df,colname):\n",
    "    ohe= OneHotEncoder(sparse=False)\n",
    "    integer_encoded= df[[colname]]\n",
    "    X= ohe.fit_transform(integer_encoded)\n",
    "    return X"
   ]
  },
  {
   "cell_type": "markdown",
   "metadata": {},
   "source": [
    "#### Notes\n",
    "Je tatonne encore avec la fonction OneHotEncoder je vais donc comparé de visuel les 10 première ligne de mes résultats\n",
    "Avec le df en question non modifé et je note les correspondances."
   ]
  },
  {
   "cell_type": "code",
   "execution_count": null,
   "metadata": {},
   "outputs": [],
   "source": [
    "#Notre DF_cln7 ou les catégorie n'ont pas encore été modifié.\n",
    "df_cln7[:10]"
   ]
  },
  {
   "cell_type": "markdown",
   "metadata": {},
   "source": [
    "#### Married"
   ]
  },
  {
   "cell_type": "markdown",
   "metadata": {},
   "source": [
    "Mx= encoder_multi(df_cln8,\"Married\")"
   ]
  },
  {
   "cell_type": "code",
   "execution_count": null,
   "metadata": {},
   "outputs": [],
   "source": [
    "Mx[:10] #Not_married / Married"
   ]
  },
  {
   "cell_type": "markdown",
   "metadata": {},
   "source": [
    "##### Dependants"
   ]
  },
  {
   "cell_type": "code",
   "execution_count": null,
   "metadata": {},
   "outputs": [],
   "source": [
    "Dpx= encoder_multi(df_cln8,\"Dependents\")"
   ]
  },
  {
   "cell_type": "code",
   "execution_count": null,
   "metadata": {},
   "outputs": [],
   "source": [
    "Dpx[:10] # 0, 1, 2, 3+"
   ]
  },
  {
   "cell_type": "markdown",
   "metadata": {},
   "source": [
    "####  Education"
   ]
  },
  {
   "cell_type": "code",
   "execution_count": null,
   "metadata": {},
   "outputs": [],
   "source": [
    "Edux= encoder_multi(df_cln8,\"Education\")"
   ]
  },
  {
   "cell_type": "code",
   "execution_count": null,
   "metadata": {},
   "outputs": [],
   "source": [
    "Edux[:10] #Graduate / Not Graduate"
   ]
  },
  {
   "cell_type": "markdown",
   "metadata": {},
   "source": [
    "#### Self Employement"
   ]
  },
  {
   "cell_type": "code",
   "execution_count": null,
   "metadata": {},
   "outputs": [],
   "source": [
    "Selx= encoder_multi(df_cln8,\"Self_Employed\")"
   ]
  },
  {
   "cell_type": "code",
   "execution_count": null,
   "metadata": {},
   "outputs": [],
   "source": [
    "Selx[:10] #No / Yes"
   ]
  },
  {
   "cell_type": "markdown",
   "metadata": {},
   "source": [
    "#### Property_Area"
   ]
  },
  {
   "cell_type": "code",
   "execution_count": null,
   "metadata": {},
   "outputs": [],
   "source": [
    "Locx= encoder_multi(df_cln8,\"Property_Area\")"
   ]
  },
  {
   "cell_type": "code",
   "execution_count": null,
   "metadata": {},
   "outputs": [],
   "source": [
    "Locx[:10] #Rural / Semiurban / Urban"
   ]
  },
  {
   "cell_type": "code",
   "execution_count": null,
   "metadata": {},
   "outputs": [],
   "source": [
    "Histx= encoder_multi(df_cln8,\"Credit_History\")"
   ]
  },
  {
   "cell_type": "code",
   "execution_count": null,
   "metadata": {},
   "outputs": [],
   "source": [
    "Histx[:10] #Never_Credit, Already_Credit"
   ]
  },
  {
   "cell_type": "markdown",
   "metadata": {},
   "source": [
    "#### Notes\n",
    "\n",
    "Il semblerait que les catégorie sont classé de manière croissante et alphabétique. "
   ]
  },
  {
   "cell_type": "code",
   "execution_count": null,
   "metadata": {},
   "outputs": [],
   "source": [
    "df_cln9= df_cln8.copy()"
   ]
  },
  {
   "cell_type": "code",
   "execution_count": null,
   "metadata": {},
   "outputs": [],
   "source": [
    "df_cln9[[\"Not_Married\",\"Married_\"]]= Mx\n",
    "df_cln9[[\"0_dep\",\"1_dep\",\"2_dep\",\"3m_dep\"]]= Dpx\n",
    "df_cln9[[\"Graduate\",\"Not_Graduate\"]]= Edux\n",
    "\n",
    "df_cln9[[\"Employed_\",\"Self_Employed_\"]]= Selx\n",
    "df_cln9[[\"Rural\",\"SemiUrban\",\"Urban\"]]= Locx\n",
    "df_cln9[['Never_Credit',\"Already_Credit\"]]=Histx"
   ]
  },
  {
   "cell_type": "code",
   "execution_count": null,
   "metadata": {},
   "outputs": [],
   "source": [
    "df_cln9[\"Loan_Status\"]"
   ]
  },
  {
   "cell_type": "code",
   "execution_count": null,
   "metadata": {},
   "outputs": [],
   "source": [
    "df_cln10=df_cln9.copy()"
   ]
  },
  {
   "cell_type": "markdown",
   "metadata": {},
   "source": [
    "On peut maintenant Drop nos anciennes colonnes."
   ]
  },
  {
   "cell_type": "code",
   "execution_count": null,
   "metadata": {},
   "outputs": [],
   "source": [
    "df_cln10.drop(df_cln10.columns[[1,2,3,4,5,10,11]], axis=1, inplace=True)"
   ]
  },
  {
   "cell_type": "code",
   "execution_count": null,
   "metadata": {},
   "outputs": [],
   "source": [
    "df_cln10"
   ]
  },
  {
   "cell_type": "markdown",
   "metadata": {},
   "source": [
    "Je vais maintenant sauvegardé trois dataframes dans trois nouvelle variable, <b>df_cleaned</b>, <b>df_catnum</b>  et <b>df_encoded</b> me permettant de faire un test sur l'effet des changements que j'ai effectué au fil du procédé en étape 7 8 et 10 du nétoyage."
   ]
  },
  {
   "cell_type": "code",
   "execution_count": null,
   "metadata": {},
   "outputs": [],
   "source": [
    "df_cleaned = df_cln7.copy()\n",
    "df_catnum = df_cln8.copy()\n",
    "df_encoded= df_cln10.copy()"
   ]
  },
  {
   "cell_type": "markdown",
   "metadata": {},
   "source": [
    "### <a id='10'><center><font color=\"INDIANRED\">8) Gestion des outliers </font></center></a>"
   ]
  },
  {
   "cell_type": "markdown",
   "metadata": {},
   "source": [
    "Nous avons quatres variable numériques qui peuvent contenir de potentiel outlier : Applicant_Income, CoapplicantIncome, LoanAmount et Loan_Amount_Term."
   ]
  },
  {
   "cell_type": "markdown",
   "metadata": {},
   "source": [
    "### Traitement général"
   ]
  },
  {
   "cell_type": "code",
   "execution_count": null,
   "metadata": {},
   "outputs": [],
   "source": [
    "df_encoded.info()"
   ]
  },
  {
   "cell_type": "code",
   "execution_count": null,
   "metadata": {},
   "outputs": [],
   "source": [
    "df_encoded.iloc[:,1:5].describe()"
   ]
  },
  {
   "cell_type": "code",
   "execution_count": null,
   "metadata": {},
   "outputs": [],
   "source": [
    "col=range(1,5)\n",
    "n=1\n",
    "plt.figure(figsize=(20,20))\n",
    "for x in col:\n",
    "    \n",
    "    plt.subplot(2,2,n)\n",
    "    sns.boxplot(y= df_encoded.iloc[:,x])\n",
    "    n=n+1"
   ]
  },
  {
   "cell_type": "code",
   "execution_count": null,
   "metadata": {},
   "outputs": [],
   "source": [
    "df_encoded.loc[df_encoded.Loan_Amount_Term != 360.0]"
   ]
  },
  {
   "cell_type": "code",
   "execution_count": null,
   "metadata": {},
   "outputs": [],
   "source": [
    "df_encoded.loc[df_encoded.LoanAmount >2000]"
   ]
  },
  {
   "cell_type": "code",
   "execution_count": null,
   "metadata": {},
   "outputs": [],
   "source": [
    "df_encoded.loc[df_encoded.ApplicantIncome > 40000]"
   ]
  },
  {
   "cell_type": "code",
   "execution_count": null,
   "metadata": {},
   "outputs": [],
   "source": [
    "df_encoded.loc[df_encoded.CoapplicantIncome > 20000]"
   ]
  },
  {
   "cell_type": "code",
   "execution_count": null,
   "metadata": {},
   "outputs": [],
   "source": [
    "df_encoded[\"Loan_Amount_Term\"].value_counts()"
   ]
  },
  {
   "cell_type": "code",
   "execution_count": null,
   "metadata": {},
   "outputs": [],
   "source": [
    "df_encoded.sort_values(\"Loan_Amount_Term\")"
   ]
  },
  {
   "cell_type": "markdown",
   "metadata": {},
   "source": [
    "On remarque quelques valeurs un peu extrême dans ces 4 features mais rien d'abhérent à ce niveau la de notre compréhension de la dataset il ne serait pas étonnant. Je pourrais uniquement modifié une valeur car il semble qu'il y ait une faute de frappe (Il est peu probable qu'un Income de 80k plus ce voit refuser un emprunt)."
   ]
  },
  {
   "cell_type": "markdown",
   "metadata": {},
   "source": [
    "### Changement d'échelle"
   ]
  },
  {
   "cell_type": "markdown",
   "metadata": {},
   "source": [
    "Le LoanAmount a été fait en centaine je vais donc multiplier cette valeur par 100 pour pouvoir appliqué des calculs par la suite. (Je reviendrais peut-être sur mes pas plus tard)."
   ]
  },
  {
   "cell_type": "code",
   "execution_count": null,
   "metadata": {},
   "outputs": [],
   "source": [
    "df_encoded['LoanAmount']=df_encoded['LoanAmount']*100\n",
    "df_cleaned['LoanAmount']=df_cleaned['LoanAmount']*100\n",
    "df_catnum['LoanAmount']=df_catnum['LoanAmount']*100"
   ]
  },
  {
   "cell_type": "code",
   "execution_count": null,
   "metadata": {},
   "outputs": [],
   "source": [
    "df_encoded"
   ]
  },
  {
   "cell_type": "markdown",
   "metadata": {},
   "source": [
    "### <a id='11'><center><font color=\"INDIANRED\">8)Seconde Visualisation</font></center></a>"
   ]
  },
  {
   "cell_type": "markdown",
   "metadata": {},
   "source": [
    "## Seconde Visualisation (Corrélation, Equilibre...)"
   ]
  },
  {
   "cell_type": "markdown",
   "metadata": {},
   "source": [
    "### <a id=\"12\"> Variable Qualitatif et Target </a>"
   ]
  },
  {
   "cell_type": "code",
   "execution_count": null,
   "metadata": {},
   "outputs": [],
   "source": [
    "df_cleaned"
   ]
  },
  {
   "cell_type": "code",
   "execution_count": null,
   "metadata": {},
   "outputs": [],
   "source": [
    "col= [1,2,3,4,5,10,11]\n",
    "n=1\n",
    "plt.figure(figsize=[30,30])\n",
    "for i in col:\n",
    "    plt.subplot(3,3,n)\n",
    "    sns.countplot(df_cleaned.iloc[:,i], hue=df_cleaned.iloc[:,12])\n",
    "    n=n+1\n",
    "    "
   ]
  },
  {
   "cell_type": "markdown",
   "metadata": {},
   "source": [
    "Sur le graphique ci-dessus on peut remarquer plusieurs déséquilibres surtout marquantes sur le Credit_History voyont les proportion."
   ]
  },
  {
   "cell_type": "code",
   "execution_count": null,
   "metadata": {},
   "outputs": [],
   "source": [
    "col= [1,2,3,4,5,10,11]\n",
    "for i in col:\n",
    "    print(\"-----\n",
    "          \")\n",
    "    kol=df_cleaned.iloc[:,i].unique()\n",
    "    print(df_cleaned.columns[i],\":\")\n",
    "    print(\"-----\")\n",
    "    for n in kol:\n",
    "        print(n)\n",
    "        print(\"Prêt Accordé\",df_cleaned[\"Loan_Status\"].loc[(df_cleaned[\"Loan_Status\"]==\"Y\")&(df_cleaned.iloc[:,i] == n)].count()/len(df_cleaned[\"Loan_Status\"].loc[df_cleaned.iloc[:,i] == n]))\n",
    "        print(\"Prêt Refusé\",df_cleaned[\"Loan_Status\"].loc[(df_cleaned[\"Loan_Status\"]==\"N\")&(df_cleaned.iloc[:,i] == n)].count()/len(df_cleaned[\"Loan_Status\"].loc[df_cleaned.iloc[:,i] == n]))\n",
    "        print(\"-----\")\n",
    "        "
   ]
  },
  {
   "cell_type": "code",
   "execution_count": null,
   "metadata": {},
   "outputs": [],
   "source": [
    "col= [1,2,3,4,5,10,11]\n",
    "m=1\n",
    "ind=[\"Y\",\"N\"]\n",
    "width=0.6\n",
    "plt.figure(figsize=[30,30])\n",
    "for i in col:\n",
    "\n",
    "    kol=df_cleaned.iloc[:,i].unique()\n",
    "    plt.suptitle=(df_cleaned.columns[i])   \n",
    "    for n in kol:\n",
    "        temp=[]\n",
    "        plt.subplot(6,3,m)\n",
    "        temp.append(df_cleaned[\"Loan_Status\"].loc[(df_cleaned[\"Loan_Status\"]==\"Y\")&(df_cleaned.iloc[:,i] == n)].count()/len(df_cleaned[\"Loan_Status\"].loc[df_cleaned.iloc[:,i] == n]))  \n",
    "        temp.append(df_cleaned[\"Loan_Status\"].loc[(df_cleaned[\"Loan_Status\"]==\"N\")&(df_cleaned.iloc[:,i] == n)].count()/len(df_cleaned[\"Loan_Status\"].loc[df_cleaned.iloc[:,i] == n]))\n",
    "        plt.bar(ind, temp, width, color=('Blue','Red'))\n",
    "        plt.title(\"Obtention des prêts pour les \"+str(n)+\" \"+str(round(temp[0]*100))+\"%\")\n",
    "        m=m+1"
   ]
  },
  {
   "cell_type": "code",
   "execution_count": null,
   "metadata": {},
   "outputs": [],
   "source": [
    "occ= (df_cleaned['Loan_Status']\n",
    "      .value_counts(normalize=True)\n",
    "      .rename('percents')\n",
    "      .reset_index())\n",
    "p= sns.barplot(x=\"index\", y=\"percents\", data=occ)"
   ]
  },
  {
   "cell_type": "code",
   "execution_count": null,
   "metadata": {},
   "outputs": [],
   "source": [
    "n=1\n",
    "plt.figure(figsize=(30,30))\n",
    "for i in col: \n",
    "    occ2=(df_cleaned.groupby([df_cleaned.columns[i]])['Loan_Status']\n",
    "      .value_counts(normalize=True)\n",
    "      .rename('percentage')\n",
    "      .mul(100)\n",
    "      .reset_index())\n",
    "    plt.subplot(3,3,n)\n",
    "    sns.barplot(x=\"Loan_Status\", y=\"percentage\", hue=df_cleaned.columns[i], data=occ2)\n",
    "    plt.title(\"Obtention d'un prêt en fonction de : \"+ df_cleaned.columns[i] ) \n",
    "    n=n+1\n"
   ]
  },
  {
   "cell_type": "markdown",
   "metadata": {},
   "source": [
    "#### Conclusion\n",
    "\n",
    "On remarque que certaine variable ont un gros impact de certaines variables qualitatives sur l'attribution d'un emprunt ou non. \n",
    "\n",
    "Le Credit_history a un grand impact sur l'attribution d'un emprunt car cette variable représente les emprunts remboursé en temps et en heure. Un défaut de paiement lors d'un précédent emprunt(0) est presque systématiquement synonime de refus de paiement.\n",
    "\n",
    "Les différentes famille type (Dependents) ont le même taux d'attribution de crédit mise à part les familles de 2 enfants ont apparement un % d'attribution supérieur aux autres.\n",
    "\n",
    "Pareillement pour l'endroit de l'habitation semble impacter légérement l'attribution d'un prêt. On peut penser que les gens habitant en banlieu (Des quartiers habituellement plus chère) ont plus facilement accès à un emprunt.\n",
    "\n",
    "Le fait d'être Self_employed et un homme ou une femme ne semble pas avoir d'impact. \n",
    "\n",
    "Enfin pour Education et Married un personne éduqué et marrié à plus de chance d'avoir un crédit. "
   ]
  },
  {
   "cell_type": "markdown",
   "metadata": {},
   "source": [
    "### <a id=\"13\">Variable Quantitative </a>"
   ]
  },
  {
   "cell_type": "code",
   "execution_count": null,
   "metadata": {},
   "outputs": [],
   "source": [
    "def correlation_matrix(df):\n",
    "    mth=(\"pearson\", \"kendall\", \"spearman\")\n",
    "    n=1\n",
    "    for i in mth:\n",
    "        plt.figure(figsize=(30,30))\n",
    "        plt.subplot(2,2,n)\n",
    "        sns.heatmap(df.corr(method=i), annot=True)\n",
    "        plt.title(i)\n",
    "        n=n+1\n",
    "        plt.show()\n"
   ]
  },
  {
   "cell_type": "code",
   "execution_count": null,
   "metadata": {},
   "outputs": [],
   "source": [
    "correlation_matrix(df_cleaned)"
   ]
  },
  {
   "cell_type": "code",
   "execution_count": null,
   "metadata": {},
   "outputs": [],
   "source": [
    "correlation_matrix(df_catnum)"
   ]
  },
  {
   "cell_type": "markdown",
   "metadata": {},
   "source": [
    "Ces matrices de corrélation ne nous apprennent pas grand chose pour ce qui est des variables quantitatives en même temps dans un cas de classification s'était à prévoir... "
   ]
  },
  {
   "cell_type": "code",
   "execution_count": null,
   "metadata": {},
   "outputs": [],
   "source": [
    "sns.pairplot(df_cleaned, hue=\"Loan_Status\")"
   ]
  },
  {
   "cell_type": "code",
   "execution_count": null,
   "metadata": {},
   "outputs": [],
   "source": [
    "sns.relplot(\"LoanAmount\", \"ApplicantIncome\", hue=\"Loan_Status\", data=df_cleaned.loc[(df_cleaned['ApplicantIncome']< 25000)&(df_cleaned['LoanAmount']<100000)])\n"
   ]
  },
  {
   "cell_type": "code",
   "execution_count": null,
   "metadata": {},
   "outputs": [],
   "source": [
    "sns.relplot(\"LoanAmount\", \"CoapplicantIncome\", hue=\"Loan_Status\", data=df_cleaned.loc[(df_cleaned['CoapplicantIncome']< 15000)&(df_cleaned['LoanAmount']<100000)])"
   ]
  },
  {
   "cell_type": "markdown",
   "metadata": {},
   "source": [
    "#### Conclusion\n",
    "\n",
    "Rien ne semble très pertinent concernant les données numériques. Cependant dans ces visualisation on remarque que nos outliers nuisent aux visualisation et donc potentielement aux modèles.\n",
    "On va donc : \n",
    "<ul><li>Enlever les samples qui ont un ApplicantIncome supérieur à 25k</li>\n",
    "    <li>Enlever les samples qui ont un LoanAmount supérieur à 100k</li>\n",
    "    <li>Enlever les samples qui ont un CoapplicantIncome supérieur à 15k</li></ul>\n",
    "On va stoker celà dans 3 nouvelle variables afin de ne pas perdre nos précédents changements."
   ]
  },
  {
   "cell_type": "markdown",
   "metadata": {},
   "source": [
    "## <a id=\"14\"> Nettoyage des Outliers</a>"
   ]
  },
  {
   "cell_type": "code",
   "execution_count": null,
   "metadata": {},
   "outputs": [],
   "source": [
    "df_cleaned2=df_cleaned.copy()\n",
    "df_catnum2=df_catnum.copy()\n",
    "df_encoded2=df_encoded.copy()"
   ]
  },
  {
   "cell_type": "code",
   "execution_count": null,
   "metadata": {},
   "outputs": [],
   "source": [
    "df_cleaned2=df_cleaned2.loc[(df_cleaned2['ApplicantIncome']< 25000)&(df_cleaned2['LoanAmount']<100000)&(df_cleaned['CoapplicantIncome']< 15000)]\n",
    "df_encoded2=df_encoded.loc[(df_encoded2['ApplicantIncome']< 25000)&(df_encoded2['LoanAmount']<100000)&(df_encoded2['CoapplicantIncome']< 15000)]\n",
    "df_catnum2=df_catnum2.loc[(df_catnum2['ApplicantIncome']< 25000)&(df_catnum2['LoanAmount']<100000)&(df_catnum2['CoapplicantIncome']< 15000)]"
   ]
  },
  {
   "cell_type": "code",
   "execution_count": null,
   "metadata": {},
   "outputs": [],
   "source": [
    "df_cleaned2"
   ]
  },
  {
   "cell_type": "code",
   "execution_count": null,
   "metadata": {},
   "outputs": [],
   "source": [
    "df_cleaned"
   ]
  },
  {
   "cell_type": "code",
   "execution_count": null,
   "metadata": {},
   "outputs": [],
   "source": [
    "print(\"On a perdu :\"+str(round(1-len(df_cleaned2)/len(df_cleaned),3)*100)+ \" % de nos données avec la suppression de nos outliers\")"
   ]
  },
  {
   "cell_type": "markdown",
   "metadata": {},
   "source": [
    "### <a id=\"15\"> Etude des variables</a>"
   ]
  },
  {
   "cell_type": "code",
   "execution_count": null,
   "metadata": {},
   "outputs": [],
   "source": [
    "#On séparre nos variable quantitative et Qualitative ainsi que notre target. \n",
    "X_quanti=df_catnum2.iloc[:,6:10]\n",
    "X_quali=df_catnum2.iloc[:,[1,2,3,4,5,10,11]]\n",
    "Y=df_catnum2[\"Loan_Status\"]"
   ]
  },
  {
   "cell_type": "code",
   "execution_count": null,
   "metadata": {},
   "outputs": [],
   "source": [
    "X_quanti"
   ]
  },
  {
   "cell_type": "markdown",
   "metadata": {},
   "source": [
    "On utilise deux methodes dans notre fonction KBest :\n",
    "<ul><li>Chi2: Pour tester les valeurs qualitative</li>\n",
    "    <li>f_classif(Annova): Pour tester les valeurs quantitative</li></ul>\n",
    "    \n",
    "Sans rentrer dans les détails : Le Khi2 va vérifié l'indépendance de la variance d'une variable qualitative par rapport à l'hypothése null.\n",
    "\n",
    "L'anova compare la variance de la variance d'une variable quantitative par rapport à une catégorial. \n",
    "\n",
    "Dans notre cas on va tester l'ensemble de nos variables avec notre target pour voir si elle sont importante pour prédire notre target."
   ]
  },
  {
   "cell_type": "code",
   "execution_count": null,
   "metadata": {},
   "outputs": [],
   "source": [
    "Selector_Quali= SelectKBest(chi2,k=5)\n",
    "Selector_Quanti= SelectKBest(f_classif,k=4)"
   ]
  },
  {
   "cell_type": "code",
   "execution_count": null,
   "metadata": {},
   "outputs": [],
   "source": [
    "Selector_Quali.fit_transform(X_quali,Y)"
   ]
  },
  {
   "cell_type": "code",
   "execution_count": null,
   "metadata": {},
   "outputs": [],
   "source": [
    "Selector_Quali.get_support()"
   ]
  },
  {
   "cell_type": "code",
   "execution_count": null,
   "metadata": {},
   "outputs": [],
   "source": [
    "chi,pchi=chi2(X_quali,Y)"
   ]
  },
  {
   "cell_type": "code",
   "execution_count": null,
   "metadata": {},
   "outputs": [],
   "source": [
    "a=pd.Series(chi, index=X_quali.columns).sort_values(ascending=False)\n",
    "sns.barplot(x=a, y=a.index)"
   ]
  },
  {
   "cell_type": "code",
   "execution_count": null,
   "metadata": {},
   "outputs": [],
   "source": [
    "X_qualiE= df_encoded2[['Female', 'Male', 'Not_Married', 'Married_',\n",
    "       '0_dep', '1_dep', '2_dep', '3m_dep', 'Graduate', 'Not_Graduate',\n",
    "       'Employed_', 'Self_Employed_', 'Rural', 'SemiUrban', 'Urban',\n",
    "       'Never_Credit', 'Already_Credit']]\n",
    "chi,pchi=chi2(X_qualiE,Y)\n",
    "aE=pd.Series(chi, index=X_qualiE.columns).sort_values(ascending=False)\n",
    "sns.barplot(x=aE, y=aE.index)"
   ]
  },
  {
   "cell_type": "code",
   "execution_count": null,
   "metadata": {},
   "outputs": [],
   "source": [
    "df_encoded2.columns"
   ]
  },
  {
   "cell_type": "code",
   "execution_count": null,
   "metadata": {},
   "outputs": [],
   "source": [
    "Selector_Quanti.fit_transform(X_quanti,Y)"
   ]
  },
  {
   "cell_type": "code",
   "execution_count": null,
   "metadata": {},
   "outputs": [],
   "source": [
    "Selector_Quanti.get_support()"
   ]
  },
  {
   "cell_type": "code",
   "execution_count": null,
   "metadata": {},
   "outputs": [],
   "source": [
    "F,pF=f_classif(X_quanti,Y)"
   ]
  },
  {
   "cell_type": "code",
   "execution_count": null,
   "metadata": {},
   "outputs": [],
   "source": [
    "print(pF)\n",
    "print(F)"
   ]
  },
  {
   "cell_type": "code",
   "execution_count": null,
   "metadata": {},
   "outputs": [],
   "source": [
    "b=pd.Series(F,index=X_quanti.columns).sort_values(ascending=False)\n",
    "sns.barplot(x=b, y=b.index)"
   ]
  },
  {
   "cell_type": "markdown",
   "metadata": {},
   "source": [
    "#### Conclusion \n",
    "\n",
    "On a donc pu étudier l'importance de nos features à la fois numériques et catégorielles.\n",
    "On peut isoler 2 features numérique qui se détachent des autres voir une grosse importance. \n"
   ]
  },
  {
   "cell_type": "markdown",
   "metadata": {},
   "source": [
    "### <a id='16'><center><font color=\"INDIANRED\">10)Création de Features</font></center></a>"
   ]
  },
  {
   "cell_type": "markdown",
   "metadata": {},
   "source": [
    "Nous allons maintenant tenté de créer un certain nombre de nouvelle Features dérivé d'autres features pré-existante:\n",
    "<ul><li>Total Income = ApplicantIncome + CoaaplicantIncome</li>\n",
    "    <li>Income_pondéré= Total_Income / (dependent + 1 if married)</li>\n",
    "    <li>Mois_d'échéance= LoanAmount / Loan_Amount_Term</li></ul>\n",
    "Nous referons ensuite des test parametrique Anova avec toutes ces features pour déterminer quels features nous garderons."
   ]
  },
  {
   "cell_type": "code",
   "execution_count": null,
   "metadata": {},
   "outputs": [],
   "source": [
    "df_add_F=df_catnum2.copy()"
   ]
  },
  {
   "cell_type": "code",
   "execution_count": null,
   "metadata": {},
   "outputs": [],
   "source": [
    "#La plus simple d'abords Total Income\n",
    "df_add_F['Total_Income']=df_add_F['ApplicantIncome']+df_add_F['CoapplicantIncome']"
   ]
  },
  {
   "cell_type": "code",
   "execution_count": null,
   "metadata": {},
   "outputs": [],
   "source": [
    "df_add_F"
   ]
  },
  {
   "cell_type": "code",
   "execution_count": null,
   "metadata": {},
   "outputs": [],
   "source": [
    "#Assez facile aussi: Le nombre de mois d'échéance arrondie. \n",
    "df_add_F['Refund_Time']= round(df_add_F[\"LoanAmount\"]/df_add_F['Loan_Amount_Term'],0)"
   ]
  },
  {
   "cell_type": "code",
   "execution_count": null,
   "metadata": {},
   "outputs": [],
   "source": [
    "df_add_F"
   ]
  },
  {
   "cell_type": "code",
   "execution_count": null,
   "metadata": {},
   "outputs": [],
   "source": [
    "#Enfin plus compliqué on va calculé notre income pondéré.\n",
    "\n",
    "#En deux étapes: \n",
    "\n",
    "#On créer une colonnes family qui compte le nombre de personnes dans le foyer (Applicant Compris)\n",
    "df_add_F['Family']= np.where(df_add_F['Married']==0, 2+df_add_F['Dependents'],1+df_add_F['Dependents'])\n",
    "\n",
    "#On divise l'income total dans par ce chiffre. \n",
    "df_add_F['Income_pond']=df_add_F['Total_Income']/df_add_F['Family']"
   ]
  },
  {
   "cell_type": "code",
   "execution_count": null,
   "metadata": {},
   "outputs": [],
   "source": [
    "df_add_F.drop([\"refund_time\"], axis=1, inplace=True)\n",
    "df_add_F"
   ]
  },
  {
   "cell_type": "markdown",
   "metadata": {},
   "source": [
    "#### Conclusion\n",
    "on a maintenant 4 nouvelle Features quantitative il va falloir tester si elle sont importante ou pas ! "
   ]
  },
  {
   "cell_type": "code",
   "execution_count": null,
   "metadata": {},
   "outputs": [],
   "source": [
    "X2_quanti= df_add_F.iloc[:,[6,7,8,9,15,16,17,18]]"
   ]
  },
  {
   "cell_type": "code",
   "execution_count": null,
   "metadata": {},
   "outputs": [],
   "source": [
    "X2_quanti"
   ]
  },
  {
   "cell_type": "code",
   "execution_count": null,
   "metadata": {},
   "outputs": [],
   "source": [
    "Fu,pFu=f_classif(X2_quanti,Y)"
   ]
  },
  {
   "cell_type": "code",
   "execution_count": null,
   "metadata": {},
   "outputs": [],
   "source": [
    "c=pd.Series(Fu,index=X2_quanti.columns).sort_values(ascending=False)\n",
    "sns.barplot(x=c, y=c.index)"
   ]
  },
  {
   "cell_type": "code",
   "execution_count": null,
   "metadata": {},
   "outputs": [],
   "source": [
    "Selector_Quanti.fit_transform(X2_quanti,Y)"
   ]
  },
  {
   "cell_type": "code",
   "execution_count": null,
   "metadata": {},
   "outputs": [],
   "source": [
    "Selector_Quanti.get_support()"
   ]
  },
  {
   "cell_type": "code",
   "execution_count": null,
   "metadata": {},
   "outputs": [],
   "source": [
    "df_cleaned2[[\"Total_Income\",\"Refund_Time\",\"Family\",\"Income_pond\"]]=df_add_F[[\"Total_Income\",\"Refund_Time\",\"Family\",\"Income_pond\"]]\n",
    "df_encoded2[[\"Total_Income\",\"Refund_Time\",\"Family\",\"Income_pond\"]]=df_add_F[[\"Total_Income\",\"Refund_Time\",\"Family\",\"Income_pond\"]]\n",
    "df_catnum2[[\"Total_Income\",\"Refund_Time\",\"Family\",\"Income_pond\"]]=df_add_F[[\"Total_Income\",\"Refund_Time\",\"Family\",\"Income_pond\"]]"
   ]
  },
  {
   "cell_type": "markdown",
   "metadata": {},
   "source": [
    "####  Conclusion \n",
    "Il semble que les variables Family et Refund Time apporte un léger plus à notre model."
   ]
  },
  {
   "cell_type": "markdown",
   "metadata": {},
   "source": [
    "### <a id='17'><center><font color=\"INDIANRED\">11)Equilibrage</font></center></a>"
   ]
  },
  {
   "cell_type": "code",
   "execution_count": null,
   "metadata": {},
   "outputs": [],
   "source": [
    "sns.countplot(df_add_F['Loan_Status'])\n",
    "print(df_add_F['Loan_Status'].value_counts()/len(df_add_F))"
   ]
  },
  {
   "cell_type": "markdown",
   "metadata": {},
   "source": [
    "Comme on l'avais déjà vu il existe un déséquilibre plutôt marqué entre nos deux target (30% pour 70%). \n",
    "Nous allons créer deux nouveau set de donnée pour chacune de nos df préexistante une avec smote et une avec oversampling.\n",
    "\n",
    "(ça va commencer à faire beaucoup de df, je vais donc créer une fonction qui récap les df."
   ]
  },
  {
   "cell_type": "code",
   "execution_count": null,
   "metadata": {},
   "outputs": [],
   "source": [
    "df_list=[\"df_cleaned\",\"df_cleaned2\",\"df_encoded\",\"df_encoded2\",\"df_catnum\",\"df_catnum2\"]\n",
    "df_description=[\"DF nettoyer aucun changement de variable\",\n",
    "               \"V2 : Outlier enlevé et variable ajouté\",\n",
    "              \"DF nettoyer et One hot Encoder\",\n",
    "              \"V2 : Outlier enlevé et variable ajouté\",\n",
    "              \"DF nettoyer Variable Catégorielle passé en numérique\",\n",
    "              \"V2 : Outlier enlevé et variable ajouté\"]\n",
    "def list_DF (inti, desc):         \n",
    "    df_list.append(inti)\n",
    "    df_description.append(desc)\n",
    "    d = {'Df_Name': df_list, 'Df_Description': df_description}\n",
    "    return pd.DataFrame(data=d)"
   ]
  },
  {
   "cell_type": "code",
   "execution_count": null,
   "metadata": {},
   "outputs": [],
   "source": [
    "D=list_DF(\"df_cleaned_smote\",\"V3 smoted\")\n",
    "D=list_DF(\"df_encoded_smote\",\"V3 smoted\")\n",
    "D=list_DF(\"df_catnum_smote\",\"V3 smoted\")\n",
    "D=list_DF(\"df_cleaned_over\",\"V4 oversampled\")\n",
    "D=list_DF(\"df_encoded_over\",\"V4 oversampled\")\n",
    "D=list_DF(\"df_catnum_over\",\"V4 oversampled\")"
   ]
  },
  {
   "cell_type": "markdown",
   "metadata": {},
   "source": [
    "A partir de là a chaque fois que je créer un nouveau DF je le rentre dans cette fonction je n'aurais plus qu'à appeller mon DF D pour avoir la liste de mes dataframe et une courte description. "
   ]
  },
  {
   "cell_type": "code",
   "execution_count": null,
   "metadata": {},
   "outputs": [],
   "source": [
    "D"
   ]
  },
  {
   "cell_type": "code",
   "execution_count": null,
   "metadata": {},
   "outputs": [],
   "source": [
    "#Je vais reorder mes colonnes afin de gagner en facilité d'écriture pour la suite en ayant ma target en dernière position\n",
    "#J'en profite aussi pour drop le Loan_ID\n",
    "\n",
    "\n",
    "df_encoded2=df_encoded2[['ApplicantIncome', 'CoapplicantIncome', 'LoanAmount',\n",
    "       'Loan_Amount_Term', 'Female', 'Male', 'Not_Married',\n",
    "       'Married_', '0_dep', '1_dep', '2_dep', '3m_dep', 'Graduate',\n",
    "       'Not_Graduate', 'Employed_', 'Self_Employed_', 'Rural', 'SemiUrban',\n",
    "       'Urban', 'Never_Credit', 'Already_Credit', 'Total_Income',\n",
    "       'Refund_Time', 'Family', 'Income_pond','Loan_Status']]\n",
    "df_encoded2"
   ]
  },
  {
   "cell_type": "code",
   "execution_count": null,
   "metadata": {},
   "outputs": [],
   "source": [
    "df_cleaned2.columns\n",
    "df_cleaned2=df_cleaned2[['Gender', 'Married', 'Dependents', 'Education',\n",
    "       'Self_Employed', 'ApplicantIncome', 'CoapplicantIncome', 'LoanAmount',\n",
    "       'Loan_Amount_Term', 'Credit_History', 'Property_Area', \n",
    "       'Total_Income', 'Refund_Time', 'Family', 'Income_pond','Loan_Status']]\n",
    "df_cleaned2"
   ]
  },
  {
   "cell_type": "code",
   "execution_count": null,
   "metadata": {},
   "outputs": [],
   "source": [
    "#J'en profite pour virer un doublon male et female. \n",
    "df_catnum2.columns\n",
    "df_catnum2=df_catnum2[['Gender', 'Married', 'Dependents', 'Education',\n",
    "       'Self_Employed', 'ApplicantIncome', 'CoapplicantIncome', 'LoanAmount',\n",
    "       'Loan_Amount_Term', 'Credit_History', 'Property_Area',\n",
    "       'Total_Income', 'Refund_Time', 'Family',\n",
    "       'Income_pond', 'Loan_Status']]\n",
    "df_catnum2"
   ]
  },
  {
   "cell_type": "code",
   "execution_count": null,
   "metadata": {},
   "outputs": [],
   "source": [
    "#Notre loan_status est maintenant en dernière position poursuivons\n",
    "df_encoded_smote=df_encoded2.copy()\n",
    "df_cleaned_smote=df_cleaned2.copy()\n",
    "df_catnum_smote=df_catnum2.copy()"
   ]
  },
  {
   "cell_type": "code",
   "execution_count": null,
   "metadata": {},
   "outputs": [],
   "source": [
    "smote = SMOTE()\n",
    "df_encoded_smote, y= smote.fit_sample(df_encoded_smote.iloc[:, 0:-1], df_encoded_smote['Loan_Status'])"
   ]
  },
  {
   "cell_type": "code",
   "execution_count": null,
   "metadata": {},
   "outputs": [],
   "source": [
    "df_encoded_smote[\"Loan_Status\"]=y"
   ]
  },
  {
   "cell_type": "code",
   "execution_count": null,
   "metadata": {},
   "outputs": [],
   "source": [
    "df_encoded_smote"
   ]
  },
  {
   "cell_type": "code",
   "execution_count": null,
   "metadata": {},
   "outputs": [],
   "source": [
    "sns.countplot(df_encoded_smote['Loan_Status']"
   ]
  },
  {
   "cell_type": "code",
   "execution_count": null,
   "metadata": {},
   "outputs": [],
   "source": [
    "df_catnum_smote, y= smote.fit_sample(df_catnum_smote.iloc[:, 0:-1], df_catnum_smote['Loan_Status'])\n",
    "df_catnum_smote[\"Loan_Status\"]=y"
   ]
  },
  {
   "cell_type": "code",
   "execution_count": null,
   "metadata": {},
   "outputs": [],
   "source": [
    "df_catnum_smote"
   ]
  },
  {
   "cell_type": "code",
   "execution_count": null,
   "metadata": {},
   "outputs": [],
   "source": [
    "sns.countplot(df_catnum_smote['Loan_Status'])"
   ]
  },
  {
   "cell_type": "code",
   "execution_count": null,
   "metadata": {},
   "outputs": [],
   "source": [
    "#Evidement on ne peut pas appliquer cette algo sur notre df cleaned car il a encore des variables non numérique. "
   ]
  },
  {
   "cell_type": "code",
   "execution_count": null,
   "metadata": {},
   "outputs": [],
   "source": [
    "df_catnum_over=df_catnum2.copy()\n",
    "df_encoded_over=df_encoded2.copy()\n",
    "df_cleaned_over=df_cleaned2.copy()\n",
    "ovr = RandomOverSampler()"
   ]
  },
  {
   "cell_type": "code",
   "execution_count": null,
   "metadata": {},
   "outputs": [],
   "source": [
    "\n",
    "df_catnum_over, y_cat = ovr.fit_sample(df_catnum_over.iloc[:, 0:-1], df_catnum_over['Loan_Status'])\n",
    "df_encoded_over, y_en = ovr.fit_sample(df_encoded_over.iloc[:, 0:-1], df_encoded_over['Loan_Status'])\n",
    "df_cleaned_over, y_cl = ovr.fit_sample(df_cleaned_over.iloc[:, 0:-1], df_cleaned_over['Loan_Status'])\n",
    "df_cleaned_over['Loan_Status']=y_cl\n",
    "df_encoded_over['Loan_Status']=y_en\n",
    "df_catnum_over['Loan_Status']=y_cat"
   ]
  },
  {
   "cell_type": "code",
   "execution_count": null,
   "metadata": {},
   "outputs": [],
   "source": [
    "df_catnum_over"
   ]
  },
  {
   "cell_type": "code",
   "execution_count": null,
   "metadata": {},
   "outputs": [],
   "source": [
    "df_cleaned_over"
   ]
  },
  {
   "cell_type": "code",
   "execution_count": null,
   "metadata": {},
   "outputs": [],
   "source": [
    "df_encoded_over"
   ]
  },
  {
   "cell_type": "markdown",
   "metadata": {},
   "source": [
    "#### conclusion on a donc 5 jeux de données équilibré."
   ]
  },
  {
   "cell_type": "markdown",
   "metadata": {},
   "source": [
    "### <a id='18'><center><font color=\"INDIANRED\">12) PCA</font></center></a>"
   ]
  },
  {
   "cell_type": "markdown",
   "metadata": {},
   "source": [
    "La PCA permet de réduire les dimensions de nos variables il ne prend en compte que des variables numérique. Ici nous n'avons que peu de variable numérique qui plus est peu importante pour le modèle un PCA ne semble pas cohérent. \n",
    "\n",
    "Essayons quand même en faisant une PCA sur notre tableau avec le plus de variable df_encoded.\n",
    "\n",
    "Nous le feront pour les deux versions équilibré et la version déséquilibré de ce DF."
   ]
  },
  {
   "cell_type": "code",
   "execution_count": null,
   "metadata": {},
   "outputs": [],
   "source": [
    "# définition de la commande\n",
    "pca = PCA()\n",
    "# Sélection des variables quantitatives\n",
    "dat_smote=df_encoded_smote.iloc[:,:-1]\n",
    "dat_over=df_encoded_over.iloc[:,:-1]\n",
    "dat_dez=df_encoded2.iloc[:,:-1]\n",
    "\n",
    "# réduction\n",
    "data_smote = pd.DataFrame(scale(dat_smote),columns=dat_smote.columns)\n",
    "data_over= pd.DataFrame(scale(dat_over),columns=dat_over.columns)\n",
    "data_dez=pd.DataFrame(scale(dat_dez),columns=dat_dez.columns)\n",
    "# composantes principales\n",
    "C_smote = pca.fit(data_smote).transform(data_smote)\n",
    "\n",
    "print(\"Pourcentage de variance expliquée cumulatif: \")\n",
    "print(np.cumsum(pca.explained_variance_ratio_))\n"
   ]
  },
  {
   "cell_type": "code",
   "execution_count": null,
   "metadata": {},
   "outputs": [],
   "source": [
    "C_over = pca.fit(data_over).transform(data_over)\n"
   ]
  },
  {
   "cell_type": "code",
   "execution_count": null,
   "metadata": {},
   "outputs": [],
   "source": [
    "C_dez= pca.fit(data_dez).transform(data_dez)\n",
    "print(\"Pourcentage de variance expliquée cumulatif: \")\n",
    "print(np.cumsum(pca.explained_variance_ratio_))"
   ]
  },
  {
   "cell_type": "markdown",
   "metadata": {},
   "source": [
    "Comme on pouvait s'en douter les résultat ne sont très intéressant il faut monté 8 Composante pour n'avoir que 73% de variance expliquée. Celà est probablement du au fait que nombre de mes variables sont qualitative.\n",
    "Je vais garder la version oversampled avec 9 composante pour faire la comparaison."
   ]
  },
  {
   "cell_type": "code",
   "execution_count": null,
   "metadata": {},
   "outputs": [],
   "source": [
    "len(C_over)"
   ]
  },
  {
   "cell_type": "code",
   "execution_count": null,
   "metadata": {},
   "outputs": [],
   "source": [
    "df_PCA=pd.DataFrame(C_over)"
   ]
  },
  {
   "cell_type": "code",
   "execution_count": null,
   "metadata": {},
   "outputs": [],
   "source": [
    "df_PCA=df_PCA.iloc[:,:8]"
   ]
  },
  {
   "cell_type": "code",
   "execution_count": null,
   "metadata": {},
   "outputs": [],
   "source": [
    "df_PCA['Loan_Status']=df_encoded_over['Loan_Status']\n"
   ]
  },
  {
   "cell_type": "code",
   "execution_count": null,
   "metadata": {},
   "outputs": [],
   "source": [
    "df_PCA"
   ]
  },
  {
   "cell_type": "code",
   "execution_count": null,
   "metadata": {},
   "outputs": [],
   "source": [
    "D= list_DF(\"df_PCA\",\"Donnée du PCA sur la df_encoded_oversampled\")"
   ]
  },
  {
   "cell_type": "code",
   "execution_count": null,
   "metadata": {},
   "outputs": [],
   "source": [
    "D"
   ]
  },
  {
   "cell_type": "markdown",
   "metadata": {},
   "source": [
    "### <a id='19'><center><font color=\"INDIANRED\">13) Normalisation</font></center></a>"
   ]
  },
  {
   "cell_type": "markdown",
   "metadata": {},
   "source": [
    "Dernière étape de notre pre-processing nous allons créer des version normaliser de nos df grâce à la fonction scale de sklearn."
   ]
  },
  {
   "cell_type": "code",
   "execution_count": null,
   "metadata": {},
   "outputs": [],
   "source": [
    "norm_encoded_over=df_encoded_over.copy()\n",
    "norm_encoded_over[['ApplicantIncome', 'CoapplicantIncome','LoanAmount','Total_Income', 'Refund_Time',\n",
    "       'Family', 'Income_pond','Loan_Amount_Term']]= scale(norm_encoded_over[['ApplicantIncome', 'CoapplicantIncome','LoanAmount','Total_Income', 'Refund_Time',\n",
    "       'Family', 'Income_pond','Loan_Amount_Term']])\n",
    "#D=list_DF(\"norm_encoded_over\",\"Normalize version\")"
   ]
  },
  {
   "cell_type": "code",
   "execution_count": null,
   "metadata": {},
   "outputs": [],
   "source": [
    "norm_encoded=df_encoded2.copy()\n",
    "norm_encoded[['ApplicantIncome', 'CoapplicantIncome','LoanAmount','Total_Income', 'Refund_Time',\n",
    "       'Family', 'Income_pond','Loan_Amount_Term']]= scale(norm_encoded[['ApplicantIncome', 'CoapplicantIncome','LoanAmount','Total_Income', 'Refund_Time',\n",
    "       'Family', 'Income_pond','Loan_Amount_Term']])\n",
    "D=list_DF(\"norm_encoded\",\"Normalize version\")"
   ]
  },
  {
   "cell_type": "code",
   "execution_count": null,
   "metadata": {},
   "outputs": [],
   "source": [
    "norm_encoded_smote=df_encoded_smote.copy()\n",
    "norm_encoded_smote[['ApplicantIncome', 'CoapplicantIncome','LoanAmount','Total_Income', 'Refund_Time',\n",
    "       'Family', 'Income_pond','Loan_Amount_Term']]= scale(norm_encoded_smote[['ApplicantIncome', 'CoapplicantIncome','LoanAmount','Total_Income', 'Refund_Time',\n",
    "       'Family', 'Income_pond','Loan_Amount_Term']])\n",
    "D=list_DF(\"norm_encoded_smote\",\"Normalize version\")"
   ]
  },
  {
   "cell_type": "code",
   "execution_count": null,
   "metadata": {},
   "outputs": [],
   "source": [
    "norm_catnum_smote=df_catnum_smote.copy()\n",
    "norm_catnum_smote[['ApplicantIncome', 'CoapplicantIncome','LoanAmount','Total_Income', 'Refund_Time',\n",
    "       'Family', 'Income_pond','Loan_Amount_Term']]= scale(norm_catnum_smote[['ApplicantIncome', 'CoapplicantIncome','LoanAmount','Total_Income', 'Refund_Time',\n",
    "       'Family', 'Income_pond','Loan_Amount_Term']])\n",
    "D=list_DF(\"norm_catnum_smote\",\"Normalize version\")"
   ]
  },
  {
   "cell_type": "code",
   "execution_count": null,
   "metadata": {},
   "outputs": [],
   "source": [
    "norm_catnum_over=df_catnum_over.copy()\n",
    "norm_catnum_over[['ApplicantIncome', 'CoapplicantIncome','LoanAmount','Total_Income', 'Refund_Time',\n",
    "       'Family', 'Income_pond','Loan_Amount_Term']]= scale(norm_catnum_over[['ApplicantIncome', 'CoapplicantIncome','LoanAmount','Total_Income', 'Refund_Time',\n",
    "       'Family', 'Income_pond','Loan_Amount_Term']])\n",
    "D=list_DF(\"norm_catnum_over\",\"Normalize version\")"
   ]
  },
  {
   "cell_type": "code",
   "execution_count": null,
   "metadata": {},
   "outputs": [],
   "source": [
    "norm_catnum=df_catnum2.copy()\n",
    "norm_catnum[['ApplicantIncome', 'CoapplicantIncome','LoanAmount','Total_Income', 'Refund_Time',\n",
    "       'Family', 'Income_pond','Loan_Amount_Term']]= scale(norm_catnum[['ApplicantIncome', 'CoapplicantIncome','LoanAmount','Total_Income', 'Refund_Time',\n",
    "       'Family', 'Income_pond','Loan_Amount_Term']])\n",
    "D=list_DF(\"norm_catnum\",\"Normalize version\")"
   ]
  },
  {
   "cell_type": "code",
   "execution_count": null,
   "metadata": {},
   "outputs": [],
   "source": [
    "D"
   ]
  },
  {
   "cell_type": "markdown",
   "metadata": {},
   "source": [
    "#### Conclusion \n",
    "\n",
    "Nous avons maintenant 18 DF. Nous ne les utiliserons probablement pas tous car certain vont être redondant. \n",
    "Les DF cleaned n'ont pas beaucoup d'intérêt par rapport au DF catnum nous les ignorerons donc. Les V1 des DF ne vont pas non plus apporter grand chose du coup nous avons déjà éliminé 6 DF. Ils nous restent donc 12 Dataframe \"différents\".\n",
    "\n",
    "Ajoutons à celà que nous allons d'abords nourrir les modèles de nos DF entier et que par la suite nous nous focaliseront sur les Features les plus importantes.\n",
    "\n",
    "Il est temps de réfléchir à notre modélisation."
   ]
  },
  {
   "cell_type": "markdown",
   "metadata": {},
   "source": [
    "## Modélisation"
   ]
  },
  {
   "cell_type": "markdown",
   "metadata": {},
   "source": [
    "### <a id='20'><center><font color=\"INDIANRED\">14) Modélisation</font></center></a>"
   ]
  },
  {
   "cell_type": "markdown",
   "metadata": {},
   "source": [
    "### <a id=\"21\">Choix des modèles</a>"
   ]
  },
  {
   "cell_type": "markdown",
   "metadata": {},
   "source": [
    "Nous sommes dans un cas de classification avec beaucoup de variable catégorique. Celà nous donne déjà une piste sur les modèles a implémenter. Nous pouvons donc partir sur:\n",
    "<ul><li>Logistic Regression</li>\n",
    "    <li>Decision Tree Classifier</li>\n",
    "    <li>Random Forest Classifier</li>\n",
    "    <li>XGboost Classifier</li>\n",
    "    <li>SVM classifier</li></ul>\n",
    "\n",
    "Tout d'abords commençons par créer une fonction qui va executer nos différents modèles pour chacun de nos jeux de données (Je rappelle que nous en avons potentielement 36 à tester sur donc 5 modèles soit 180 résultats) il va donc falloir essayer d'être efficace."
   ]
  },
  {
   "cell_type": "code",
   "execution_count": null,
   "metadata": {},
   "outputs": [],
   "source": [
    "#Fonction qui execute nos différents modèles pour un jeu de donnée fixé (Merci Ambre, Nico, Hana et Orkun) et les stock\n",
    "#Dans un dataframe propre.\n",
    "\n",
    "models = []\n",
    "sampling = []\n",
    "w_pca = []\n",
    "encoded=[]\n",
    "normalize =[]\n",
    "feature=[]\n",
    "accuracy = []\n",
    "precision = []\n",
    "recall = []\n",
    "\n",
    "\n",
    "#Pour l'instant étant donné les restrictions de planning je vais me contenter des parametre de base je modifierais\n",
    "#Par la suite.\n",
    "\n",
    "def add_models (X_train, y_train, X_test, y_test, sampling_name, pca_presence, norma,feat, onehot):\n",
    "    \n",
    "    for x in range(1):\n",
    "        lr = LogisticRegression(max_iter = 1000).fit(X_train,y_train)\n",
    "        result_lr = lr.predict(X_test)\n",
    "        models.append(\"LogisticRegression\")\n",
    "        sampling.append(sampling_name)\n",
    "        w_pca.append(pca_presence)\n",
    "        normalize.append(norma)\n",
    "        feature.append(feat)\n",
    "        encoded.append(onehot)\n",
    "        accuracy.append(accuracy_score(y_test, result_lr))\n",
    "        precision.append(precision_score(y_test, result_lr))\n",
    "        recall.append(recall_score(y_test, result_lr))\n",
    "        \n",
    "        clf = DecisionTreeClassifier(max_depth=3).fit(X_train, y_train)\n",
    "        result_clf = clf.predict(X_test)\n",
    "        models.append(\"DecisionTree\")\n",
    "        sampling.append(sampling_name)\n",
    "        w_pca.append(pca_presence)\n",
    "        normalize.append(norma)\n",
    "        feature.append(feat)\n",
    "        encoded.append(onehot)\n",
    "        accuracy.append(accuracy_score(y_test, result_clf))\n",
    "        precision.append(precision_score(y_test, result_clf))\n",
    "        recall.append(recall_score(y_test, result_clf))\n",
    "        \n",
    "        rfc = RandomForestClassifier().fit(X_train, y_train)\n",
    "        result_rfc = rfc.predict(X_test)\n",
    "        models.append(\"RandomForest\")\n",
    "        sampling.append(sampling_name)\n",
    "        w_pca.append(pca_presence)\n",
    "        normalize.append(norma)\n",
    "        feature.append(feat)\n",
    "        encoded.append(onehot)\n",
    "        accuracy.append(accuracy_score(y_test, result_rfc))\n",
    "        precision.append(precision_score(y_test, result_rfc))\n",
    "        recall.append(recall_score(y_test, result_rfc))\n",
    "        \n",
    "        xgb = XGBClassifier().fit(X_train, y_train)\n",
    "        result_xgb = xgb.predict(X_test)\n",
    "        models.append(\"XGBClassifier\")\n",
    "        sampling.append(sampling_name)\n",
    "        w_pca.append(pca_presence)\n",
    "        normalize.append(norma)\n",
    "        feature.append(feat)\n",
    "        encoded.append(onehot)\n",
    "        accuracy.append(accuracy_score(y_test, result_xgb))\n",
    "        precision.append(precision_score(y_test, result_xgb))\n",
    "        recall.append(recall_score(y_test, result_xgb))\n",
    "            \n",
    "        svm = svml.SVC().fit(X_train, y_train)\n",
    "        result_svm = svm.predict(X_test)\n",
    "        models.append(\"Support Vector Machine\")\n",
    "        sampling.append(sampling_name)\n",
    "        w_pca.append(pca_presence)\n",
    "        normalize.append(norma)\n",
    "        feature.append(feat)\n",
    "        encoded.append(onehot)\n",
    "        accuracy.append(accuracy_score(y_test, result_svm))\n",
    "        precision.append(precision_score(y_test, result_svm))\n",
    "        recall.append(recall_score(y_test, result_svm))"
   ]
  },
  {
   "cell_type": "markdown",
   "metadata": {},
   "source": [
    "### <a id=\"22\">Full Data modeling</a>"
   ]
  },
  {
   "cell_type": "markdown",
   "metadata": {},
   "source": [
    "#### df_encoded"
   ]
  },
  {
   "cell_type": "code",
   "execution_count": null,
   "metadata": {},
   "outputs": [],
   "source": [
    "X_train, X_test, y_train, y_test = (\n",
    "    train_test_split(df_encoded2.iloc[:,:-1],df_encoded2[[\"Loan_Status\"]], train_size=0.8))"
   ]
  },
  {
   "cell_type": "code",
   "execution_count": null,
   "metadata": {},
   "outputs": [],
   "source": [
    "add_models(X_train, y_train, X_test, y_test, \"No\", \"No\",\"No\",\"Full\",\"Yes\")"
   ]
  },
  {
   "cell_type": "markdown",
   "metadata": {},
   "source": [
    "#### df_catnum"
   ]
  },
  {
   "cell_type": "code",
   "execution_count": null,
   "metadata": {},
   "outputs": [],
   "source": [
    "X_train, X_test, y_train, y_test = (\n",
    "    train_test_split(df_catnum2.iloc[:,:-1],df_catnum2[[\"Loan_Status\"]], train_size=0.8))"
   ]
  },
  {
   "cell_type": "code",
   "execution_count": null,
   "metadata": {},
   "outputs": [],
   "source": [
    "add_models(X_train, y_train, X_test, y_test, \"No\", \"No\",\"No\",\"Full\",\"No\")"
   ]
  },
  {
   "cell_type": "markdown",
   "metadata": {},
   "source": [
    "#### df_encoded_smote"
   ]
  },
  {
   "cell_type": "code",
   "execution_count": null,
   "metadata": {},
   "outputs": [],
   "source": [
    "X_train, X_test, y_train, y_test =(\n",
    "    train_test_split(df_encoded_smote.iloc[:,:-1],df_encoded_smote[[\"Loan_Status\"]], train_size=0.8))"
   ]
  },
  {
   "cell_type": "code",
   "execution_count": null,
   "metadata": {},
   "outputs": [],
   "source": [
    "add_models(X_train, y_train, X_test, y_test, \"Smote\", \"No\",\"No\",\"Full\",\"Yes\")"
   ]
  },
  {
   "cell_type": "markdown",
   "metadata": {},
   "source": [
    "#### df_encoded_over"
   ]
  },
  {
   "cell_type": "code",
   "execution_count": null,
   "metadata": {},
   "outputs": [],
   "source": [
    "X_train, X_test, y_train, y_test = (\n",
    "    train_test_split(df_encoded_over.iloc[:,:-1],df_encoded_over[[\"Loan_Status\"]], train_size=0.8))\n"
   ]
  },
  {
   "cell_type": "code",
   "execution_count": null,
   "metadata": {},
   "outputs": [],
   "source": [
    "add_models(X_train, y_train, X_test, y_test, \"Oversampling\", \"No\",\"No\",\"Full\",\"Yes\")"
   ]
  },
  {
   "cell_type": "markdown",
   "metadata": {},
   "source": [
    "#### df_catnum_smote"
   ]
  },
  {
   "cell_type": "code",
   "execution_count": null,
   "metadata": {},
   "outputs": [],
   "source": [
    "X_train, X_test, y_train, y_test = (\n",
    "    train_test_split(df_catnum_smote.iloc[:,:-1],df_catnum_smote[[\"Loan_Status\"]], train_size=0.8))"
   ]
  },
  {
   "cell_type": "code",
   "execution_count": null,
   "metadata": {},
   "outputs": [],
   "source": [
    "add_models(X_train, y_train, X_test, y_test, \"Smote\", \"No\",\"No\",\"Full\",\"No\")"
   ]
  },
  {
   "cell_type": "markdown",
   "metadata": {},
   "source": [
    "#### df_catnum_over"
   ]
  },
  {
   "cell_type": "code",
   "execution_count": null,
   "metadata": {},
   "outputs": [],
   "source": [
    "X_train, X_test, y_train, y_test = (\n",
    "    train_test_split(df_catnum_over.iloc[:,:-1],df_catnum_over[[\"Loan_Status\"]], train_size=0.8))"
   ]
  },
  {
   "cell_type": "code",
   "execution_count": null,
   "metadata": {},
   "outputs": [],
   "source": [
    "add_models(X_train, y_train, X_test, y_test, \"Oversampling\", \"No\",\"No\",\"Full\",\"No\")"
   ]
  },
  {
   "cell_type": "markdown",
   "metadata": {},
   "source": [
    "#### norm_encoded"
   ]
  },
  {
   "cell_type": "code",
   "execution_count": null,
   "metadata": {},
   "outputs": [],
   "source": [
    "X_train, X_test, y_train, y_test = (\n",
    "    train_test_split(norm_encoded.iloc[:,:-1],norm_encoded[[\"Loan_Status\"]], train_size=0.8))"
   ]
  },
  {
   "cell_type": "code",
   "execution_count": null,
   "metadata": {},
   "outputs": [],
   "source": [
    "add_models(X_train, y_train, X_test, y_test, \"No\", \"No\",\"Yes\",\"Full\",\"Yes\")"
   ]
  },
  {
   "cell_type": "markdown",
   "metadata": {},
   "source": [
    "#### norm_encoded_smote"
   ]
  },
  {
   "cell_type": "code",
   "execution_count": null,
   "metadata": {},
   "outputs": [],
   "source": [
    "X_train, X_test, y_train, y_test = (\n",
    "    train_test_split(norm_encoded_smote.iloc[:,:-1],norm_encoded_smote[[\"Loan_Status\"]], train_size=0.8))"
   ]
  },
  {
   "cell_type": "code",
   "execution_count": null,
   "metadata": {},
   "outputs": [],
   "source": [
    "add_models(X_train, y_train, X_test, y_test, \"Smote\", \"No\",\"Yes\",\"Full\",\"Yes\")"
   ]
  },
  {
   "cell_type": "markdown",
   "metadata": {},
   "source": [
    "#### norm_encoded_over"
   ]
  },
  {
   "cell_type": "code",
   "execution_count": null,
   "metadata": {},
   "outputs": [],
   "source": [
    "X_train, X_test, y_train, y_test = (\n",
    "    train_test_split(norm_encoded_over.iloc[:,:-1],norm_encoded_over[[\"Loan_Status\"]], train_size=0.8))"
   ]
  },
  {
   "cell_type": "code",
   "execution_count": null,
   "metadata": {},
   "outputs": [],
   "source": [
    "add_models(X_train, y_train, X_test, y_test, \"Oversampling\", \"No\",\"Yes\",\"Full\",\"Yes\")"
   ]
  },
  {
   "cell_type": "markdown",
   "metadata": {},
   "source": [
    "#### norm_catnum"
   ]
  },
  {
   "cell_type": "code",
   "execution_count": null,
   "metadata": {},
   "outputs": [],
   "source": [
    "X_train, X_test, y_train, y_test = (\n",
    "    train_test_split(norm_catnum.iloc[:,:-1],norm_catnum[[\"Loan_Status\"]], train_size=0.8))"
   ]
  },
  {
   "cell_type": "code",
   "execution_count": null,
   "metadata": {},
   "outputs": [],
   "source": [
    "add_models(X_train, y_train, X_test, y_test, \"No\", \"No\",\"Yes\",\"Full\",\"No\")"
   ]
  },
  {
   "cell_type": "markdown",
   "metadata": {},
   "source": [
    "#### norm_catnum_smote"
   ]
  },
  {
   "cell_type": "code",
   "execution_count": null,
   "metadata": {},
   "outputs": [],
   "source": [
    "X_train, X_test, y_train, y_test = (\n",
    "    train_test_split(norm_catnum_smote.iloc[:,:-1],norm_catnum_smote[[\"Loan_Status\"]], train_size=0.8))"
   ]
  },
  {
   "cell_type": "code",
   "execution_count": null,
   "metadata": {},
   "outputs": [],
   "source": [
    "add_models(X_train, y_train, X_test, y_test, \"Smote\", \"No\",\"Yes\",\"Full\",\"No\")"
   ]
  },
  {
   "cell_type": "markdown",
   "metadata": {},
   "source": [
    "#### norm_catnum_over"
   ]
  },
  {
   "cell_type": "code",
   "execution_count": null,
   "metadata": {},
   "outputs": [],
   "source": [
    "X_train, X_test, y_train, y_test = (\n",
    "    train_test_split(norm_catnum_over.iloc[:,:-1],norm_catnum_over[[\"Loan_Status\"]], train_size=0.8))"
   ]
  },
  {
   "cell_type": "code",
   "execution_count": null,
   "metadata": {},
   "outputs": [],
   "source": [
    "add_models(X_train, y_train, X_test, y_test, \"Oversampling\", \"No\",\"Yes\",\"Full\",\"No\")"
   ]
  },
  {
   "cell_type": "markdown",
   "metadata": {},
   "source": [
    "#### df_PCA"
   ]
  },
  {
   "cell_type": "code",
   "execution_count": null,
   "metadata": {},
   "outputs": [],
   "source": [
    "X_train, X_test, y_train, y_test = (\n",
    "    train_test_split(df_PCA.iloc[:,:-1],df_PCA[[\"Loan_Status\"]], train_size=0.8))"
   ]
  },
  {
   "cell_type": "code",
   "execution_count": null,
   "metadata": {},
   "outputs": [],
   "source": [
    "add_models(X_train, y_train, X_test, y_test, \"Oversampling\", \"Yes\",\"Yes\",\"8 componant\",\"Yes\")"
   ]
  },
  {
   "cell_type": "markdown",
   "metadata": {},
   "source": [
    "### <a id=\"23\"> Only Best Features </a>"
   ]
  },
  {
   "cell_type": "markdown",
   "metadata": {},
   "source": [
    "Prenons deux de nos dataframe les plus complet et non modifié(Df_encoded_over et df_catnum_over)et utilisons notre modèle Random Forest qui va nous permettre de visualiser l'importance de nos features.   "
   ]
  },
  {
   "cell_type": "markdown",
   "metadata": {},
   "source": [
    "#### Encoded_Over"
   ]
  },
  {
   "cell_type": "code",
   "execution_count": null,
   "metadata": {},
   "outputs": [],
   "source": [
    "X_train, X_test, y_train, y_test = (\n",
    "    train_test_split(df_encoded_over.iloc[:,:-1],df_encoded_over[[\"Loan_Status\"]], train_size=0.8))"
   ]
  },
  {
   "cell_type": "code",
   "execution_count": null,
   "metadata": {},
   "outputs": [],
   "source": [
    "rfc = RandomForestClassifier().fit(X_train, y_train)\n",
    "result_rfc = rfc.predict(X_test)"
   ]
  },
  {
   "cell_type": "code",
   "execution_count": null,
   "metadata": {},
   "outputs": [],
   "source": [
    "rfc.feature_importances_"
   ]
  },
  {
   "cell_type": "code",
   "execution_count": null,
   "metadata": {},
   "outputs": [],
   "source": [
    "feature_imp = pd.Series(rfc.feature_importances_, index=df_encoded_over.iloc[:,:-1].columns).sort_values(ascending=False)\n",
    "plt.figure(figsize=(15,20))\n",
    "sns.barplot(x=feature_imp, y=feature_imp.index)"
   ]
  },
  {
   "cell_type": "markdown",
   "metadata": {},
   "source": [
    "#### Catnum_Over"
   ]
  },
  {
   "cell_type": "code",
   "execution_count": null,
   "metadata": {},
   "outputs": [],
   "source": [
    "X_train, X_test, y_train, y_test = (\n",
    "    train_test_split(df_catnum_over.iloc[:,:-1],df_catnum_over[[\"Loan_Status\"]], train_size=0.8))"
   ]
  },
  {
   "cell_type": "code",
   "execution_count": null,
   "metadata": {},
   "outputs": [],
   "source": [
    "rfc = RandomForestClassifier().fit(X_train, y_train)\n",
    "result_rfc = rfc.predict(X_test)"
   ]
  },
  {
   "cell_type": "code",
   "execution_count": null,
   "metadata": {},
   "outputs": [],
   "source": [
    "feature_imp = pd.Series(rfc.feature_importances_, index=df_catnum_over.iloc[:,:-1].columns).sort_values(ascending=False)\n",
    "plt.figure(figsize=(15,20))\n",
    "sns.barplot(x=feature_imp, y=feature_imp.index)"
   ]
  },
  {
   "cell_type": "markdown",
   "metadata": {},
   "source": [
    "#### Note c'est très intéressant de voir que les features applicantincome / Total Income / pondincome soient beaucoup remonté par rapport aux résultat de notre K-Best.\n",
    "\n",
    "#### Cependant je m'intéroge sur la possibilité que ces trois features soient finalement redondante."
   ]
  },
  {
   "cell_type": "code",
   "execution_count": null,
   "metadata": {},
   "outputs": [],
   "source": [
    "correlation_matrix(df_catnum_smote)"
   ]
  },
  {
   "cell_type": "markdown",
   "metadata": {},
   "source": [
    "Finalement on ne dépasse pas vraiment les 0.9 de corrélation je pense que je peux garder les 3. \n",
    "Je suis maintenant curieux d'appliquer la feature importance sur mes données normalisé."
   ]
  },
  {
   "cell_type": "code",
   "execution_count": null,
   "metadata": {},
   "outputs": [],
   "source": [
    "correlation_matrix(df_encoded_smote)"
   ]
  },
  {
   "cell_type": "markdown",
   "metadata": {},
   "source": [
    "Ici par contre on voient bien que les one hot binaire ont une corélation inverse peut-être devrais-je envisager d'amputer mon jeu de données de ces doublons. "
   ]
  },
  {
   "cell_type": "code",
   "execution_count": null,
   "metadata": {},
   "outputs": [],
   "source": [
    "X_train, X_test, y_train, y_test = (\n",
    "    train_test_split(df_catnum_over.iloc[:,:-1],norm_catnum_over[[\"Loan_Status\"]], train_size=0.8))"
   ]
  },
  {
   "cell_type": "code",
   "execution_count": null,
   "metadata": {},
   "outputs": [],
   "source": [
    "rfc = RandomForestClassifier().fit(X_train, y_train)\n",
    "result_rfc = rfc.predict(X_test)\n",
    "\n",
    "feature_imp = pd.Series(rfc.feature_importances_, index=df_catnum_over.iloc[:,:-1].columns).sort_values(ascending=False)\n",
    "plt.figure(figsize=(15,20))\n",
    "sns.barplot(x=feature_imp, y=feature_imp.index)"
   ]
  },
  {
   "cell_type": "markdown",
   "metadata": {},
   "source": [
    "#### note : On retrouve les mêmes résultat !"
   ]
  },
  {
   "cell_type": "markdown",
   "metadata": {},
   "source": [
    "#### On va donc partir sur deux protocoles : \n",
    "<b><ul><li>Utiliser les 8 meilleurs features choisi par notre random forest </li>\n",
    "    <li>Utiliser les 6 meilleurs features choisi par nos K-best</li>\n",
    "    <li>Enfin tenter une version sans doublon pour les version one hot encoder</ul></b>"
   ]
  },
  {
   "cell_type": "code",
   "execution_count": null,
   "metadata": {},
   "outputs": [],
   "source": [
    "#Random Forest Best Features\n",
    "feature_rf_encoded_doble=['Never_Credit', 'Already_Credit','Total_Income', 'Refund_Time','Income_pond','ApplicantIncome','CoapplicantIncome', 'LoanAmount']\n",
    "feature_rf_encoded_no_doble=['Never_Credit','Total_Income', 'Refund_Time','Income_pond','ApplicantIncome','CoapplicantIncome', 'LoanAmount',\"Loan_Amount_Term\"]\n",
    "feature_rf_catnum=['Credit_History', 'Property_Area', 'Total_Income','Refund_Time','Income_pond','ApplicantIncome', 'CoapplicantIncome', 'LoanAmount']\n",
    "\n",
    "#Kbest best Features\n",
    "feature_kb_catnum=['LoanAmount','Loan_Amount_Term','Refund_Time','Family','Education','Credit_History']\n",
    "feature_kb_encoded_doble=['LoanAmount','Loan_Amount_Term','Refund_Time','Never_Credit','Rural', 'SemiUrban','Already_Credit']\n",
    "feature_kb_encoded_no_doble=['LoanAmount','Loan_Amount_Term','Refund_Time','Never_Credit','Rural', 'SemiUrban']"
   ]
  },
  {
   "cell_type": "markdown",
   "metadata": {},
   "source": [
    "### <a id=\"24\">Partial Data Modeling</a>"
   ]
  },
  {
   "cell_type": "markdown",
   "metadata": {},
   "source": [
    "#### Encoded"
   ]
  },
  {
   "cell_type": "markdown",
   "metadata": {},
   "source": [
    "#### K best Features"
   ]
  },
  {
   "cell_type": "code",
   "execution_count": null,
   "metadata": {},
   "outputs": [],
   "source": [
    "X_train, X_test, y_train, y_test = (\n",
    "    train_test_split(df_encoded2[feature_kb_encoded_doble],df_encoded2[[\"Loan_Status\"]], train_size=0.8))"
   ]
  },
  {
   "cell_type": "code",
   "execution_count": null,
   "metadata": {},
   "outputs": [],
   "source": [
    "add_models(X_train, y_train, X_test, y_test, \"No\", \"No\",\"No\",\"7 from Kbest\",\"Yes\")"
   ]
  },
  {
   "cell_type": "markdown",
   "metadata": {},
   "source": [
    "#### Random Forest best Features"
   ]
  },
  {
   "cell_type": "code",
   "execution_count": null,
   "metadata": {},
   "outputs": [],
   "source": [
    "X_train, X_test, y_train, y_test = (\n",
    "    train_test_split(df_encoded2[feature_rf_encoded_doble],df_encoded2[[\"Loan_Status\"]], train_size=0.8))"
   ]
  },
  {
   "cell_type": "code",
   "execution_count": null,
   "metadata": {},
   "outputs": [],
   "source": [
    "add_models(X_train, y_train, X_test, y_test, \"No\", \"No\",\"No\",\"8 from RandomForest\",\"Yes\")"
   ]
  },
  {
   "cell_type": "markdown",
   "metadata": {},
   "source": [
    "#### Without Doublon RF"
   ]
  },
  {
   "cell_type": "code",
   "execution_count": null,
   "metadata": {},
   "outputs": [],
   "source": [
    "X_train, X_test, y_train, y_test = (\n",
    "    train_test_split(df_encoded2[feature_rf_encoded_no_doble],df_encoded2[[\"Loan_Status\"]], train_size=0.8))"
   ]
  },
  {
   "cell_type": "code",
   "execution_count": null,
   "metadata": {},
   "outputs": [],
   "source": [
    "add_models(X_train, y_train, X_test, y_test, \"No\", \"No\",\"No\",\"8 without duplicate\",\"Yes\")"
   ]
  },
  {
   "cell_type": "markdown",
   "metadata": {},
   "source": [
    "#### Catnum"
   ]
  },
  {
   "cell_type": "markdown",
   "metadata": {},
   "source": [
    "#### K best Features"
   ]
  },
  {
   "cell_type": "code",
   "execution_count": null,
   "metadata": {},
   "outputs": [],
   "source": [
    "X_train, X_test, y_train, y_test = (\n",
    "    train_test_split(df_catnum2[feature_kb_catnum],df_catnum2[[\"Loan_Status\"]], train_size=0.8))"
   ]
  },
  {
   "cell_type": "code",
   "execution_count": null,
   "metadata": {},
   "outputs": [],
   "source": [
    "add_models(X_train, y_train, X_test, y_test, \"No\", \"No\",\"No\",\"6 from Kbest\",\"No\")"
   ]
  },
  {
   "cell_type": "markdown",
   "metadata": {},
   "source": [
    "#### Random Forest best Features"
   ]
  },
  {
   "cell_type": "code",
   "execution_count": null,
   "metadata": {},
   "outputs": [],
   "source": [
    "X_train, X_test, y_train, y_test = (\n",
    "    train_test_split(df_catnum2[feature_rf_catnum],df_catnum2[[\"Loan_Status\"]], train_size=0.8))"
   ]
  },
  {
   "cell_type": "code",
   "execution_count": null,
   "metadata": {},
   "outputs": [],
   "source": [
    "add_models(X_train, y_train, X_test, y_test, \"No\", \"No\",\"No\",\"8 from RandomForest\",\"No\")"
   ]
  },
  {
   "cell_type": "markdown",
   "metadata": {},
   "source": [
    "#### Encoded Smote"
   ]
  },
  {
   "cell_type": "markdown",
   "metadata": {},
   "source": [
    "#### K best Features"
   ]
  },
  {
   "cell_type": "code",
   "execution_count": null,
   "metadata": {},
   "outputs": [],
   "source": [
    "X_train, X_test, y_train, y_test =(\n",
    "    train_test_split(df_encoded_smote[feature_kb_encoded_doble],df_encoded_smote[[\"Loan_Status\"]], train_size=0.8))"
   ]
  },
  {
   "cell_type": "code",
   "execution_count": null,
   "metadata": {},
   "outputs": [],
   "source": [
    "add_models(X_train, y_train, X_test, y_test, \"Smote\", \"No\",\"No\",\"7 from Kbest\",\"Yes\")"
   ]
  },
  {
   "cell_type": "markdown",
   "metadata": {},
   "source": [
    "#### Random Forest best Features"
   ]
  },
  {
   "cell_type": "code",
   "execution_count": null,
   "metadata": {},
   "outputs": [],
   "source": [
    "X_train, X_test, y_train, y_test =(\n",
    "    train_test_split(df_encoded_smote[feature_rf_encoded_doble],df_encoded_smote[[\"Loan_Status\"]], train_size=0.8))"
   ]
  },
  {
   "cell_type": "code",
   "execution_count": null,
   "metadata": {},
   "outputs": [],
   "source": [
    "add_models(X_train, y_train, X_test, y_test, \"Smote\", \"No\",\"No\",\"8 from RandomForest\",\"Yes\")"
   ]
  },
  {
   "cell_type": "markdown",
   "metadata": {},
   "source": [
    "#### Without Doublon RF"
   ]
  },
  {
   "cell_type": "code",
   "execution_count": null,
   "metadata": {},
   "outputs": [],
   "source": [
    "X_train, X_test, y_train, y_test =(\n",
    "    train_test_split(df_encoded_smote[feature_rf_encoded_no_doble],df_encoded_smote[[\"Loan_Status\"]], train_size=0.8))"
   ]
  },
  {
   "cell_type": "code",
   "execution_count": null,
   "metadata": {},
   "outputs": [],
   "source": [
    "add_models(X_train, y_train, X_test, y_test, \"Smote\", \"No\",\"No\",\"8 without duplicate\",\"Yes\")"
   ]
  },
  {
   "cell_type": "markdown",
   "metadata": {},
   "source": [
    "#### Encoded Over"
   ]
  },
  {
   "cell_type": "markdown",
   "metadata": {},
   "source": [
    "#### K best Features"
   ]
  },
  {
   "cell_type": "code",
   "execution_count": null,
   "metadata": {},
   "outputs": [],
   "source": [
    "X_train, X_test, y_train, y_test = (\n",
    "    train_test_split(df_encoded_over[feature_kb_encoded_doble],df_encoded_over[[\"Loan_Status\"]], train_size=0.8))"
   ]
  },
  {
   "cell_type": "code",
   "execution_count": null,
   "metadata": {},
   "outputs": [],
   "source": [
    "add_models(X_train, y_train, X_test, y_test, \"Oversampling\", \"No\",\"No\",\"7 from Kbest\",\"Yes\")"
   ]
  },
  {
   "cell_type": "markdown",
   "metadata": {},
   "source": [
    "#### Random Forest best Features"
   ]
  },
  {
   "cell_type": "code",
   "execution_count": null,
   "metadata": {},
   "outputs": [],
   "source": [
    "X_train, X_test, y_train, y_test = (\n",
    "    train_test_split(df_encoded_over[feature_rf_encoded_doble],df_encoded_over[[\"Loan_Status\"]], train_size=0.8))"
   ]
  },
  {
   "cell_type": "code",
   "execution_count": null,
   "metadata": {},
   "outputs": [],
   "source": [
    "add_models(X_train, y_train, X_test, y_test, \"Oversampling\", \"No\",\"No\",\"8 from RandomForest\",\"Yes\")"
   ]
  },
  {
   "cell_type": "markdown",
   "metadata": {},
   "source": [
    "#### Without Doublon RF"
   ]
  },
  {
   "cell_type": "code",
   "execution_count": null,
   "metadata": {},
   "outputs": [],
   "source": [
    "X_train, X_test, y_train, y_test = (\n",
    "    train_test_split(df_encoded_over[feature_rf_encoded_no_doble],df_encoded_over[[\"Loan_Status\"]], train_size=0.8))"
   ]
  },
  {
   "cell_type": "code",
   "execution_count": null,
   "metadata": {},
   "outputs": [],
   "source": [
    "add_models(X_train, y_train, X_test, y_test, \"Oversampling\", \"No\",\"No\",\"8 without duplicate\",\"Yes\")"
   ]
  },
  {
   "cell_type": "markdown",
   "metadata": {},
   "source": [
    "#### Catnum Smote"
   ]
  },
  {
   "cell_type": "markdown",
   "metadata": {},
   "source": [
    "#### K best Features"
   ]
  },
  {
   "cell_type": "code",
   "execution_count": null,
   "metadata": {},
   "outputs": [],
   "source": [
    "X_train, X_test, y_train, y_test = (\n",
    "    train_test_split(df_catnum_smote[feature_kb_catnum],df_catnum_smote[[\"Loan_Status\"]], train_size=0.8))"
   ]
  },
  {
   "cell_type": "code",
   "execution_count": null,
   "metadata": {},
   "outputs": [],
   "source": [
    "add_models(X_train, y_train, X_test, y_test, \"Smote\", \"No\",\"No\",\"6 from Kbest\",\"No\")"
   ]
  },
  {
   "cell_type": "markdown",
   "metadata": {},
   "source": [
    "#### Random Forest best Features"
   ]
  },
  {
   "cell_type": "code",
   "execution_count": null,
   "metadata": {},
   "outputs": [],
   "source": [
    "X_train, X_test, y_train, y_test = (\n",
    "    train_test_split(df_catnum_smote[feature_rf_catnum],df_catnum_smote[[\"Loan_Status\"]], train_size=0.8))"
   ]
  },
  {
   "cell_type": "code",
   "execution_count": null,
   "metadata": {},
   "outputs": [],
   "source": [
    "add_models(X_train, y_train, X_test, y_test, \"Smote\", \"No\",\"No\",\"8 from RandomForest\",\"No\")"
   ]
  },
  {
   "cell_type": "markdown",
   "metadata": {},
   "source": [
    "#### Catnum Over"
   ]
  },
  {
   "cell_type": "markdown",
   "metadata": {},
   "source": [
    "#### K best Features"
   ]
  },
  {
   "cell_type": "code",
   "execution_count": null,
   "metadata": {},
   "outputs": [],
   "source": [
    "X_train, X_test, y_train, y_test = (\n",
    "    train_test_split(df_catnum_over[feature_kb_catnum],df_catnum_over[[\"Loan_Status\"]], train_size=0.8))"
   ]
  },
  {
   "cell_type": "code",
   "execution_count": null,
   "metadata": {},
   "outputs": [],
   "source": [
    "add_models(X_train, y_train, X_test, y_test, \"Oversampling\", \"No\",\"No\",\"6 from Kbest\",\"No\")"
   ]
  },
  {
   "cell_type": "markdown",
   "metadata": {},
   "source": [
    "#### Random Forest best Features"
   ]
  },
  {
   "cell_type": "code",
   "execution_count": null,
   "metadata": {},
   "outputs": [],
   "source": [
    "X_train, X_test, y_train, y_test = (\n",
    "    train_test_split(df_catnum_over[feature_rf_catnum],df_catnum_over[[\"Loan_Status\"]], train_size=0.8))"
   ]
  },
  {
   "cell_type": "code",
   "execution_count": null,
   "metadata": {},
   "outputs": [],
   "source": [
    "add_models(X_train, y_train, X_test, y_test, \"Oversampling\", \"No\",\"No\",\"8 from RandomForest\",\"No\")"
   ]
  },
  {
   "cell_type": "markdown",
   "metadata": {},
   "source": [
    "#### Normalise Encoded"
   ]
  },
  {
   "cell_type": "markdown",
   "metadata": {},
   "source": [
    "#### K best Features"
   ]
  },
  {
   "cell_type": "code",
   "execution_count": null,
   "metadata": {},
   "outputs": [],
   "source": [
    "X_train, X_test, y_train, y_test = (\n",
    "    train_test_split(norm_encoded[feature_kb_encoded_doble],norm_encoded[[\"Loan_Status\"]], train_size=0.8))"
   ]
  },
  {
   "cell_type": "code",
   "execution_count": null,
   "metadata": {},
   "outputs": [],
   "source": [
    "add_models(X_train, y_train, X_test, y_test, \"No\", \"No\",\"Yes\",\"7 from Kbest\",\"Yes\")"
   ]
  },
  {
   "cell_type": "markdown",
   "metadata": {},
   "source": [
    "#### Random Forest best Features"
   ]
  },
  {
   "cell_type": "code",
   "execution_count": null,
   "metadata": {},
   "outputs": [],
   "source": [
    "X_train, X_test, y_train, y_test = (\n",
    "    train_test_split(norm_encoded[feature_rf_encoded_doble],norm_encoded[[\"Loan_Status\"]], train_size=0.8))"
   ]
  },
  {
   "cell_type": "code",
   "execution_count": null,
   "metadata": {},
   "outputs": [],
   "source": [
    "add_models(X_train, y_train, X_test, y_test, \"No\", \"No\",\"Yes\",\"8 from RandomForest\",\"Yes\")"
   ]
  },
  {
   "cell_type": "markdown",
   "metadata": {},
   "source": [
    "#### Without Doublon RF"
   ]
  },
  {
   "cell_type": "code",
   "execution_count": null,
   "metadata": {},
   "outputs": [],
   "source": [
    "X_train, X_test, y_train, y_test = (\n",
    "    train_test_split(norm_encoded[feature_rf_encoded_no_doble],norm_encoded[[\"Loan_Status\"]], train_size=0.8))"
   ]
  },
  {
   "cell_type": "code",
   "execution_count": null,
   "metadata": {},
   "outputs": [],
   "source": [
    "add_models(X_train, y_train, X_test, y_test, \"No\", \"No\",\"Yes\",\"8 without duplicate\",\"Yes\")"
   ]
  },
  {
   "cell_type": "markdown",
   "metadata": {},
   "source": [
    "#### Normalise Encoded Smote"
   ]
  },
  {
   "cell_type": "markdown",
   "metadata": {},
   "source": [
    "#### K best Features"
   ]
  },
  {
   "cell_type": "code",
   "execution_count": null,
   "metadata": {},
   "outputs": [],
   "source": [
    "X_train, X_test, y_train, y_test = (\n",
    "    train_test_split(norm_encoded_smote[feature_kb_encoded_doble],norm_encoded_smote[[\"Loan_Status\"]], train_size=0.8))"
   ]
  },
  {
   "cell_type": "code",
   "execution_count": null,
   "metadata": {},
   "outputs": [],
   "source": [
    "add_models(X_train, y_train, X_test, y_test, \"Smote\", \"No\",\"Yes\",\"7 from Kbest\",\"Yes\")"
   ]
  },
  {
   "cell_type": "markdown",
   "metadata": {},
   "source": [
    "#### Random Forest best Features"
   ]
  },
  {
   "cell_type": "code",
   "execution_count": null,
   "metadata": {},
   "outputs": [],
   "source": [
    "X_train, X_test, y_train, y_test = (\n",
    "    train_test_split(norm_encoded_smote[feature_rf_encoded_doble],norm_encoded_smote[[\"Loan_Status\"]], train_size=0.8))"
   ]
  },
  {
   "cell_type": "code",
   "execution_count": null,
   "metadata": {},
   "outputs": [],
   "source": [
    "add_models(X_train, y_train, X_test, y_test, \"Smote\", \"No\",\"Yes\",\"8 from RandomForest\",\"Yes\")"
   ]
  },
  {
   "cell_type": "markdown",
   "metadata": {},
   "source": [
    "#### Without Doublon RF"
   ]
  },
  {
   "cell_type": "code",
   "execution_count": null,
   "metadata": {},
   "outputs": [],
   "source": [
    "X_train, X_test, y_train, y_test = (\n",
    "    train_test_split(norm_encoded_smote[feature_rf_encoded_no_doble],norm_encoded_smote[[\"Loan_Status\"]], train_size=0.8))"
   ]
  },
  {
   "cell_type": "code",
   "execution_count": null,
   "metadata": {},
   "outputs": [],
   "source": [
    "add_models(X_train, y_train, X_test, y_test, \"Smote\", \"No\",\"Yes\",\"8 without duplicate\",\"Yes\")"
   ]
  },
  {
   "cell_type": "markdown",
   "metadata": {},
   "source": [
    "#### Normalise Encode Over"
   ]
  },
  {
   "cell_type": "markdown",
   "metadata": {},
   "source": [
    "#### K best Features"
   ]
  },
  {
   "cell_type": "code",
   "execution_count": null,
   "metadata": {},
   "outputs": [],
   "source": [
    "X_train, X_test, y_train, y_test = (\n",
    "    train_test_split(norm_encoded_over[feature_kb_encoded_doble],norm_encoded_over[[\"Loan_Status\"]], train_size=0.8))"
   ]
  },
  {
   "cell_type": "code",
   "execution_count": null,
   "metadata": {},
   "outputs": [],
   "source": [
    "add_models(X_train, y_train, X_test, y_test, \"Oversampling\", \"No\",\"Yes\",\"7 from Kbest\",\"Yes\")"
   ]
  },
  {
   "cell_type": "markdown",
   "metadata": {},
   "source": [
    "#### Random Forest best Features"
   ]
  },
  {
   "cell_type": "code",
   "execution_count": null,
   "metadata": {},
   "outputs": [],
   "source": [
    "X_train, X_test, y_train, y_test = (\n",
    "    train_test_split(norm_encoded_over[feature_rf_encoded_doble],norm_encoded_over[[\"Loan_Status\"]], train_size=0.8))"
   ]
  },
  {
   "cell_type": "code",
   "execution_count": null,
   "metadata": {},
   "outputs": [],
   "source": [
    "add_models(X_train, y_train, X_test, y_test, \"Oversampling\", \"No\",\"Yes\",\"8 from RandomForest\",\"Yes\")"
   ]
  },
  {
   "cell_type": "markdown",
   "metadata": {},
   "source": [
    "#### Without doublon RF"
   ]
  },
  {
   "cell_type": "code",
   "execution_count": null,
   "metadata": {},
   "outputs": [],
   "source": [
    "X_train, X_test, y_train, y_test = (\n",
    "    train_test_split(norm_encoded_over[feature_rf_encoded_no_doble],norm_encoded_over[[\"Loan_Status\"]], train_size=0.8))"
   ]
  },
  {
   "cell_type": "code",
   "execution_count": null,
   "metadata": {},
   "outputs": [],
   "source": [
    "add_models(X_train, y_train, X_test, y_test, \"Oversampling\", \"No\",\"Yes\",\"8 without duplicate\",\"Yes\")"
   ]
  },
  {
   "cell_type": "markdown",
   "metadata": {},
   "source": [
    "#### Normalise Catnum"
   ]
  },
  {
   "cell_type": "markdown",
   "metadata": {},
   "source": [
    "#### K best Features"
   ]
  },
  {
   "cell_type": "code",
   "execution_count": null,
   "metadata": {},
   "outputs": [],
   "source": [
    "X_train, X_test, y_train, y_test = (\n",
    "    train_test_split(norm_catnum[feature_kb_catnum],norm_catnum[[\"Loan_Status\"]], train_size=0.8))"
   ]
  },
  {
   "cell_type": "code",
   "execution_count": null,
   "metadata": {},
   "outputs": [],
   "source": [
    "add_models(X_train, y_train, X_test, y_test, \"No\", \"No\",\"Yes\",\"6 from Kbest\",\"No\")"
   ]
  },
  {
   "cell_type": "markdown",
   "metadata": {},
   "source": [
    "#### Random Forest best Features"
   ]
  },
  {
   "cell_type": "code",
   "execution_count": null,
   "metadata": {},
   "outputs": [],
   "source": [
    "X_train, X_test, y_train, y_test = (\n",
    "    train_test_split(norm_catnum[feature_rf_catnum],norm_catnum[[\"Loan_Status\"]], train_size=0.8))"
   ]
  },
  {
   "cell_type": "code",
   "execution_count": null,
   "metadata": {},
   "outputs": [],
   "source": [
    "add_models(X_train, y_train, X_test, y_test, \"No\", \"No\",\"Yes\",\"8 from RandomForest\",\"No\")"
   ]
  },
  {
   "cell_type": "markdown",
   "metadata": {},
   "source": [
    "#### Normalise Catnum Smote"
   ]
  },
  {
   "cell_type": "markdown",
   "metadata": {},
   "source": [
    "#### K best Features"
   ]
  },
  {
   "cell_type": "code",
   "execution_count": null,
   "metadata": {},
   "outputs": [],
   "source": [
    "X_train, X_test, y_train, y_test = (\n",
    "    train_test_split(norm_catnum_smote[feature_kb_catnum],norm_catnum_smote[[\"Loan_Status\"]], train_size=0.8))"
   ]
  },
  {
   "cell_type": "code",
   "execution_count": null,
   "metadata": {},
   "outputs": [],
   "source": [
    "add_models(X_train, y_train, X_test, y_test, \"Smote\", \"No\",\"Yes\",\"6 from Kbest\",\"No\")"
   ]
  },
  {
   "cell_type": "markdown",
   "metadata": {},
   "source": [
    "#### Random Forest best Features"
   ]
  },
  {
   "cell_type": "code",
   "execution_count": null,
   "metadata": {},
   "outputs": [],
   "source": [
    "X_train, X_test, y_train, y_test = (\n",
    "    train_test_split(norm_catnum_smote[feature_rf_catnum],norm_catnum_smote[[\"Loan_Status\"]], train_size=0.8))"
   ]
  },
  {
   "cell_type": "code",
   "execution_count": null,
   "metadata": {},
   "outputs": [],
   "source": [
    "add_models(X_train, y_train, X_test, y_test, \"Smote\", \"No\",\"Yes\",\"8 from RandomForest\",\"No\")"
   ]
  },
  {
   "cell_type": "markdown",
   "metadata": {},
   "source": [
    "#### Normalise Catnum Over"
   ]
  },
  {
   "cell_type": "markdown",
   "metadata": {},
   "source": [
    "#### K best Features"
   ]
  },
  {
   "cell_type": "code",
   "execution_count": null,
   "metadata": {},
   "outputs": [],
   "source": [
    "X_train, X_test, y_train, y_test = (\n",
    "    train_test_split(norm_catnum_over[feature_kb_catnum],norm_catnum_over[[\"Loan_Status\"]], train_size=0.8))"
   ]
  },
  {
   "cell_type": "code",
   "execution_count": null,
   "metadata": {},
   "outputs": [],
   "source": [
    "add_models(X_train, y_train, X_test, y_test, \"Oversampling\", \"No\",\"Yes\",\"6 from Kbest\",\"No\")"
   ]
  },
  {
   "cell_type": "markdown",
   "metadata": {},
   "source": [
    "#### Random Forest best Features"
   ]
  },
  {
   "cell_type": "code",
   "execution_count": null,
   "metadata": {},
   "outputs": [],
   "source": [
    "X_train, X_test, y_train, y_test = (\n",
    "    train_test_split(norm_catnum_over[feature_rf_catnum],norm_catnum_over[[\"Loan_Status\"]], train_size=0.8))"
   ]
  },
  {
   "cell_type": "code",
   "execution_count": null,
   "metadata": {},
   "outputs": [],
   "source": [
    "add_models(X_train, y_train, X_test, y_test, \"Oversampling\", \"No\",\"Yes\",\"8 from RandomForest\",\"No\")"
   ]
  },
  {
   "cell_type": "markdown",
   "metadata": {},
   "source": [
    "Note à moi même : Faire une boucle la prochaine fois... "
   ]
  },
  {
   "cell_type": "code",
   "execution_count": null,
   "metadata": {},
   "outputs": [],
   "source": [
    "D"
   ]
  },
  {
   "cell_type": "code",
   "execution_count": null,
   "metadata": {},
   "outputs": [],
   "source": [
    "#On créer un df pour stocker les résultat de nos modèles\n",
    "\n",
    "test_models = pd.DataFrame()\n",
    "test_models[\"Model\"] = models\n",
    "test_models[\"Sampling_Method\"] = sampling\n",
    "test_models[\"PCA_Used\"] = w_pca\n",
    "test_models[\"Normalized\"]= normalize\n",
    "test_models['One Hot Encoder']= encoded\n",
    "test_models[\"Number_of_Features\"]=feature\n",
    "test_models[\"Accuracy_score\"] = accuracy\n",
    "test_models[\"Precision_score\"] = precision\n",
    "test_models[\"Recall_score\"] = recall\n",
    "\n",
    "test_models"
   ]
  },
  {
   "cell_type": "markdown",
   "metadata": {},
   "source": [
    "#### Conclusion\n",
    "On a maintenant les résultat de 225 modélisation il va être temps d'analyser les résultats et de vérifier quel model obtiens les meilleurs résultats sans normalisation."
   ]
  },
  {
   "cell_type": "markdown",
   "metadata": {},
   "source": [
    "### <a id='25'><center><font color=\"INDIANRED\">15) Analyse des résultats</font></center></a>"
   ]
  },
  {
   "cell_type": "code",
   "execution_count": null,
   "metadata": {},
   "outputs": [],
   "source": [
    "test_models.sort_values(\"Accuracy_score\", ascending=False)[:10].style.background_gradient(cmap=\"YlGn\")"
   ]
  },
  {
   "cell_type": "markdown",
   "metadata": {},
   "source": [
    "En regardant ce tableau on voit que le modèle qui a globalement le mieux marché est le modèle RandomForest auquel on a donné des donnée traité avec le One Hot Encoder et dont on a utilisé que les 8 meilleurs features généré par RandomForest sans doublons. Les données étaient normalisées."
   ]
  },
  {
   "cell_type": "code",
   "execution_count": null,
   "metadata": {},
   "outputs": [],
   "source": [
    "#Les résultat qui viennent du KBest\n",
    "test_models.loc[test_models['Number_of_Features'].str.contains(\"Kbest\")].sort_values(\"Accuracy_score\", ascending=False)[:10].style.background_gradient(cmap=\"YlGn\")"
   ]
  },
  {
   "cell_type": "markdown",
   "metadata": {},
   "source": [
    "### Etude avancée de notre meilleur combinaison"
   ]
  },
  {
   "cell_type": "code",
   "execution_count": null,
   "metadata": {},
   "outputs": [],
   "source": []
  },
  {
   "cell_type": "code",
   "execution_count": null,
   "metadata": {},
   "outputs": [],
   "source": [
    "#Notre meilleurs modèle norm_encoded_over\n",
    "X_train, X_test, y_train, y_test = (\n",
    "    train_test_split(norm_encoded_over[feature_rf_encoded_no_doble],norm_encoded_over[[\"Loan_Status\"]], train_size=0.8))"
   ]
  },
  {
   "cell_type": "code",
   "execution_count": null,
   "metadata": {},
   "outputs": [],
   "source": [
    "rfc = RandomForestClassifier().fit(X_train, y_train)\n",
    "result_rfc = rfc.predict(X_test)"
   ]
  },
  {
   "cell_type": "code",
   "execution_count": null,
   "metadata": {},
   "outputs": [],
   "source": [
    "print(classification_report(y_test, result_rfc))"
   ]
  },
  {
   "cell_type": "code",
   "execution_count": null,
   "metadata": {},
   "outputs": [],
   "source": [
    "sns.heatmap(confusion_matrix(y_test,result_rfc),annot=True)"
   ]
  },
  {
   "cell_type": "markdown",
   "metadata": {},
   "source": [
    "On peut voir que notre modèle a un jolie résultat global. Notre recall et notre précision score sont assez haut pour chaque target. \n",
    "\n",
    "Celà indique que notre modèle ne fait ni trop de faux positif ni trop faux négatif. (Celà est réflété également par notre F1 score). \n",
    "\n",
    "Observons 1 des 100 arbres généré de manière aléatoire par notre random forest."
   ]
  },
  {
   "cell_type": "code",
   "execution_count": null,
   "metadata": {
    "scrolled": true
   },
   "outputs": [],
   "source": [
    "plt.figure(figsize=[15,15])\n",
    "tree.plot_tree(rfc[0], filled=True, \n",
    "               feature_names=df_encoded2[feature_rf_encoded_doble].columns)\n",
    "plt.show()"
   ]
  },
  {
   "cell_type": "markdown",
   "metadata": {},
   "source": [
    "Relativement difficile à interprêter... "
   ]
  },
  {
   "cell_type": "markdown",
   "metadata": {},
   "source": [
    "On va maintenant sauvegardé notre modèle dans un .pkl que nous pourrons importé dans notre notebook de deploiement. "
   ]
  },
  {
   "cell_type": "markdown",
   "metadata": {},
   "source": [
    "### <a id='26'><center><font color=\"INDIANRED\">16) Exportation de notre modèle entrainé</font></center></a>"
   ]
  },
  {
   "cell_type": "code",
   "execution_count": null,
   "metadata": {},
   "outputs": [],
   "source": [
    "#Pickle va créer une image de notre modèle entrainer avec nos données pour une utilisation futur \n",
    "#Ici dans une application de déploiement\n",
    "pickle.dump(rfc, open(\"model.pkl\", \"wb\"))"
   ]
  }
 ],
 "metadata": {
  "kernelspec": {
   "display_name": "Python 3",
   "language": "python",
   "name": "python3"
  },
  "language_info": {
   "codemirror_mode": {
    "name": "ipython",
    "version": 3
   },
   "file_extension": ".py",
   "mimetype": "text/x-python",
   "name": "python",
   "nbconvert_exporter": "python",
   "pygments_lexer": "ipython3",
   "version": "3.7.6"
  }
 },
 "nbformat": 4,
 "nbformat_minor": 4
}
