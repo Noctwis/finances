{
 "cells": [
  {
   "cell_type": "code",
   "execution_count": 985,
   "metadata": {},
   "outputs": [],
   "source": [
    "import pandas as pd\n",
    "import missingno as mno\n",
    "import xgboost as xgb\n",
    "import seaborn as sns\n",
    "from xgboost import XGBClassifier\n",
    "from sklearn.preprocessing import LabelEncoder\n",
    "from sklearn import metrics,svm\n",
    "from sklearn.model_selection import train_test_split,GridSearchCV, RandomizedSearchCV\n",
    "import matplotlib.pyplot as plt\n",
    "from sklearn.metrics import mean_squared_error, r2_score,classification_report,confusion_matrix, accuracy_score\n",
    "from sklearn.metrics import precision_score, recall_score, f1_score,precision_recall_curve\n",
    "from sklearn.linear_model import LogisticRegression\n",
    "from sklearn.neighbors import KNeighborsClassifier\n",
    "from sklearn.svm import SVC\n",
    "import numpy as np\n",
    "from sklearn import tree,preprocessing \n",
    "from sklearn.ensemble import RandomForestClassifier, AdaBoostClassifier\n",
    "from sklearn.model_selection import learning_curve\n",
    "from sklearn.pipeline import make_pipeline\n",
    "from sklearn.feature_selection import SelectKBest, f_classif\n",
    "from sklearn.decomposition import *\n",
    "from sklearn.preprocessing import *\n",
    "import warnings\n",
    "warnings.filterwarnings('ignore')"
   ]
  },
  {
   "cell_type": "code",
   "execution_count": 986,
   "metadata": {},
   "outputs": [],
   "source": [
    "df_test = pd.read_csv(\"test.csv\")\n",
    "df_train = pd.read_csv(\"train.csv\")\n",
    "df_train2 = pd.read_excel(\"train.xlsx\")\n"
   ]
  },
  {
   "cell_type": "code",
   "execution_count": 987,
   "metadata": {},
   "outputs": [
    {
     "data": {
      "text/html": [
       "<div>\n",
       "<style scoped>\n",
       "    .dataframe tbody tr th:only-of-type {\n",
       "        vertical-align: middle;\n",
       "    }\n",
       "\n",
       "    .dataframe tbody tr th {\n",
       "        vertical-align: top;\n",
       "    }\n",
       "\n",
       "    .dataframe thead th {\n",
       "        text-align: right;\n",
       "    }\n",
       "</style>\n",
       "<table border=\"1\" class=\"dataframe\">\n",
       "  <thead>\n",
       "    <tr style=\"text-align: right;\">\n",
       "      <th></th>\n",
       "      <th>Loan_ID</th>\n",
       "      <th>Gender</th>\n",
       "      <th>Married</th>\n",
       "      <th>Dependents</th>\n",
       "      <th>Education</th>\n",
       "      <th>Self_Employed</th>\n",
       "      <th>ApplicantIncome</th>\n",
       "      <th>CoapplicantIncome</th>\n",
       "      <th>LoanAmount</th>\n",
       "      <th>Loan_Amount_Term</th>\n",
       "      <th>Credit_History</th>\n",
       "      <th>Property_Area</th>\n",
       "      <th>Loan_Status</th>\n",
       "    </tr>\n",
       "  </thead>\n",
       "  <tbody>\n",
       "    <tr>\n",
       "      <th>0</th>\n",
       "      <td>LP001002</td>\n",
       "      <td>Male</td>\n",
       "      <td>No</td>\n",
       "      <td>0</td>\n",
       "      <td>Graduate</td>\n",
       "      <td>No</td>\n",
       "      <td>5849</td>\n",
       "      <td>0.0</td>\n",
       "      <td>NaN</td>\n",
       "      <td>360.0</td>\n",
       "      <td>1.0</td>\n",
       "      <td>Urban</td>\n",
       "      <td>Y</td>\n",
       "    </tr>\n",
       "    <tr>\n",
       "      <th>1</th>\n",
       "      <td>LP001003</td>\n",
       "      <td>Male</td>\n",
       "      <td>Yes</td>\n",
       "      <td>1</td>\n",
       "      <td>Graduate</td>\n",
       "      <td>No</td>\n",
       "      <td>4583</td>\n",
       "      <td>1508.0</td>\n",
       "      <td>128.0</td>\n",
       "      <td>360.0</td>\n",
       "      <td>1.0</td>\n",
       "      <td>Rural</td>\n",
       "      <td>N</td>\n",
       "    </tr>\n",
       "    <tr>\n",
       "      <th>2</th>\n",
       "      <td>LP001005</td>\n",
       "      <td>Male</td>\n",
       "      <td>Yes</td>\n",
       "      <td>0</td>\n",
       "      <td>Graduate</td>\n",
       "      <td>Yes</td>\n",
       "      <td>3000</td>\n",
       "      <td>0.0</td>\n",
       "      <td>66.0</td>\n",
       "      <td>360.0</td>\n",
       "      <td>1.0</td>\n",
       "      <td>Urban</td>\n",
       "      <td>Y</td>\n",
       "    </tr>\n",
       "    <tr>\n",
       "      <th>3</th>\n",
       "      <td>LP001006</td>\n",
       "      <td>Male</td>\n",
       "      <td>Yes</td>\n",
       "      <td>0</td>\n",
       "      <td>Not Graduate</td>\n",
       "      <td>No</td>\n",
       "      <td>2583</td>\n",
       "      <td>2358.0</td>\n",
       "      <td>120.0</td>\n",
       "      <td>360.0</td>\n",
       "      <td>1.0</td>\n",
       "      <td>Urban</td>\n",
       "      <td>Y</td>\n",
       "    </tr>\n",
       "    <tr>\n",
       "      <th>4</th>\n",
       "      <td>LP001008</td>\n",
       "      <td>Male</td>\n",
       "      <td>No</td>\n",
       "      <td>0</td>\n",
       "      <td>Graduate</td>\n",
       "      <td>No</td>\n",
       "      <td>6000</td>\n",
       "      <td>0.0</td>\n",
       "      <td>141.0</td>\n",
       "      <td>360.0</td>\n",
       "      <td>1.0</td>\n",
       "      <td>Urban</td>\n",
       "      <td>Y</td>\n",
       "    </tr>\n",
       "    <tr>\n",
       "      <th>...</th>\n",
       "      <td>...</td>\n",
       "      <td>...</td>\n",
       "      <td>...</td>\n",
       "      <td>...</td>\n",
       "      <td>...</td>\n",
       "      <td>...</td>\n",
       "      <td>...</td>\n",
       "      <td>...</td>\n",
       "      <td>...</td>\n",
       "      <td>...</td>\n",
       "      <td>...</td>\n",
       "      <td>...</td>\n",
       "      <td>...</td>\n",
       "    </tr>\n",
       "    <tr>\n",
       "      <th>609</th>\n",
       "      <td>LP002978</td>\n",
       "      <td>Female</td>\n",
       "      <td>No</td>\n",
       "      <td>0</td>\n",
       "      <td>Graduate</td>\n",
       "      <td>No</td>\n",
       "      <td>2900</td>\n",
       "      <td>0.0</td>\n",
       "      <td>71.0</td>\n",
       "      <td>360.0</td>\n",
       "      <td>1.0</td>\n",
       "      <td>Rural</td>\n",
       "      <td>Y</td>\n",
       "    </tr>\n",
       "    <tr>\n",
       "      <th>610</th>\n",
       "      <td>LP002979</td>\n",
       "      <td>Male</td>\n",
       "      <td>Yes</td>\n",
       "      <td>3+</td>\n",
       "      <td>Graduate</td>\n",
       "      <td>No</td>\n",
       "      <td>4106</td>\n",
       "      <td>0.0</td>\n",
       "      <td>40.0</td>\n",
       "      <td>180.0</td>\n",
       "      <td>1.0</td>\n",
       "      <td>Rural</td>\n",
       "      <td>Y</td>\n",
       "    </tr>\n",
       "    <tr>\n",
       "      <th>611</th>\n",
       "      <td>LP002983</td>\n",
       "      <td>Male</td>\n",
       "      <td>Yes</td>\n",
       "      <td>1</td>\n",
       "      <td>Graduate</td>\n",
       "      <td>No</td>\n",
       "      <td>8072</td>\n",
       "      <td>240.0</td>\n",
       "      <td>253.0</td>\n",
       "      <td>360.0</td>\n",
       "      <td>1.0</td>\n",
       "      <td>Urban</td>\n",
       "      <td>Y</td>\n",
       "    </tr>\n",
       "    <tr>\n",
       "      <th>612</th>\n",
       "      <td>LP002984</td>\n",
       "      <td>Male</td>\n",
       "      <td>Yes</td>\n",
       "      <td>2</td>\n",
       "      <td>Graduate</td>\n",
       "      <td>No</td>\n",
       "      <td>7583</td>\n",
       "      <td>0.0</td>\n",
       "      <td>187.0</td>\n",
       "      <td>360.0</td>\n",
       "      <td>1.0</td>\n",
       "      <td>Urban</td>\n",
       "      <td>Y</td>\n",
       "    </tr>\n",
       "    <tr>\n",
       "      <th>613</th>\n",
       "      <td>LP002990</td>\n",
       "      <td>Female</td>\n",
       "      <td>No</td>\n",
       "      <td>0</td>\n",
       "      <td>Graduate</td>\n",
       "      <td>Yes</td>\n",
       "      <td>4583</td>\n",
       "      <td>0.0</td>\n",
       "      <td>133.0</td>\n",
       "      <td>360.0</td>\n",
       "      <td>0.0</td>\n",
       "      <td>Semiurban</td>\n",
       "      <td>N</td>\n",
       "    </tr>\n",
       "  </tbody>\n",
       "</table>\n",
       "<p>614 rows × 13 columns</p>\n",
       "</div>"
      ],
      "text/plain": [
       "      Loan_ID  Gender Married Dependents     Education Self_Employed  \\\n",
       "0    LP001002    Male      No          0      Graduate            No   \n",
       "1    LP001003    Male     Yes          1      Graduate            No   \n",
       "2    LP001005    Male     Yes          0      Graduate           Yes   \n",
       "3    LP001006    Male     Yes          0  Not Graduate            No   \n",
       "4    LP001008    Male      No          0      Graduate            No   \n",
       "..        ...     ...     ...        ...           ...           ...   \n",
       "609  LP002978  Female      No          0      Graduate            No   \n",
       "610  LP002979    Male     Yes         3+      Graduate            No   \n",
       "611  LP002983    Male     Yes          1      Graduate            No   \n",
       "612  LP002984    Male     Yes          2      Graduate            No   \n",
       "613  LP002990  Female      No          0      Graduate           Yes   \n",
       "\n",
       "     ApplicantIncome  CoapplicantIncome  LoanAmount  Loan_Amount_Term  \\\n",
       "0               5849                0.0         NaN             360.0   \n",
       "1               4583             1508.0       128.0             360.0   \n",
       "2               3000                0.0        66.0             360.0   \n",
       "3               2583             2358.0       120.0             360.0   \n",
       "4               6000                0.0       141.0             360.0   \n",
       "..               ...                ...         ...               ...   \n",
       "609             2900                0.0        71.0             360.0   \n",
       "610             4106                0.0        40.0             180.0   \n",
       "611             8072              240.0       253.0             360.0   \n",
       "612             7583                0.0       187.0             360.0   \n",
       "613             4583                0.0       133.0             360.0   \n",
       "\n",
       "     Credit_History Property_Area Loan_Status  \n",
       "0               1.0         Urban           Y  \n",
       "1               1.0         Rural           N  \n",
       "2               1.0         Urban           Y  \n",
       "3               1.0         Urban           Y  \n",
       "4               1.0         Urban           Y  \n",
       "..              ...           ...         ...  \n",
       "609             1.0         Rural           Y  \n",
       "610             1.0         Rural           Y  \n",
       "611             1.0         Urban           Y  \n",
       "612             1.0         Urban           Y  \n",
       "613             0.0     Semiurban           N  \n",
       "\n",
       "[614 rows x 13 columns]"
      ]
     },
     "execution_count": 987,
     "metadata": {},
     "output_type": "execute_result"
    }
   ],
   "source": [
    "df_train"
   ]
  },
  {
   "cell_type": "code",
   "execution_count": null,
   "metadata": {},
   "outputs": [],
   "source": []
  },
  {
   "cell_type": "code",
   "execution_count": 988,
   "metadata": {},
   "outputs": [],
   "source": [
    "df_train = df_train.drop(\"Loan_ID\",axis=1)"
   ]
  },
  {
   "cell_type": "code",
   "execution_count": 989,
   "metadata": {},
   "outputs": [],
   "source": [
    "df_train = df_train.drop(\"Gender\",axis=1)\n",
    "\n",
    "df_demise =df_train.drop(\"Loan_Status\", axis=1)\n",
    "y = df_train['Loan_Status']"
   ]
  },
  {
   "cell_type": "raw",
   "metadata": {},
   "source": [
    "On va faire un demise pour les données qualitatives, c'est plus précis"
   ]
  },
  {
   "cell_type": "code",
   "execution_count": 990,
   "metadata": {},
   "outputs": [],
   "source": [
    "df_demise = pd.get_dummies(df_demise)"
   ]
  },
  {
   "cell_type": "code",
   "execution_count": 991,
   "metadata": {},
   "outputs": [
    {
     "data": {
      "text/html": [
       "<div>\n",
       "<style scoped>\n",
       "    .dataframe tbody tr th:only-of-type {\n",
       "        vertical-align: middle;\n",
       "    }\n",
       "\n",
       "    .dataframe tbody tr th {\n",
       "        vertical-align: top;\n",
       "    }\n",
       "\n",
       "    .dataframe thead th {\n",
       "        text-align: right;\n",
       "    }\n",
       "</style>\n",
       "<table border=\"1\" class=\"dataframe\">\n",
       "  <thead>\n",
       "    <tr style=\"text-align: right;\">\n",
       "      <th></th>\n",
       "      <th>ApplicantIncome</th>\n",
       "      <th>CoapplicantIncome</th>\n",
       "      <th>LoanAmount</th>\n",
       "      <th>Loan_Amount_Term</th>\n",
       "      <th>Credit_History</th>\n",
       "      <th>Married_No</th>\n",
       "      <th>Married_Yes</th>\n",
       "      <th>Dependents_0</th>\n",
       "      <th>Dependents_1</th>\n",
       "      <th>Dependents_2</th>\n",
       "      <th>Dependents_3+</th>\n",
       "      <th>Education_Graduate</th>\n",
       "      <th>Education_Not Graduate</th>\n",
       "      <th>Self_Employed_No</th>\n",
       "      <th>Self_Employed_Yes</th>\n",
       "      <th>Property_Area_Rural</th>\n",
       "      <th>Property_Area_Semiurban</th>\n",
       "      <th>Property_Area_Urban</th>\n",
       "    </tr>\n",
       "  </thead>\n",
       "  <tbody>\n",
       "    <tr>\n",
       "      <th>0</th>\n",
       "      <td>5849</td>\n",
       "      <td>0.0</td>\n",
       "      <td>NaN</td>\n",
       "      <td>360.0</td>\n",
       "      <td>1.0</td>\n",
       "      <td>1</td>\n",
       "      <td>0</td>\n",
       "      <td>1</td>\n",
       "      <td>0</td>\n",
       "      <td>0</td>\n",
       "      <td>0</td>\n",
       "      <td>1</td>\n",
       "      <td>0</td>\n",
       "      <td>1</td>\n",
       "      <td>0</td>\n",
       "      <td>0</td>\n",
       "      <td>0</td>\n",
       "      <td>1</td>\n",
       "    </tr>\n",
       "    <tr>\n",
       "      <th>1</th>\n",
       "      <td>4583</td>\n",
       "      <td>1508.0</td>\n",
       "      <td>128.0</td>\n",
       "      <td>360.0</td>\n",
       "      <td>1.0</td>\n",
       "      <td>0</td>\n",
       "      <td>1</td>\n",
       "      <td>0</td>\n",
       "      <td>1</td>\n",
       "      <td>0</td>\n",
       "      <td>0</td>\n",
       "      <td>1</td>\n",
       "      <td>0</td>\n",
       "      <td>1</td>\n",
       "      <td>0</td>\n",
       "      <td>1</td>\n",
       "      <td>0</td>\n",
       "      <td>0</td>\n",
       "    </tr>\n",
       "    <tr>\n",
       "      <th>2</th>\n",
       "      <td>3000</td>\n",
       "      <td>0.0</td>\n",
       "      <td>66.0</td>\n",
       "      <td>360.0</td>\n",
       "      <td>1.0</td>\n",
       "      <td>0</td>\n",
       "      <td>1</td>\n",
       "      <td>1</td>\n",
       "      <td>0</td>\n",
       "      <td>0</td>\n",
       "      <td>0</td>\n",
       "      <td>1</td>\n",
       "      <td>0</td>\n",
       "      <td>0</td>\n",
       "      <td>1</td>\n",
       "      <td>0</td>\n",
       "      <td>0</td>\n",
       "      <td>1</td>\n",
       "    </tr>\n",
       "    <tr>\n",
       "      <th>3</th>\n",
       "      <td>2583</td>\n",
       "      <td>2358.0</td>\n",
       "      <td>120.0</td>\n",
       "      <td>360.0</td>\n",
       "      <td>1.0</td>\n",
       "      <td>0</td>\n",
       "      <td>1</td>\n",
       "      <td>1</td>\n",
       "      <td>0</td>\n",
       "      <td>0</td>\n",
       "      <td>0</td>\n",
       "      <td>0</td>\n",
       "      <td>1</td>\n",
       "      <td>1</td>\n",
       "      <td>0</td>\n",
       "      <td>0</td>\n",
       "      <td>0</td>\n",
       "      <td>1</td>\n",
       "    </tr>\n",
       "    <tr>\n",
       "      <th>4</th>\n",
       "      <td>6000</td>\n",
       "      <td>0.0</td>\n",
       "      <td>141.0</td>\n",
       "      <td>360.0</td>\n",
       "      <td>1.0</td>\n",
       "      <td>1</td>\n",
       "      <td>0</td>\n",
       "      <td>1</td>\n",
       "      <td>0</td>\n",
       "      <td>0</td>\n",
       "      <td>0</td>\n",
       "      <td>1</td>\n",
       "      <td>0</td>\n",
       "      <td>1</td>\n",
       "      <td>0</td>\n",
       "      <td>0</td>\n",
       "      <td>0</td>\n",
       "      <td>1</td>\n",
       "    </tr>\n",
       "    <tr>\n",
       "      <th>...</th>\n",
       "      <td>...</td>\n",
       "      <td>...</td>\n",
       "      <td>...</td>\n",
       "      <td>...</td>\n",
       "      <td>...</td>\n",
       "      <td>...</td>\n",
       "      <td>...</td>\n",
       "      <td>...</td>\n",
       "      <td>...</td>\n",
       "      <td>...</td>\n",
       "      <td>...</td>\n",
       "      <td>...</td>\n",
       "      <td>...</td>\n",
       "      <td>...</td>\n",
       "      <td>...</td>\n",
       "      <td>...</td>\n",
       "      <td>...</td>\n",
       "      <td>...</td>\n",
       "    </tr>\n",
       "    <tr>\n",
       "      <th>609</th>\n",
       "      <td>2900</td>\n",
       "      <td>0.0</td>\n",
       "      <td>71.0</td>\n",
       "      <td>360.0</td>\n",
       "      <td>1.0</td>\n",
       "      <td>1</td>\n",
       "      <td>0</td>\n",
       "      <td>1</td>\n",
       "      <td>0</td>\n",
       "      <td>0</td>\n",
       "      <td>0</td>\n",
       "      <td>1</td>\n",
       "      <td>0</td>\n",
       "      <td>1</td>\n",
       "      <td>0</td>\n",
       "      <td>1</td>\n",
       "      <td>0</td>\n",
       "      <td>0</td>\n",
       "    </tr>\n",
       "    <tr>\n",
       "      <th>610</th>\n",
       "      <td>4106</td>\n",
       "      <td>0.0</td>\n",
       "      <td>40.0</td>\n",
       "      <td>180.0</td>\n",
       "      <td>1.0</td>\n",
       "      <td>0</td>\n",
       "      <td>1</td>\n",
       "      <td>0</td>\n",
       "      <td>0</td>\n",
       "      <td>0</td>\n",
       "      <td>1</td>\n",
       "      <td>1</td>\n",
       "      <td>0</td>\n",
       "      <td>1</td>\n",
       "      <td>0</td>\n",
       "      <td>1</td>\n",
       "      <td>0</td>\n",
       "      <td>0</td>\n",
       "    </tr>\n",
       "    <tr>\n",
       "      <th>611</th>\n",
       "      <td>8072</td>\n",
       "      <td>240.0</td>\n",
       "      <td>253.0</td>\n",
       "      <td>360.0</td>\n",
       "      <td>1.0</td>\n",
       "      <td>0</td>\n",
       "      <td>1</td>\n",
       "      <td>0</td>\n",
       "      <td>1</td>\n",
       "      <td>0</td>\n",
       "      <td>0</td>\n",
       "      <td>1</td>\n",
       "      <td>0</td>\n",
       "      <td>1</td>\n",
       "      <td>0</td>\n",
       "      <td>0</td>\n",
       "      <td>0</td>\n",
       "      <td>1</td>\n",
       "    </tr>\n",
       "    <tr>\n",
       "      <th>612</th>\n",
       "      <td>7583</td>\n",
       "      <td>0.0</td>\n",
       "      <td>187.0</td>\n",
       "      <td>360.0</td>\n",
       "      <td>1.0</td>\n",
       "      <td>0</td>\n",
       "      <td>1</td>\n",
       "      <td>0</td>\n",
       "      <td>0</td>\n",
       "      <td>1</td>\n",
       "      <td>0</td>\n",
       "      <td>1</td>\n",
       "      <td>0</td>\n",
       "      <td>1</td>\n",
       "      <td>0</td>\n",
       "      <td>0</td>\n",
       "      <td>0</td>\n",
       "      <td>1</td>\n",
       "    </tr>\n",
       "    <tr>\n",
       "      <th>613</th>\n",
       "      <td>4583</td>\n",
       "      <td>0.0</td>\n",
       "      <td>133.0</td>\n",
       "      <td>360.0</td>\n",
       "      <td>0.0</td>\n",
       "      <td>1</td>\n",
       "      <td>0</td>\n",
       "      <td>1</td>\n",
       "      <td>0</td>\n",
       "      <td>0</td>\n",
       "      <td>0</td>\n",
       "      <td>1</td>\n",
       "      <td>0</td>\n",
       "      <td>0</td>\n",
       "      <td>1</td>\n",
       "      <td>0</td>\n",
       "      <td>1</td>\n",
       "      <td>0</td>\n",
       "    </tr>\n",
       "  </tbody>\n",
       "</table>\n",
       "<p>614 rows × 18 columns</p>\n",
       "</div>"
      ],
      "text/plain": [
       "     ApplicantIncome  CoapplicantIncome  LoanAmount  Loan_Amount_Term  \\\n",
       "0               5849                0.0         NaN             360.0   \n",
       "1               4583             1508.0       128.0             360.0   \n",
       "2               3000                0.0        66.0             360.0   \n",
       "3               2583             2358.0       120.0             360.0   \n",
       "4               6000                0.0       141.0             360.0   \n",
       "..               ...                ...         ...               ...   \n",
       "609             2900                0.0        71.0             360.0   \n",
       "610             4106                0.0        40.0             180.0   \n",
       "611             8072              240.0       253.0             360.0   \n",
       "612             7583                0.0       187.0             360.0   \n",
       "613             4583                0.0       133.0             360.0   \n",
       "\n",
       "     Credit_History  Married_No  Married_Yes  Dependents_0  Dependents_1  \\\n",
       "0               1.0           1            0             1             0   \n",
       "1               1.0           0            1             0             1   \n",
       "2               1.0           0            1             1             0   \n",
       "3               1.0           0            1             1             0   \n",
       "4               1.0           1            0             1             0   \n",
       "..              ...         ...          ...           ...           ...   \n",
       "609             1.0           1            0             1             0   \n",
       "610             1.0           0            1             0             0   \n",
       "611             1.0           0            1             0             1   \n",
       "612             1.0           0            1             0             0   \n",
       "613             0.0           1            0             1             0   \n",
       "\n",
       "     Dependents_2  Dependents_3+  Education_Graduate  Education_Not Graduate  \\\n",
       "0               0              0                   1                       0   \n",
       "1               0              0                   1                       0   \n",
       "2               0              0                   1                       0   \n",
       "3               0              0                   0                       1   \n",
       "4               0              0                   1                       0   \n",
       "..            ...            ...                 ...                     ...   \n",
       "609             0              0                   1                       0   \n",
       "610             0              1                   1                       0   \n",
       "611             0              0                   1                       0   \n",
       "612             1              0                   1                       0   \n",
       "613             0              0                   1                       0   \n",
       "\n",
       "     Self_Employed_No  Self_Employed_Yes  Property_Area_Rural  \\\n",
       "0                   1                  0                    0   \n",
       "1                   1                  0                    1   \n",
       "2                   0                  1                    0   \n",
       "3                   1                  0                    0   \n",
       "4                   1                  0                    0   \n",
       "..                ...                ...                  ...   \n",
       "609                 1                  0                    1   \n",
       "610                 1                  0                    1   \n",
       "611                 1                  0                    0   \n",
       "612                 1                  0                    0   \n",
       "613                 0                  1                    0   \n",
       "\n",
       "     Property_Area_Semiurban  Property_Area_Urban  \n",
       "0                          0                    1  \n",
       "1                          0                    0  \n",
       "2                          0                    1  \n",
       "3                          0                    1  \n",
       "4                          0                    1  \n",
       "..                       ...                  ...  \n",
       "609                        0                    0  \n",
       "610                        0                    0  \n",
       "611                        0                    1  \n",
       "612                        0                    1  \n",
       "613                        1                    0  \n",
       "\n",
       "[614 rows x 18 columns]"
      ]
     },
     "execution_count": 991,
     "metadata": {},
     "output_type": "execute_result"
    }
   ],
   "source": [
    "df_demise"
   ]
  },
  {
   "cell_type": "code",
   "execution_count": 992,
   "metadata": {},
   "outputs": [],
   "source": [
    "df_demise[\"Loan_Status\"] = df_train['Loan_Status']"
   ]
  },
  {
   "cell_type": "raw",
   "metadata": {},
   "source": [
    "On esseye de faire du feature_engenning pour lutter contre l'overfeating"
   ]
  },
  {
   "cell_type": "code",
   "execution_count": 993,
   "metadata": {},
   "outputs": [],
   "source": [
    "df_demise[\"Income\"] = (df_demise[\"ApplicantIncome\"] + df_demise[\"CoapplicantIncome\"])"
   ]
  },
  {
   "cell_type": "raw",
   "metadata": {},
   "source": []
  },
  {
   "cell_type": "code",
   "execution_count": 994,
   "metadata": {},
   "outputs": [],
   "source": [
    "df_demise=df_demise.drop([\"ApplicantIncome\",\"CoapplicantIncome\"], axis=1)"
   ]
  },
  {
   "cell_type": "code",
   "execution_count": 995,
   "metadata": {},
   "outputs": [
    {
     "data": {
      "text/html": [
       "<div>\n",
       "<style scoped>\n",
       "    .dataframe tbody tr th:only-of-type {\n",
       "        vertical-align: middle;\n",
       "    }\n",
       "\n",
       "    .dataframe tbody tr th {\n",
       "        vertical-align: top;\n",
       "    }\n",
       "\n",
       "    .dataframe thead th {\n",
       "        text-align: right;\n",
       "    }\n",
       "</style>\n",
       "<table border=\"1\" class=\"dataframe\">\n",
       "  <thead>\n",
       "    <tr style=\"text-align: right;\">\n",
       "      <th></th>\n",
       "      <th>LoanAmount</th>\n",
       "      <th>Loan_Amount_Term</th>\n",
       "      <th>Credit_History</th>\n",
       "      <th>Married_No</th>\n",
       "      <th>Married_Yes</th>\n",
       "      <th>Dependents_0</th>\n",
       "      <th>Dependents_1</th>\n",
       "      <th>Dependents_2</th>\n",
       "      <th>Dependents_3+</th>\n",
       "      <th>Education_Graduate</th>\n",
       "      <th>Education_Not Graduate</th>\n",
       "      <th>Self_Employed_No</th>\n",
       "      <th>Self_Employed_Yes</th>\n",
       "      <th>Property_Area_Rural</th>\n",
       "      <th>Property_Area_Semiurban</th>\n",
       "      <th>Property_Area_Urban</th>\n",
       "      <th>Loan_Status</th>\n",
       "      <th>Income</th>\n",
       "    </tr>\n",
       "  </thead>\n",
       "  <tbody>\n",
       "    <tr>\n",
       "      <th>0</th>\n",
       "      <td>NaN</td>\n",
       "      <td>360.0</td>\n",
       "      <td>1.0</td>\n",
       "      <td>1</td>\n",
       "      <td>0</td>\n",
       "      <td>1</td>\n",
       "      <td>0</td>\n",
       "      <td>0</td>\n",
       "      <td>0</td>\n",
       "      <td>1</td>\n",
       "      <td>0</td>\n",
       "      <td>1</td>\n",
       "      <td>0</td>\n",
       "      <td>0</td>\n",
       "      <td>0</td>\n",
       "      <td>1</td>\n",
       "      <td>Y</td>\n",
       "      <td>5849.0</td>\n",
       "    </tr>\n",
       "    <tr>\n",
       "      <th>1</th>\n",
       "      <td>128.0</td>\n",
       "      <td>360.0</td>\n",
       "      <td>1.0</td>\n",
       "      <td>0</td>\n",
       "      <td>1</td>\n",
       "      <td>0</td>\n",
       "      <td>1</td>\n",
       "      <td>0</td>\n",
       "      <td>0</td>\n",
       "      <td>1</td>\n",
       "      <td>0</td>\n",
       "      <td>1</td>\n",
       "      <td>0</td>\n",
       "      <td>1</td>\n",
       "      <td>0</td>\n",
       "      <td>0</td>\n",
       "      <td>N</td>\n",
       "      <td>6091.0</td>\n",
       "    </tr>\n",
       "    <tr>\n",
       "      <th>2</th>\n",
       "      <td>66.0</td>\n",
       "      <td>360.0</td>\n",
       "      <td>1.0</td>\n",
       "      <td>0</td>\n",
       "      <td>1</td>\n",
       "      <td>1</td>\n",
       "      <td>0</td>\n",
       "      <td>0</td>\n",
       "      <td>0</td>\n",
       "      <td>1</td>\n",
       "      <td>0</td>\n",
       "      <td>0</td>\n",
       "      <td>1</td>\n",
       "      <td>0</td>\n",
       "      <td>0</td>\n",
       "      <td>1</td>\n",
       "      <td>Y</td>\n",
       "      <td>3000.0</td>\n",
       "    </tr>\n",
       "    <tr>\n",
       "      <th>3</th>\n",
       "      <td>120.0</td>\n",
       "      <td>360.0</td>\n",
       "      <td>1.0</td>\n",
       "      <td>0</td>\n",
       "      <td>1</td>\n",
       "      <td>1</td>\n",
       "      <td>0</td>\n",
       "      <td>0</td>\n",
       "      <td>0</td>\n",
       "      <td>0</td>\n",
       "      <td>1</td>\n",
       "      <td>1</td>\n",
       "      <td>0</td>\n",
       "      <td>0</td>\n",
       "      <td>0</td>\n",
       "      <td>1</td>\n",
       "      <td>Y</td>\n",
       "      <td>4941.0</td>\n",
       "    </tr>\n",
       "    <tr>\n",
       "      <th>4</th>\n",
       "      <td>141.0</td>\n",
       "      <td>360.0</td>\n",
       "      <td>1.0</td>\n",
       "      <td>1</td>\n",
       "      <td>0</td>\n",
       "      <td>1</td>\n",
       "      <td>0</td>\n",
       "      <td>0</td>\n",
       "      <td>0</td>\n",
       "      <td>1</td>\n",
       "      <td>0</td>\n",
       "      <td>1</td>\n",
       "      <td>0</td>\n",
       "      <td>0</td>\n",
       "      <td>0</td>\n",
       "      <td>1</td>\n",
       "      <td>Y</td>\n",
       "      <td>6000.0</td>\n",
       "    </tr>\n",
       "    <tr>\n",
       "      <th>...</th>\n",
       "      <td>...</td>\n",
       "      <td>...</td>\n",
       "      <td>...</td>\n",
       "      <td>...</td>\n",
       "      <td>...</td>\n",
       "      <td>...</td>\n",
       "      <td>...</td>\n",
       "      <td>...</td>\n",
       "      <td>...</td>\n",
       "      <td>...</td>\n",
       "      <td>...</td>\n",
       "      <td>...</td>\n",
       "      <td>...</td>\n",
       "      <td>...</td>\n",
       "      <td>...</td>\n",
       "      <td>...</td>\n",
       "      <td>...</td>\n",
       "      <td>...</td>\n",
       "    </tr>\n",
       "    <tr>\n",
       "      <th>609</th>\n",
       "      <td>71.0</td>\n",
       "      <td>360.0</td>\n",
       "      <td>1.0</td>\n",
       "      <td>1</td>\n",
       "      <td>0</td>\n",
       "      <td>1</td>\n",
       "      <td>0</td>\n",
       "      <td>0</td>\n",
       "      <td>0</td>\n",
       "      <td>1</td>\n",
       "      <td>0</td>\n",
       "      <td>1</td>\n",
       "      <td>0</td>\n",
       "      <td>1</td>\n",
       "      <td>0</td>\n",
       "      <td>0</td>\n",
       "      <td>Y</td>\n",
       "      <td>2900.0</td>\n",
       "    </tr>\n",
       "    <tr>\n",
       "      <th>610</th>\n",
       "      <td>40.0</td>\n",
       "      <td>180.0</td>\n",
       "      <td>1.0</td>\n",
       "      <td>0</td>\n",
       "      <td>1</td>\n",
       "      <td>0</td>\n",
       "      <td>0</td>\n",
       "      <td>0</td>\n",
       "      <td>1</td>\n",
       "      <td>1</td>\n",
       "      <td>0</td>\n",
       "      <td>1</td>\n",
       "      <td>0</td>\n",
       "      <td>1</td>\n",
       "      <td>0</td>\n",
       "      <td>0</td>\n",
       "      <td>Y</td>\n",
       "      <td>4106.0</td>\n",
       "    </tr>\n",
       "    <tr>\n",
       "      <th>611</th>\n",
       "      <td>253.0</td>\n",
       "      <td>360.0</td>\n",
       "      <td>1.0</td>\n",
       "      <td>0</td>\n",
       "      <td>1</td>\n",
       "      <td>0</td>\n",
       "      <td>1</td>\n",
       "      <td>0</td>\n",
       "      <td>0</td>\n",
       "      <td>1</td>\n",
       "      <td>0</td>\n",
       "      <td>1</td>\n",
       "      <td>0</td>\n",
       "      <td>0</td>\n",
       "      <td>0</td>\n",
       "      <td>1</td>\n",
       "      <td>Y</td>\n",
       "      <td>8312.0</td>\n",
       "    </tr>\n",
       "    <tr>\n",
       "      <th>612</th>\n",
       "      <td>187.0</td>\n",
       "      <td>360.0</td>\n",
       "      <td>1.0</td>\n",
       "      <td>0</td>\n",
       "      <td>1</td>\n",
       "      <td>0</td>\n",
       "      <td>0</td>\n",
       "      <td>1</td>\n",
       "      <td>0</td>\n",
       "      <td>1</td>\n",
       "      <td>0</td>\n",
       "      <td>1</td>\n",
       "      <td>0</td>\n",
       "      <td>0</td>\n",
       "      <td>0</td>\n",
       "      <td>1</td>\n",
       "      <td>Y</td>\n",
       "      <td>7583.0</td>\n",
       "    </tr>\n",
       "    <tr>\n",
       "      <th>613</th>\n",
       "      <td>133.0</td>\n",
       "      <td>360.0</td>\n",
       "      <td>0.0</td>\n",
       "      <td>1</td>\n",
       "      <td>0</td>\n",
       "      <td>1</td>\n",
       "      <td>0</td>\n",
       "      <td>0</td>\n",
       "      <td>0</td>\n",
       "      <td>1</td>\n",
       "      <td>0</td>\n",
       "      <td>0</td>\n",
       "      <td>1</td>\n",
       "      <td>0</td>\n",
       "      <td>1</td>\n",
       "      <td>0</td>\n",
       "      <td>N</td>\n",
       "      <td>4583.0</td>\n",
       "    </tr>\n",
       "  </tbody>\n",
       "</table>\n",
       "<p>614 rows × 18 columns</p>\n",
       "</div>"
      ],
      "text/plain": [
       "     LoanAmount  Loan_Amount_Term  Credit_History  Married_No  Married_Yes  \\\n",
       "0           NaN             360.0             1.0           1            0   \n",
       "1         128.0             360.0             1.0           0            1   \n",
       "2          66.0             360.0             1.0           0            1   \n",
       "3         120.0             360.0             1.0           0            1   \n",
       "4         141.0             360.0             1.0           1            0   \n",
       "..          ...               ...             ...         ...          ...   \n",
       "609        71.0             360.0             1.0           1            0   \n",
       "610        40.0             180.0             1.0           0            1   \n",
       "611       253.0             360.0             1.0           0            1   \n",
       "612       187.0             360.0             1.0           0            1   \n",
       "613       133.0             360.0             0.0           1            0   \n",
       "\n",
       "     Dependents_0  Dependents_1  Dependents_2  Dependents_3+  \\\n",
       "0               1             0             0              0   \n",
       "1               0             1             0              0   \n",
       "2               1             0             0              0   \n",
       "3               1             0             0              0   \n",
       "4               1             0             0              0   \n",
       "..            ...           ...           ...            ...   \n",
       "609             1             0             0              0   \n",
       "610             0             0             0              1   \n",
       "611             0             1             0              0   \n",
       "612             0             0             1              0   \n",
       "613             1             0             0              0   \n",
       "\n",
       "     Education_Graduate  Education_Not Graduate  Self_Employed_No  \\\n",
       "0                     1                       0                 1   \n",
       "1                     1                       0                 1   \n",
       "2                     1                       0                 0   \n",
       "3                     0                       1                 1   \n",
       "4                     1                       0                 1   \n",
       "..                  ...                     ...               ...   \n",
       "609                   1                       0                 1   \n",
       "610                   1                       0                 1   \n",
       "611                   1                       0                 1   \n",
       "612                   1                       0                 1   \n",
       "613                   1                       0                 0   \n",
       "\n",
       "     Self_Employed_Yes  Property_Area_Rural  Property_Area_Semiurban  \\\n",
       "0                    0                    0                        0   \n",
       "1                    0                    1                        0   \n",
       "2                    1                    0                        0   \n",
       "3                    0                    0                        0   \n",
       "4                    0                    0                        0   \n",
       "..                 ...                  ...                      ...   \n",
       "609                  0                    1                        0   \n",
       "610                  0                    1                        0   \n",
       "611                  0                    0                        0   \n",
       "612                  0                    0                        0   \n",
       "613                  1                    0                        1   \n",
       "\n",
       "     Property_Area_Urban Loan_Status  Income  \n",
       "0                      1           Y  5849.0  \n",
       "1                      0           N  6091.0  \n",
       "2                      1           Y  3000.0  \n",
       "3                      1           Y  4941.0  \n",
       "4                      1           Y  6000.0  \n",
       "..                   ...         ...     ...  \n",
       "609                    0           Y  2900.0  \n",
       "610                    0           Y  4106.0  \n",
       "611                    1           Y  8312.0  \n",
       "612                    1           Y  7583.0  \n",
       "613                    0           N  4583.0  \n",
       "\n",
       "[614 rows x 18 columns]"
      ]
     },
     "execution_count": 995,
     "metadata": {},
     "output_type": "execute_result"
    }
   ],
   "source": [
    "df_demise"
   ]
  },
  {
   "cell_type": "code",
   "execution_count": 996,
   "metadata": {},
   "outputs": [],
   "source": [
    "lb = LabelEncoder()\n",
    "df_demise['Loan_Status'] = lb.fit_transform(df_demise['Loan_Status'])"
   ]
  },
  {
   "cell_type": "code",
   "execution_count": 997,
   "metadata": {},
   "outputs": [],
   "source": [
    "df_demise = df_demise.dropna()"
   ]
  },
  {
   "cell_type": "code",
   "execution_count": 998,
   "metadata": {},
   "outputs": [],
   "source": [
    "dfd = pd.read_csv(\"df1.csv\")\n",
    "dfd = dfd.drop([\"Gender\", \"Self_Employed\"], axis=1)\n",
    "dfd['Loan_Status'] = lb.fit_transform(dfd['Loan_Status'])\n",
    "dfd = pd.get_dummies(dfd)\n"
   ]
  },
  {
   "cell_type": "code",
   "execution_count": 999,
   "metadata": {},
   "outputs": [],
   "source": [
    "df_demise = pd.read_csv(\"df_mean.csv\")"
   ]
  },
  {
   "cell_type": "code",
   "execution_count": 1000,
   "metadata": {},
   "outputs": [
    {
     "data": {
      "text/html": [
       "<div>\n",
       "<style scoped>\n",
       "    .dataframe tbody tr th:only-of-type {\n",
       "        vertical-align: middle;\n",
       "    }\n",
       "\n",
       "    .dataframe tbody tr th {\n",
       "        vertical-align: top;\n",
       "    }\n",
       "\n",
       "    .dataframe thead th {\n",
       "        text-align: right;\n",
       "    }\n",
       "</style>\n",
       "<table border=\"1\" class=\"dataframe\">\n",
       "  <thead>\n",
       "    <tr style=\"text-align: right;\">\n",
       "      <th></th>\n",
       "      <th>Dependents</th>\n",
       "      <th>ApplicantIncome</th>\n",
       "      <th>CoapplicantIncome</th>\n",
       "      <th>LoanAmount</th>\n",
       "      <th>Loan_Amount_Term</th>\n",
       "      <th>Loan_Status</th>\n",
       "      <th>Income</th>\n",
       "      <th>Montantparmois</th>\n",
       "      <th>Arembourer</th>\n",
       "      <th>Apasrembourer</th>\n",
       "      <th>Married_No</th>\n",
       "      <th>Married_Yes</th>\n",
       "      <th>Education_Graduate</th>\n",
       "      <th>Education_Not Graduate</th>\n",
       "      <th>Property_Area_Rural</th>\n",
       "      <th>Property_Area_Semiurban</th>\n",
       "      <th>Property_Area_Urban</th>\n",
       "    </tr>\n",
       "  </thead>\n",
       "  <tbody>\n",
       "    <tr>\n",
       "      <th>0</th>\n",
       "      <td>0</td>\n",
       "      <td>5849</td>\n",
       "      <td>0.0</td>\n",
       "      <td>146050.761421</td>\n",
       "      <td>360.0</td>\n",
       "      <td>1</td>\n",
       "      <td>5849.0</td>\n",
       "      <td>405.696560</td>\n",
       "      <td>1</td>\n",
       "      <td>0</td>\n",
       "      <td>1</td>\n",
       "      <td>0</td>\n",
       "      <td>1</td>\n",
       "      <td>0</td>\n",
       "      <td>0</td>\n",
       "      <td>0</td>\n",
       "      <td>1</td>\n",
       "    </tr>\n",
       "    <tr>\n",
       "      <th>1</th>\n",
       "      <td>1</td>\n",
       "      <td>4583</td>\n",
       "      <td>1508.0</td>\n",
       "      <td>128000.000000</td>\n",
       "      <td>360.0</td>\n",
       "      <td>0</td>\n",
       "      <td>6091.0</td>\n",
       "      <td>355.555556</td>\n",
       "      <td>1</td>\n",
       "      <td>0</td>\n",
       "      <td>0</td>\n",
       "      <td>1</td>\n",
       "      <td>1</td>\n",
       "      <td>0</td>\n",
       "      <td>1</td>\n",
       "      <td>0</td>\n",
       "      <td>0</td>\n",
       "    </tr>\n",
       "    <tr>\n",
       "      <th>2</th>\n",
       "      <td>0</td>\n",
       "      <td>3000</td>\n",
       "      <td>0.0</td>\n",
       "      <td>66000.000000</td>\n",
       "      <td>360.0</td>\n",
       "      <td>1</td>\n",
       "      <td>3000.0</td>\n",
       "      <td>183.333333</td>\n",
       "      <td>1</td>\n",
       "      <td>0</td>\n",
       "      <td>0</td>\n",
       "      <td>1</td>\n",
       "      <td>1</td>\n",
       "      <td>0</td>\n",
       "      <td>0</td>\n",
       "      <td>0</td>\n",
       "      <td>1</td>\n",
       "    </tr>\n",
       "    <tr>\n",
       "      <th>3</th>\n",
       "      <td>0</td>\n",
       "      <td>2583</td>\n",
       "      <td>2358.0</td>\n",
       "      <td>120000.000000</td>\n",
       "      <td>360.0</td>\n",
       "      <td>1</td>\n",
       "      <td>4941.0</td>\n",
       "      <td>333.333333</td>\n",
       "      <td>1</td>\n",
       "      <td>0</td>\n",
       "      <td>0</td>\n",
       "      <td>1</td>\n",
       "      <td>0</td>\n",
       "      <td>1</td>\n",
       "      <td>0</td>\n",
       "      <td>0</td>\n",
       "      <td>1</td>\n",
       "    </tr>\n",
       "    <tr>\n",
       "      <th>4</th>\n",
       "      <td>0</td>\n",
       "      <td>6000</td>\n",
       "      <td>0.0</td>\n",
       "      <td>141000.000000</td>\n",
       "      <td>360.0</td>\n",
       "      <td>1</td>\n",
       "      <td>6000.0</td>\n",
       "      <td>391.666667</td>\n",
       "      <td>1</td>\n",
       "      <td>0</td>\n",
       "      <td>1</td>\n",
       "      <td>0</td>\n",
       "      <td>1</td>\n",
       "      <td>0</td>\n",
       "      <td>0</td>\n",
       "      <td>0</td>\n",
       "      <td>1</td>\n",
       "    </tr>\n",
       "    <tr>\n",
       "      <th>...</th>\n",
       "      <td>...</td>\n",
       "      <td>...</td>\n",
       "      <td>...</td>\n",
       "      <td>...</td>\n",
       "      <td>...</td>\n",
       "      <td>...</td>\n",
       "      <td>...</td>\n",
       "      <td>...</td>\n",
       "      <td>...</td>\n",
       "      <td>...</td>\n",
       "      <td>...</td>\n",
       "      <td>...</td>\n",
       "      <td>...</td>\n",
       "      <td>...</td>\n",
       "      <td>...</td>\n",
       "      <td>...</td>\n",
       "      <td>...</td>\n",
       "    </tr>\n",
       "    <tr>\n",
       "      <th>608</th>\n",
       "      <td>0</td>\n",
       "      <td>2900</td>\n",
       "      <td>0.0</td>\n",
       "      <td>71000.000000</td>\n",
       "      <td>360.0</td>\n",
       "      <td>1</td>\n",
       "      <td>2900.0</td>\n",
       "      <td>197.222222</td>\n",
       "      <td>1</td>\n",
       "      <td>0</td>\n",
       "      <td>1</td>\n",
       "      <td>0</td>\n",
       "      <td>1</td>\n",
       "      <td>0</td>\n",
       "      <td>1</td>\n",
       "      <td>0</td>\n",
       "      <td>0</td>\n",
       "    </tr>\n",
       "    <tr>\n",
       "      <th>609</th>\n",
       "      <td>3</td>\n",
       "      <td>4106</td>\n",
       "      <td>0.0</td>\n",
       "      <td>40000.000000</td>\n",
       "      <td>180.0</td>\n",
       "      <td>1</td>\n",
       "      <td>4106.0</td>\n",
       "      <td>222.222222</td>\n",
       "      <td>1</td>\n",
       "      <td>0</td>\n",
       "      <td>0</td>\n",
       "      <td>1</td>\n",
       "      <td>1</td>\n",
       "      <td>0</td>\n",
       "      <td>1</td>\n",
       "      <td>0</td>\n",
       "      <td>0</td>\n",
       "    </tr>\n",
       "    <tr>\n",
       "      <th>610</th>\n",
       "      <td>1</td>\n",
       "      <td>8072</td>\n",
       "      <td>240.0</td>\n",
       "      <td>253000.000000</td>\n",
       "      <td>360.0</td>\n",
       "      <td>1</td>\n",
       "      <td>8312.0</td>\n",
       "      <td>702.777778</td>\n",
       "      <td>1</td>\n",
       "      <td>0</td>\n",
       "      <td>0</td>\n",
       "      <td>1</td>\n",
       "      <td>1</td>\n",
       "      <td>0</td>\n",
       "      <td>0</td>\n",
       "      <td>0</td>\n",
       "      <td>1</td>\n",
       "    </tr>\n",
       "    <tr>\n",
       "      <th>611</th>\n",
       "      <td>2</td>\n",
       "      <td>7583</td>\n",
       "      <td>0.0</td>\n",
       "      <td>187000.000000</td>\n",
       "      <td>360.0</td>\n",
       "      <td>1</td>\n",
       "      <td>7583.0</td>\n",
       "      <td>519.444444</td>\n",
       "      <td>1</td>\n",
       "      <td>0</td>\n",
       "      <td>0</td>\n",
       "      <td>1</td>\n",
       "      <td>1</td>\n",
       "      <td>0</td>\n",
       "      <td>0</td>\n",
       "      <td>0</td>\n",
       "      <td>1</td>\n",
       "    </tr>\n",
       "    <tr>\n",
       "      <th>612</th>\n",
       "      <td>0</td>\n",
       "      <td>4583</td>\n",
       "      <td>0.0</td>\n",
       "      <td>133000.000000</td>\n",
       "      <td>360.0</td>\n",
       "      <td>0</td>\n",
       "      <td>4583.0</td>\n",
       "      <td>369.444444</td>\n",
       "      <td>0</td>\n",
       "      <td>1</td>\n",
       "      <td>1</td>\n",
       "      <td>0</td>\n",
       "      <td>1</td>\n",
       "      <td>0</td>\n",
       "      <td>0</td>\n",
       "      <td>1</td>\n",
       "      <td>0</td>\n",
       "    </tr>\n",
       "  </tbody>\n",
       "</table>\n",
       "<p>613 rows × 17 columns</p>\n",
       "</div>"
      ],
      "text/plain": [
       "     Dependents  ApplicantIncome  CoapplicantIncome     LoanAmount  \\\n",
       "0             0             5849                0.0  146050.761421   \n",
       "1             1             4583             1508.0  128000.000000   \n",
       "2             0             3000                0.0   66000.000000   \n",
       "3             0             2583             2358.0  120000.000000   \n",
       "4             0             6000                0.0  141000.000000   \n",
       "..          ...              ...                ...            ...   \n",
       "608           0             2900                0.0   71000.000000   \n",
       "609           3             4106                0.0   40000.000000   \n",
       "610           1             8072              240.0  253000.000000   \n",
       "611           2             7583                0.0  187000.000000   \n",
       "612           0             4583                0.0  133000.000000   \n",
       "\n",
       "     Loan_Amount_Term  Loan_Status  Income  Montantparmois  Arembourer  \\\n",
       "0               360.0            1  5849.0      405.696560           1   \n",
       "1               360.0            0  6091.0      355.555556           1   \n",
       "2               360.0            1  3000.0      183.333333           1   \n",
       "3               360.0            1  4941.0      333.333333           1   \n",
       "4               360.0            1  6000.0      391.666667           1   \n",
       "..                ...          ...     ...             ...         ...   \n",
       "608             360.0            1  2900.0      197.222222           1   \n",
       "609             180.0            1  4106.0      222.222222           1   \n",
       "610             360.0            1  8312.0      702.777778           1   \n",
       "611             360.0            1  7583.0      519.444444           1   \n",
       "612             360.0            0  4583.0      369.444444           0   \n",
       "\n",
       "     Apasrembourer  Married_No  Married_Yes  Education_Graduate  \\\n",
       "0                0           1            0                   1   \n",
       "1                0           0            1                   1   \n",
       "2                0           0            1                   1   \n",
       "3                0           0            1                   0   \n",
       "4                0           1            0                   1   \n",
       "..             ...         ...          ...                 ...   \n",
       "608              0           1            0                   1   \n",
       "609              0           0            1                   1   \n",
       "610              0           0            1                   1   \n",
       "611              0           0            1                   1   \n",
       "612              1           1            0                   1   \n",
       "\n",
       "     Education_Not Graduate  Property_Area_Rural  Property_Area_Semiurban  \\\n",
       "0                         0                    0                        0   \n",
       "1                         0                    1                        0   \n",
       "2                         0                    0                        0   \n",
       "3                         1                    0                        0   \n",
       "4                         0                    0                        0   \n",
       "..                      ...                  ...                      ...   \n",
       "608                       0                    1                        0   \n",
       "609                       0                    1                        0   \n",
       "610                       0                    0                        0   \n",
       "611                       0                    0                        0   \n",
       "612                       0                    0                        1   \n",
       "\n",
       "     Property_Area_Urban  \n",
       "0                      1  \n",
       "1                      0  \n",
       "2                      1  \n",
       "3                      1  \n",
       "4                      1  \n",
       "..                   ...  \n",
       "608                    0  \n",
       "609                    0  \n",
       "610                    1  \n",
       "611                    1  \n",
       "612                    0  \n",
       "\n",
       "[613 rows x 17 columns]"
      ]
     },
     "execution_count": 1000,
     "metadata": {},
     "output_type": "execute_result"
    }
   ],
   "source": [
    "df_demise"
   ]
  },
  {
   "cell_type": "code",
   "execution_count": 1001,
   "metadata": {},
   "outputs": [],
   "source": [
    "X = df_demise.drop(\"Loan_Status\", axis=1)\n",
    "y = df_demise[\"Loan_Status\"]"
   ]
  },
  {
   "cell_type": "code",
   "execution_count": 1002,
   "metadata": {},
   "outputs": [],
   "source": [
    "X_train, X_test, y_train, y_test = train_test_split(X, y, test_size = 0.2, random_state = 0)"
   ]
  },
  {
   "cell_type": "code",
   "execution_count": 1003,
   "metadata": {},
   "outputs": [
    {
     "data": {
      "text/html": [
       "<div>\n",
       "<style scoped>\n",
       "    .dataframe tbody tr th:only-of-type {\n",
       "        vertical-align: middle;\n",
       "    }\n",
       "\n",
       "    .dataframe tbody tr th {\n",
       "        vertical-align: top;\n",
       "    }\n",
       "\n",
       "    .dataframe thead th {\n",
       "        text-align: right;\n",
       "    }\n",
       "</style>\n",
       "<table border=\"1\" class=\"dataframe\">\n",
       "  <thead>\n",
       "    <tr style=\"text-align: right;\">\n",
       "      <th></th>\n",
       "      <th>Dependents</th>\n",
       "      <th>ApplicantIncome</th>\n",
       "      <th>CoapplicantIncome</th>\n",
       "      <th>LoanAmount</th>\n",
       "      <th>Loan_Amount_Term</th>\n",
       "      <th>Loan_Status</th>\n",
       "      <th>Income</th>\n",
       "      <th>Montantparmois</th>\n",
       "      <th>Arembourer</th>\n",
       "      <th>Apasrembourer</th>\n",
       "      <th>Married_No</th>\n",
       "      <th>Married_Yes</th>\n",
       "      <th>Education_Graduate</th>\n",
       "      <th>Education_Not Graduate</th>\n",
       "      <th>Property_Area_Rural</th>\n",
       "      <th>Property_Area_Semiurban</th>\n",
       "      <th>Property_Area_Urban</th>\n",
       "    </tr>\n",
       "  </thead>\n",
       "  <tbody>\n",
       "    <tr>\n",
       "      <th>0</th>\n",
       "      <td>0</td>\n",
       "      <td>5849</td>\n",
       "      <td>0.0</td>\n",
       "      <td>146050.761421</td>\n",
       "      <td>360.0</td>\n",
       "      <td>1</td>\n",
       "      <td>5849.0</td>\n",
       "      <td>405.696560</td>\n",
       "      <td>1</td>\n",
       "      <td>0</td>\n",
       "      <td>1</td>\n",
       "      <td>0</td>\n",
       "      <td>1</td>\n",
       "      <td>0</td>\n",
       "      <td>0</td>\n",
       "      <td>0</td>\n",
       "      <td>1</td>\n",
       "    </tr>\n",
       "    <tr>\n",
       "      <th>1</th>\n",
       "      <td>1</td>\n",
       "      <td>4583</td>\n",
       "      <td>1508.0</td>\n",
       "      <td>128000.000000</td>\n",
       "      <td>360.0</td>\n",
       "      <td>0</td>\n",
       "      <td>6091.0</td>\n",
       "      <td>355.555556</td>\n",
       "      <td>1</td>\n",
       "      <td>0</td>\n",
       "      <td>0</td>\n",
       "      <td>1</td>\n",
       "      <td>1</td>\n",
       "      <td>0</td>\n",
       "      <td>1</td>\n",
       "      <td>0</td>\n",
       "      <td>0</td>\n",
       "    </tr>\n",
       "    <tr>\n",
       "      <th>2</th>\n",
       "      <td>0</td>\n",
       "      <td>3000</td>\n",
       "      <td>0.0</td>\n",
       "      <td>66000.000000</td>\n",
       "      <td>360.0</td>\n",
       "      <td>1</td>\n",
       "      <td>3000.0</td>\n",
       "      <td>183.333333</td>\n",
       "      <td>1</td>\n",
       "      <td>0</td>\n",
       "      <td>0</td>\n",
       "      <td>1</td>\n",
       "      <td>1</td>\n",
       "      <td>0</td>\n",
       "      <td>0</td>\n",
       "      <td>0</td>\n",
       "      <td>1</td>\n",
       "    </tr>\n",
       "    <tr>\n",
       "      <th>3</th>\n",
       "      <td>0</td>\n",
       "      <td>2583</td>\n",
       "      <td>2358.0</td>\n",
       "      <td>120000.000000</td>\n",
       "      <td>360.0</td>\n",
       "      <td>1</td>\n",
       "      <td>4941.0</td>\n",
       "      <td>333.333333</td>\n",
       "      <td>1</td>\n",
       "      <td>0</td>\n",
       "      <td>0</td>\n",
       "      <td>1</td>\n",
       "      <td>0</td>\n",
       "      <td>1</td>\n",
       "      <td>0</td>\n",
       "      <td>0</td>\n",
       "      <td>1</td>\n",
       "    </tr>\n",
       "    <tr>\n",
       "      <th>4</th>\n",
       "      <td>0</td>\n",
       "      <td>6000</td>\n",
       "      <td>0.0</td>\n",
       "      <td>141000.000000</td>\n",
       "      <td>360.0</td>\n",
       "      <td>1</td>\n",
       "      <td>6000.0</td>\n",
       "      <td>391.666667</td>\n",
       "      <td>1</td>\n",
       "      <td>0</td>\n",
       "      <td>1</td>\n",
       "      <td>0</td>\n",
       "      <td>1</td>\n",
       "      <td>0</td>\n",
       "      <td>0</td>\n",
       "      <td>0</td>\n",
       "      <td>1</td>\n",
       "    </tr>\n",
       "    <tr>\n",
       "      <th>...</th>\n",
       "      <td>...</td>\n",
       "      <td>...</td>\n",
       "      <td>...</td>\n",
       "      <td>...</td>\n",
       "      <td>...</td>\n",
       "      <td>...</td>\n",
       "      <td>...</td>\n",
       "      <td>...</td>\n",
       "      <td>...</td>\n",
       "      <td>...</td>\n",
       "      <td>...</td>\n",
       "      <td>...</td>\n",
       "      <td>...</td>\n",
       "      <td>...</td>\n",
       "      <td>...</td>\n",
       "      <td>...</td>\n",
       "      <td>...</td>\n",
       "    </tr>\n",
       "    <tr>\n",
       "      <th>608</th>\n",
       "      <td>0</td>\n",
       "      <td>2900</td>\n",
       "      <td>0.0</td>\n",
       "      <td>71000.000000</td>\n",
       "      <td>360.0</td>\n",
       "      <td>1</td>\n",
       "      <td>2900.0</td>\n",
       "      <td>197.222222</td>\n",
       "      <td>1</td>\n",
       "      <td>0</td>\n",
       "      <td>1</td>\n",
       "      <td>0</td>\n",
       "      <td>1</td>\n",
       "      <td>0</td>\n",
       "      <td>1</td>\n",
       "      <td>0</td>\n",
       "      <td>0</td>\n",
       "    </tr>\n",
       "    <tr>\n",
       "      <th>609</th>\n",
       "      <td>3</td>\n",
       "      <td>4106</td>\n",
       "      <td>0.0</td>\n",
       "      <td>40000.000000</td>\n",
       "      <td>180.0</td>\n",
       "      <td>1</td>\n",
       "      <td>4106.0</td>\n",
       "      <td>222.222222</td>\n",
       "      <td>1</td>\n",
       "      <td>0</td>\n",
       "      <td>0</td>\n",
       "      <td>1</td>\n",
       "      <td>1</td>\n",
       "      <td>0</td>\n",
       "      <td>1</td>\n",
       "      <td>0</td>\n",
       "      <td>0</td>\n",
       "    </tr>\n",
       "    <tr>\n",
       "      <th>610</th>\n",
       "      <td>1</td>\n",
       "      <td>8072</td>\n",
       "      <td>240.0</td>\n",
       "      <td>253000.000000</td>\n",
       "      <td>360.0</td>\n",
       "      <td>1</td>\n",
       "      <td>8312.0</td>\n",
       "      <td>702.777778</td>\n",
       "      <td>1</td>\n",
       "      <td>0</td>\n",
       "      <td>0</td>\n",
       "      <td>1</td>\n",
       "      <td>1</td>\n",
       "      <td>0</td>\n",
       "      <td>0</td>\n",
       "      <td>0</td>\n",
       "      <td>1</td>\n",
       "    </tr>\n",
       "    <tr>\n",
       "      <th>611</th>\n",
       "      <td>2</td>\n",
       "      <td>7583</td>\n",
       "      <td>0.0</td>\n",
       "      <td>187000.000000</td>\n",
       "      <td>360.0</td>\n",
       "      <td>1</td>\n",
       "      <td>7583.0</td>\n",
       "      <td>519.444444</td>\n",
       "      <td>1</td>\n",
       "      <td>0</td>\n",
       "      <td>0</td>\n",
       "      <td>1</td>\n",
       "      <td>1</td>\n",
       "      <td>0</td>\n",
       "      <td>0</td>\n",
       "      <td>0</td>\n",
       "      <td>1</td>\n",
       "    </tr>\n",
       "    <tr>\n",
       "      <th>612</th>\n",
       "      <td>0</td>\n",
       "      <td>4583</td>\n",
       "      <td>0.0</td>\n",
       "      <td>133000.000000</td>\n",
       "      <td>360.0</td>\n",
       "      <td>0</td>\n",
       "      <td>4583.0</td>\n",
       "      <td>369.444444</td>\n",
       "      <td>0</td>\n",
       "      <td>1</td>\n",
       "      <td>1</td>\n",
       "      <td>0</td>\n",
       "      <td>1</td>\n",
       "      <td>0</td>\n",
       "      <td>0</td>\n",
       "      <td>1</td>\n",
       "      <td>0</td>\n",
       "    </tr>\n",
       "  </tbody>\n",
       "</table>\n",
       "<p>613 rows × 17 columns</p>\n",
       "</div>"
      ],
      "text/plain": [
       "     Dependents  ApplicantIncome  CoapplicantIncome     LoanAmount  \\\n",
       "0             0             5849                0.0  146050.761421   \n",
       "1             1             4583             1508.0  128000.000000   \n",
       "2             0             3000                0.0   66000.000000   \n",
       "3             0             2583             2358.0  120000.000000   \n",
       "4             0             6000                0.0  141000.000000   \n",
       "..          ...              ...                ...            ...   \n",
       "608           0             2900                0.0   71000.000000   \n",
       "609           3             4106                0.0   40000.000000   \n",
       "610           1             8072              240.0  253000.000000   \n",
       "611           2             7583                0.0  187000.000000   \n",
       "612           0             4583                0.0  133000.000000   \n",
       "\n",
       "     Loan_Amount_Term  Loan_Status  Income  Montantparmois  Arembourer  \\\n",
       "0               360.0            1  5849.0      405.696560           1   \n",
       "1               360.0            0  6091.0      355.555556           1   \n",
       "2               360.0            1  3000.0      183.333333           1   \n",
       "3               360.0            1  4941.0      333.333333           1   \n",
       "4               360.0            1  6000.0      391.666667           1   \n",
       "..                ...          ...     ...             ...         ...   \n",
       "608             360.0            1  2900.0      197.222222           1   \n",
       "609             180.0            1  4106.0      222.222222           1   \n",
       "610             360.0            1  8312.0      702.777778           1   \n",
       "611             360.0            1  7583.0      519.444444           1   \n",
       "612             360.0            0  4583.0      369.444444           0   \n",
       "\n",
       "     Apasrembourer  Married_No  Married_Yes  Education_Graduate  \\\n",
       "0                0           1            0                   1   \n",
       "1                0           0            1                   1   \n",
       "2                0           0            1                   1   \n",
       "3                0           0            1                   0   \n",
       "4                0           1            0                   1   \n",
       "..             ...         ...          ...                 ...   \n",
       "608              0           1            0                   1   \n",
       "609              0           0            1                   1   \n",
       "610              0           0            1                   1   \n",
       "611              0           0            1                   1   \n",
       "612              1           1            0                   1   \n",
       "\n",
       "     Education_Not Graduate  Property_Area_Rural  Property_Area_Semiurban  \\\n",
       "0                         0                    0                        0   \n",
       "1                         0                    1                        0   \n",
       "2                         0                    0                        0   \n",
       "3                         1                    0                        0   \n",
       "4                         0                    0                        0   \n",
       "..                      ...                  ...                      ...   \n",
       "608                       0                    1                        0   \n",
       "609                       0                    1                        0   \n",
       "610                       0                    0                        0   \n",
       "611                       0                    0                        0   \n",
       "612                       0                    0                        1   \n",
       "\n",
       "     Property_Area_Urban  \n",
       "0                      1  \n",
       "1                      0  \n",
       "2                      1  \n",
       "3                      1  \n",
       "4                      1  \n",
       "..                   ...  \n",
       "608                    0  \n",
       "609                    0  \n",
       "610                    1  \n",
       "611                    1  \n",
       "612                    0  \n",
       "\n",
       "[613 rows x 17 columns]"
      ]
     },
     "execution_count": 1003,
     "metadata": {},
     "output_type": "execute_result"
    }
   ],
   "source": [
    "df_demise"
   ]
  },
  {
   "cell_type": "code",
   "execution_count": 1004,
   "metadata": {},
   "outputs": [],
   "source": [
    "X_scaled = pd.DataFrame(preprocessing.scale(X), columns = X.columns)"
   ]
  },
  {
   "cell_type": "code",
   "execution_count": 1005,
   "metadata": {},
   "outputs": [
    {
     "data": {
      "text/html": [
       "<div>\n",
       "<style scoped>\n",
       "    .dataframe tbody tr th:only-of-type {\n",
       "        vertical-align: middle;\n",
       "    }\n",
       "\n",
       "    .dataframe tbody tr th {\n",
       "        vertical-align: top;\n",
       "    }\n",
       "\n",
       "    .dataframe thead th {\n",
       "        text-align: right;\n",
       "    }\n",
       "</style>\n",
       "<table border=\"1\" class=\"dataframe\">\n",
       "  <thead>\n",
       "    <tr style=\"text-align: right;\">\n",
       "      <th></th>\n",
       "      <th>Dependents</th>\n",
       "      <th>ApplicantIncome</th>\n",
       "      <th>CoapplicantIncome</th>\n",
       "      <th>LoanAmount</th>\n",
       "      <th>Loan_Amount_Term</th>\n",
       "      <th>Income</th>\n",
       "      <th>Montantparmois</th>\n",
       "      <th>Arembourer</th>\n",
       "      <th>Apasrembourer</th>\n",
       "      <th>Married_No</th>\n",
       "      <th>Married_Yes</th>\n",
       "      <th>Education_Graduate</th>\n",
       "      <th>Education_Not Graduate</th>\n",
       "      <th>Property_Area_Rural</th>\n",
       "      <th>Property_Area_Semiurban</th>\n",
       "      <th>Property_Area_Urban</th>\n",
       "    </tr>\n",
       "  </thead>\n",
       "  <tbody>\n",
       "    <tr>\n",
       "      <th>0</th>\n",
       "      <td>-0.736571</td>\n",
       "      <td>0.219396</td>\n",
       "      <td>-0.797483</td>\n",
       "      <td>0.000000</td>\n",
       "      <td>0.280107</td>\n",
       "      <td>-0.182349</td>\n",
       "      <td>-0.136183</td>\n",
       "      <td>0.539005</td>\n",
       "      <td>-0.539005</td>\n",
       "      <td>1.370377</td>\n",
       "      <td>-1.370377</td>\n",
       "      <td>0.528913</td>\n",
       "      <td>-0.528913</td>\n",
       "      <td>-0.639684</td>\n",
       "      <td>-0.783044</td>\n",
       "      <td>1.426413</td>\n",
       "    </tr>\n",
       "    <tr>\n",
       "      <th>1</th>\n",
       "      <td>0.257962</td>\n",
       "      <td>-0.120978</td>\n",
       "      <td>0.005849</td>\n",
       "      <td>-0.215937</td>\n",
       "      <td>0.280107</td>\n",
       "      <td>-0.119896</td>\n",
       "      <td>-0.234397</td>\n",
       "      <td>0.539005</td>\n",
       "      <td>-0.539005</td>\n",
       "      <td>-0.729726</td>\n",
       "      <td>0.729726</td>\n",
       "      <td>0.528913</td>\n",
       "      <td>-0.528913</td>\n",
       "      <td>1.563272</td>\n",
       "      <td>-0.783044</td>\n",
       "      <td>-0.701059</td>\n",
       "    </tr>\n",
       "    <tr>\n",
       "      <th>2</th>\n",
       "      <td>-0.736571</td>\n",
       "      <td>-0.546580</td>\n",
       "      <td>-0.797483</td>\n",
       "      <td>-0.957628</td>\n",
       "      <td>0.280107</td>\n",
       "      <td>-0.917585</td>\n",
       "      <td>-0.571740</td>\n",
       "      <td>0.539005</td>\n",
       "      <td>-0.539005</td>\n",
       "      <td>-0.729726</td>\n",
       "      <td>0.729726</td>\n",
       "      <td>0.528913</td>\n",
       "      <td>-0.528913</td>\n",
       "      <td>-0.639684</td>\n",
       "      <td>-0.783044</td>\n",
       "      <td>1.426413</td>\n",
       "    </tr>\n",
       "    <tr>\n",
       "      <th>3</th>\n",
       "      <td>-0.736571</td>\n",
       "      <td>-0.658694</td>\n",
       "      <td>0.458656</td>\n",
       "      <td>-0.311639</td>\n",
       "      <td>0.280107</td>\n",
       "      <td>-0.416675</td>\n",
       "      <td>-0.277925</td>\n",
       "      <td>0.539005</td>\n",
       "      <td>-0.539005</td>\n",
       "      <td>-0.729726</td>\n",
       "      <td>0.729726</td>\n",
       "      <td>-1.890668</td>\n",
       "      <td>1.890668</td>\n",
       "      <td>-0.639684</td>\n",
       "      <td>-0.783044</td>\n",
       "      <td>1.426413</td>\n",
       "    </tr>\n",
       "    <tr>\n",
       "      <th>4</th>\n",
       "      <td>-0.736571</td>\n",
       "      <td>0.259993</td>\n",
       "      <td>-0.797483</td>\n",
       "      <td>-0.060421</td>\n",
       "      <td>0.280107</td>\n",
       "      <td>-0.143381</td>\n",
       "      <td>-0.163664</td>\n",
       "      <td>0.539005</td>\n",
       "      <td>-0.539005</td>\n",
       "      <td>1.370377</td>\n",
       "      <td>-1.370377</td>\n",
       "      <td>0.528913</td>\n",
       "      <td>-0.528913</td>\n",
       "      <td>-0.639684</td>\n",
       "      <td>-0.783044</td>\n",
       "      <td>1.426413</td>\n",
       "    </tr>\n",
       "    <tr>\n",
       "      <th>...</th>\n",
       "      <td>...</td>\n",
       "      <td>...</td>\n",
       "      <td>...</td>\n",
       "      <td>...</td>\n",
       "      <td>...</td>\n",
       "      <td>...</td>\n",
       "      <td>...</td>\n",
       "      <td>...</td>\n",
       "      <td>...</td>\n",
       "      <td>...</td>\n",
       "      <td>...</td>\n",
       "      <td>...</td>\n",
       "      <td>...</td>\n",
       "      <td>...</td>\n",
       "      <td>...</td>\n",
       "      <td>...</td>\n",
       "    </tr>\n",
       "    <tr>\n",
       "      <th>608</th>\n",
       "      <td>-0.736571</td>\n",
       "      <td>-0.573466</td>\n",
       "      <td>-0.797483</td>\n",
       "      <td>-0.897814</td>\n",
       "      <td>0.280107</td>\n",
       "      <td>-0.943391</td>\n",
       "      <td>-0.544535</td>\n",
       "      <td>0.539005</td>\n",
       "      <td>-0.539005</td>\n",
       "      <td>1.370377</td>\n",
       "      <td>-1.370377</td>\n",
       "      <td>0.528913</td>\n",
       "      <td>-0.528913</td>\n",
       "      <td>1.563272</td>\n",
       "      <td>-0.783044</td>\n",
       "      <td>-0.701059</td>\n",
       "    </tr>\n",
       "    <tr>\n",
       "      <th>609</th>\n",
       "      <td>2.247027</td>\n",
       "      <td>-0.249223</td>\n",
       "      <td>-0.797483</td>\n",
       "      <td>-1.268660</td>\n",
       "      <td>-2.516297</td>\n",
       "      <td>-0.632161</td>\n",
       "      <td>-0.495566</td>\n",
       "      <td>0.539005</td>\n",
       "      <td>-0.539005</td>\n",
       "      <td>-0.729726</td>\n",
       "      <td>0.729726</td>\n",
       "      <td>0.528913</td>\n",
       "      <td>-0.528913</td>\n",
       "      <td>1.563272</td>\n",
       "      <td>-0.783044</td>\n",
       "      <td>-0.701059</td>\n",
       "    </tr>\n",
       "    <tr>\n",
       "      <th>610</th>\n",
       "      <td>0.257962</td>\n",
       "      <td>0.817067</td>\n",
       "      <td>-0.669632</td>\n",
       "      <td>1.279408</td>\n",
       "      <td>0.280107</td>\n",
       "      <td>0.453273</td>\n",
       "      <td>0.445730</td>\n",
       "      <td>0.539005</td>\n",
       "      <td>-0.539005</td>\n",
       "      <td>-0.729726</td>\n",
       "      <td>0.729726</td>\n",
       "      <td>0.528913</td>\n",
       "      <td>-0.528913</td>\n",
       "      <td>-0.639684</td>\n",
       "      <td>-0.783044</td>\n",
       "      <td>1.426413</td>\n",
       "    </tr>\n",
       "    <tr>\n",
       "      <th>611</th>\n",
       "      <td>1.252494</td>\n",
       "      <td>0.685595</td>\n",
       "      <td>-0.797483</td>\n",
       "      <td>0.489866</td>\n",
       "      <td>0.280107</td>\n",
       "      <td>0.265141</td>\n",
       "      <td>0.086623</td>\n",
       "      <td>0.539005</td>\n",
       "      <td>-0.539005</td>\n",
       "      <td>-0.729726</td>\n",
       "      <td>0.729726</td>\n",
       "      <td>0.528913</td>\n",
       "      <td>-0.528913</td>\n",
       "      <td>-0.639684</td>\n",
       "      <td>-0.783044</td>\n",
       "      <td>1.426413</td>\n",
       "    </tr>\n",
       "    <tr>\n",
       "      <th>612</th>\n",
       "      <td>-0.736571</td>\n",
       "      <td>-0.120978</td>\n",
       "      <td>-0.797483</td>\n",
       "      <td>-0.156123</td>\n",
       "      <td>0.280107</td>\n",
       "      <td>-0.509063</td>\n",
       "      <td>-0.207192</td>\n",
       "      <td>-1.855271</td>\n",
       "      <td>1.855271</td>\n",
       "      <td>1.370377</td>\n",
       "      <td>-1.370377</td>\n",
       "      <td>0.528913</td>\n",
       "      <td>-0.528913</td>\n",
       "      <td>-0.639684</td>\n",
       "      <td>1.277067</td>\n",
       "      <td>-0.701059</td>\n",
       "    </tr>\n",
       "  </tbody>\n",
       "</table>\n",
       "<p>613 rows × 16 columns</p>\n",
       "</div>"
      ],
      "text/plain": [
       "     Dependents  ApplicantIncome  CoapplicantIncome  LoanAmount  \\\n",
       "0     -0.736571         0.219396          -0.797483    0.000000   \n",
       "1      0.257962        -0.120978           0.005849   -0.215937   \n",
       "2     -0.736571        -0.546580          -0.797483   -0.957628   \n",
       "3     -0.736571        -0.658694           0.458656   -0.311639   \n",
       "4     -0.736571         0.259993          -0.797483   -0.060421   \n",
       "..          ...              ...                ...         ...   \n",
       "608   -0.736571        -0.573466          -0.797483   -0.897814   \n",
       "609    2.247027        -0.249223          -0.797483   -1.268660   \n",
       "610    0.257962         0.817067          -0.669632    1.279408   \n",
       "611    1.252494         0.685595          -0.797483    0.489866   \n",
       "612   -0.736571        -0.120978          -0.797483   -0.156123   \n",
       "\n",
       "     Loan_Amount_Term    Income  Montantparmois  Arembourer  Apasrembourer  \\\n",
       "0            0.280107 -0.182349       -0.136183    0.539005      -0.539005   \n",
       "1            0.280107 -0.119896       -0.234397    0.539005      -0.539005   \n",
       "2            0.280107 -0.917585       -0.571740    0.539005      -0.539005   \n",
       "3            0.280107 -0.416675       -0.277925    0.539005      -0.539005   \n",
       "4            0.280107 -0.143381       -0.163664    0.539005      -0.539005   \n",
       "..                ...       ...             ...         ...            ...   \n",
       "608          0.280107 -0.943391       -0.544535    0.539005      -0.539005   \n",
       "609         -2.516297 -0.632161       -0.495566    0.539005      -0.539005   \n",
       "610          0.280107  0.453273        0.445730    0.539005      -0.539005   \n",
       "611          0.280107  0.265141        0.086623    0.539005      -0.539005   \n",
       "612          0.280107 -0.509063       -0.207192   -1.855271       1.855271   \n",
       "\n",
       "     Married_No  Married_Yes  Education_Graduate  Education_Not Graduate  \\\n",
       "0      1.370377    -1.370377            0.528913               -0.528913   \n",
       "1     -0.729726     0.729726            0.528913               -0.528913   \n",
       "2     -0.729726     0.729726            0.528913               -0.528913   \n",
       "3     -0.729726     0.729726           -1.890668                1.890668   \n",
       "4      1.370377    -1.370377            0.528913               -0.528913   \n",
       "..          ...          ...                 ...                     ...   \n",
       "608    1.370377    -1.370377            0.528913               -0.528913   \n",
       "609   -0.729726     0.729726            0.528913               -0.528913   \n",
       "610   -0.729726     0.729726            0.528913               -0.528913   \n",
       "611   -0.729726     0.729726            0.528913               -0.528913   \n",
       "612    1.370377    -1.370377            0.528913               -0.528913   \n",
       "\n",
       "     Property_Area_Rural  Property_Area_Semiurban  Property_Area_Urban  \n",
       "0              -0.639684                -0.783044             1.426413  \n",
       "1               1.563272                -0.783044            -0.701059  \n",
       "2              -0.639684                -0.783044             1.426413  \n",
       "3              -0.639684                -0.783044             1.426413  \n",
       "4              -0.639684                -0.783044             1.426413  \n",
       "..                   ...                      ...                  ...  \n",
       "608             1.563272                -0.783044            -0.701059  \n",
       "609             1.563272                -0.783044            -0.701059  \n",
       "610            -0.639684                -0.783044             1.426413  \n",
       "611            -0.639684                -0.783044             1.426413  \n",
       "612            -0.639684                 1.277067            -0.701059  \n",
       "\n",
       "[613 rows x 16 columns]"
      ]
     },
     "execution_count": 1005,
     "metadata": {},
     "output_type": "execute_result"
    }
   ],
   "source": [
    "X_scaled"
   ]
  },
  {
   "cell_type": "code",
   "execution_count": 1006,
   "metadata": {},
   "outputs": [
    {
     "data": {
      "text/plain": [
       "<matplotlib.axes._subplots.AxesSubplot at 0x2ccbddda4c8>"
      ]
     },
     "execution_count": 1006,
     "metadata": {},
     "output_type": "execute_result"
    },
    {
     "data": {
      "image/png": "[encoded data removed]",
      "text/plain": [
       "<Figure size 432x288 with 1 Axes>"
      ]
     },
     "metadata": {
      "needs_background": "light"
     },
     "output_type": "display_data"
    }
   ],
   "source": [
    "sns.boxplot(data = X_scaled)"
   ]
  },
  {
   "cell_type": "code",
   "execution_count": 1007,
   "metadata": {},
   "outputs": [
    {
     "data": {
      "text/plain": [
       "array([[-6.26232750e-01, -2.18683442e+00,  8.06158507e-01, ...,\n",
       "        -1.66533454e-16, -2.22044605e-16, -3.33066907e-16],\n",
       "       [ 3.24149748e-01,  2.59662633e-02, -1.12586773e+00, ...,\n",
       "        -2.77555756e-17,  0.00000000e+00, -2.77555756e-16],\n",
       "       [-9.44067347e-01, -3.00782724e-01, -1.09089139e+00, ...,\n",
       "         2.77555756e-16, -3.33066907e-16, -4.44089210e-16],\n",
       "       ...,\n",
       "       [ 1.80539138e+00, -2.44052209e-01, -5.32468289e-01, ...,\n",
       "         6.17287033e-17, -2.46093543e-16, -4.44735846e-16],\n",
       "       [ 1.30750544e+00, -4.37499648e-03, -8.95720405e-01, ...,\n",
       "         6.17287033e-17, -3.01604694e-16, -4.44735846e-16],\n",
       "       [-1.15769879e+00, -8.04868719e-01,  2.74226449e+00, ...,\n",
       "        -2.22044605e-16,  2.22044605e-16,  7.77156117e-16]])"
      ]
     },
     "execution_count": 1007,
     "metadata": {},
     "output_type": "execute_result"
    }
   ],
   "source": [
    "\n",
    "# définition de la commande\n",
    "pca = PCA()\n",
    "# Sélection des variables quantitatives\n",
    " \n",
    "# réduction d'échelle\n",
    "data_PCA = pd.DataFrame(scale(X),columns=X.columns)\n",
    "# composantes principales\n",
    "C = pca.fit(data_PCA).transform(data_PCA)\n",
    "C"
   ]
  },
  {
   "cell_type": "code",
   "execution_count": 1008,
   "metadata": {},
   "outputs": [
    {
     "name": "stdout",
     "output_type": "stream",
     "text": [
      "On peut voir ici que les premières variables générées concentrent le plus grand poids de données\n"
     ]
    },
    {
     "data": {
      "image/png": "[encoded data removed]",
      "text/plain": [
       "<Figure size 432x288 with 1 Axes>"
      ]
     },
     "metadata": {
      "needs_background": "light"
     },
     "output_type": "display_data"
    }
   ],
   "source": [
    "print(\"On peut voir ici que les premières variables générées concentrent le plus grand poids de données\")\n",
    "plt.figure()\n",
    "plt.plot(pca.explained_variance_ratio_)\n",
    "plt.show()"
   ]
  },
  {
   "cell_type": "code",
   "execution_count": 1009,
   "metadata": {},
   "outputs": [
    {
     "name": "stdout",
     "output_type": "stream",
     "text": [
      "Taux (addition) de valeurs contenues dans les variables PCA 0 et 1: 0.3394221884445573\n",
      "Taux (addition) de valeurs contenues dans les variables PCA 0, 1 et 2: 0.4642573859151438\n"
     ]
    }
   ],
   "source": [
    "print(\"Taux (addition) de valeurs contenues dans les variables PCA 0 et 1:\",\n",
    "      (pca.explained_variance_ratio_[0]+pca.explained_variance_ratio_[1]))\n",
    "\n",
    "print(\"Taux (addition) de valeurs contenues dans les variables PCA 0, 1 et 2:\",\n",
    "      (pca.explained_variance_ratio_[0]+pca.explained_variance_ratio_[1]+pca.explained_variance_ratio_[2]))"
   ]
  },
  {
   "cell_type": "code",
   "execution_count": 1010,
   "metadata": {},
   "outputs": [
    {
     "data": {
      "image/png": "[encoded data removed]",
      "text/plain": [
       "<Figure size 576x576 with 1 Axes>"
      ]
     },
     "metadata": {
      "needs_background": "light"
     },
     "output_type": "display_data"
    }
   ],
   "source": [
    "coord1=pca.components_[0]*np.sqrt(pca.explained_variance_[0])\n",
    "coord2=pca.components_[1]*np.sqrt(pca.explained_variance_[1])\n",
    "fig = plt.figure(figsize=(8,8))\n",
    "ax = fig.add_subplot(1, 1, 1)\n",
    "for i, j, nom in zip(coord1,coord2, data_PCA.columns):\n",
    "    plt.text(i, j, nom)\n",
    "    plt.arrow(0,0,i,j,color='r')\n",
    "plt.axis((-1.2,1.2,-1.2,1.2))\n",
    "# cercle\n",
    "c=plt.Circle((0,0), radius=1, color='b', fill=False)\n",
    "ax.add_patch(c)\n",
    "plt.show()"
   ]
  },
  {
   "cell_type": "code",
   "execution_count": 1011,
   "metadata": {},
   "outputs": [],
   "source": [
    "df_pcs=pca.transform(data_PCA)"
   ]
  },
  {
   "cell_type": "code",
   "execution_count": 1012,
   "metadata": {},
   "outputs": [
    {
     "data": {
      "text/plain": [
       "array([[-6.26232750e-01, -2.18683442e+00,  8.06158507e-01, ...,\n",
       "        -1.66533454e-16, -2.22044605e-16, -3.33066907e-16],\n",
       "       [ 3.24149748e-01,  2.59662633e-02, -1.12586773e+00, ...,\n",
       "        -2.77555756e-17,  0.00000000e+00, -2.77555756e-16],\n",
       "       [-9.44067347e-01, -3.00782724e-01, -1.09089139e+00, ...,\n",
       "         2.77555756e-16, -3.33066907e-16, -4.44089210e-16],\n",
       "       ...,\n",
       "       [ 1.80539138e+00, -2.44052209e-01, -5.32468289e-01, ...,\n",
       "         6.17287033e-17, -2.46093543e-16, -4.44735846e-16],\n",
       "       [ 1.30750544e+00, -4.37499648e-03, -8.95720405e-01, ...,\n",
       "         6.17287033e-17, -3.01604694e-16, -4.44735846e-16],\n",
       "       [-1.15769879e+00, -8.04868719e-01,  2.74226449e+00, ...,\n",
       "        -2.22044605e-16,  2.22044605e-16,  7.77156117e-16]])"
      ]
     },
     "execution_count": 1012,
     "metadata": {},
     "output_type": "execute_result"
    }
   ],
   "source": [
    "df_pcs"
   ]
  },
  {
   "cell_type": "code",
   "execution_count": 1013,
   "metadata": {},
   "outputs": [],
   "source": [
    "#X = X_scaled\n",
    "y = df_demise[\"Loan_Status\"]"
   ]
  },
  {
   "cell_type": "code",
   "execution_count": 1014,
   "metadata": {},
   "outputs": [
    {
     "data": {
      "text/plain": [
       "90     1\n",
       "532    0\n",
       "485    0\n",
       "355    1\n",
       "266    1\n",
       "      ..\n",
       "277    1\n",
       "9      0\n",
       "359    1\n",
       "192    0\n",
       "559    1\n",
       "Name: Loan_Status, Length: 490, dtype: int64"
      ]
     },
     "execution_count": 1014,
     "metadata": {},
     "output_type": "execute_result"
    }
   ],
   "source": [
    "y_train"
   ]
  },
  {
   "cell_type": "code",
   "execution_count": 1015,
   "metadata": {},
   "outputs": [
    {
     "data": {
      "text/plain": [
       "1    331\n",
       "0    159\n",
       "Name: Loan_Status, dtype: int64"
      ]
     },
     "execution_count": 1015,
     "metadata": {},
     "output_type": "execute_result"
    }
   ],
   "source": [
    "y_train.value_counts()"
   ]
  },
  {
   "cell_type": "code",
   "execution_count": 1016,
   "metadata": {},
   "outputs": [],
   "source": [
    "X_train, X_test, y_train, y_test = train_test_split(X, y, test_size = 0.2, random_state = 0)"
   ]
  },
  {
   "cell_type": "code",
   "execution_count": 1017,
   "metadata": {},
   "outputs": [],
   "source": [
    "#rus = RandomUnderSampler()\n",
    "#X_train, y_train = rus.fit_resample(X_train, y_train)\n",
    "#print('Resampled dataset shape %s' % Counter(X_train))"
   ]
  },
  {
   "cell_type": "markdown",
   "metadata": {},
   "source": [
    "from collections import Counter\n",
    "from imblearn.over_sampling import RandomOverSampler\n",
    "from imblearn.under_sampling import RandomUnderSampler\n",
    "\n",
    "ros = RandomOverSampler()\n",
    "X_train, y_train = ros.fit_sample(X_train, y_train)\n",
    "print('Resampled dataset shape %s' % Counter(X_train))"
   ]
  },
  {
   "cell_type": "code",
   "execution_count": 1018,
   "metadata": {},
   "outputs": [
    {
     "data": {
      "text/plain": [
       "1    91\n",
       "0    32\n",
       "Name: Loan_Status, dtype: int64"
      ]
     },
     "execution_count": 1018,
     "metadata": {},
     "output_type": "execute_result"
    }
   ],
   "source": [
    "y_test.value_counts()"
   ]
  },
  {
   "cell_type": "code",
   "execution_count": 1019,
   "metadata": {},
   "outputs": [
    {
     "data": {
      "text/plain": [
       "1    331\n",
       "0    159\n",
       "Name: Loan_Status, dtype: int64"
      ]
     },
     "execution_count": 1019,
     "metadata": {},
     "output_type": "execute_result"
    }
   ],
   "source": [
    "y_train.value_counts()"
   ]
  },
  {
   "cell_type": "raw",
   "metadata": {},
   "source": [
    "Le SVM a besoin d'avoir les donnée normalisé, ces résultats sont donc normales"
   ]
  },
  {
   "cell_type": "code",
   "execution_count": 1020,
   "metadata": {},
   "outputs": [
    {
     "name": "stdout",
     "output_type": "stream",
     "text": [
      "              precision    recall  f1-score   support\n",
      "\n",
      "           0       0.00      0.00      0.00        32\n",
      "           1       0.74      1.00      0.85        91\n",
      "\n",
      "    accuracy                           0.74       123\n",
      "   macro avg       0.37      0.50      0.43       123\n",
      "weighted avg       0.55      0.74      0.63       123\n",
      "\n"
     ]
    }
   ],
   "source": [
    "support_vector_classifier = SVC(kernel='rbf')\n",
    "support_vector_classifier.fit(X_train,y_train)\n",
    "y_pred_svc = support_vector_classifier.predict(X_test)\n",
    "print(classification_report(y_test,y_pred_svc))"
   ]
  },
  {
   "cell_type": "code",
   "execution_count": 1021,
   "metadata": {},
   "outputs": [
    {
     "name": "stdout",
     "output_type": "stream",
     "text": [
      "              precision    recall  f1-score   support\n",
      "\n",
      "           0       0.43      0.41      0.42        32\n",
      "           1       0.80      0.81      0.80        91\n",
      "\n",
      "    accuracy                           0.71       123\n",
      "   macro avg       0.61      0.61      0.61       123\n",
      "weighted avg       0.70      0.71      0.70       123\n",
      "\n"
     ]
    }
   ],
   "source": [
    "dtree = tree.DecisionTreeClassifier(criterion = 'gini', random_state = 0)\n",
    "dtr=dtree.fit(X_train, y_train)\n",
    "dtrpred = dtree.predict(X_test)\n",
    "print(classification_report(y_test,dtrpred))"
   ]
  },
  {
   "cell_type": "raw",
   "metadata": {},
   "source": [
    "Le KNeighbors a besoin d'avoir les donnée normalisé, ces résultats sont donc normales"
   ]
  },
  {
   "cell_type": "code",
   "execution_count": 1022,
   "metadata": {},
   "outputs": [],
   "source": [
    "knncla = KNeighborsClassifier(n_neighbors=5,n_jobs=-1)\n",
    "knncla.fit(X_train, y_train)\n",
    "KNeighborsClassifierpred = knncla.predict(X_test)"
   ]
  },
  {
   "cell_type": "code",
   "execution_count": 1023,
   "metadata": {},
   "outputs": [
    {
     "name": "stdout",
     "output_type": "stream",
     "text": [
      "              precision    recall  f1-score   support\n",
      "\n",
      "           0       0.28      0.22      0.25        32\n",
      "           1       0.74      0.80      0.77        91\n",
      "\n",
      "    accuracy                           0.65       123\n",
      "   macro avg       0.51      0.51      0.51       123\n",
      "weighted avg       0.62      0.65      0.64       123\n",
      "\n"
     ]
    }
   ],
   "source": [
    "print(classification_report(y_test,KNeighborsClassifierpred))"
   ]
  },
  {
   "cell_type": "raw",
   "metadata": {},
   "source": [
    "Pout lutter contre l'overfeating on va esseyer un test de anova(f_classif)"
   ]
  },
  {
   "cell_type": "code",
   "execution_count": 1024,
   "metadata": {},
   "outputs": [],
   "source": [
    "random_forest_classifier = make_pipeline(PolynomialFeatures(2),SelectKBest(f_classif, k=4),RandomForestClassifier(random_state=0))\n",
    "random_forest_classifier.fit(X_train,y_train)\n",
    "y_pred_rfc = random_forest_classifier.predict(X_test)"
   ]
  },
  {
   "cell_type": "code",
   "execution_count": 1025,
   "metadata": {},
   "outputs": [
    {
     "name": "stdout",
     "output_type": "stream",
     "text": [
      "              precision    recall  f1-score   support\n",
      "\n",
      "           0       0.70      0.50      0.58        32\n",
      "           1       0.84      0.92      0.88        91\n",
      "\n",
      "    accuracy                           0.81       123\n",
      "   macro avg       0.77      0.71      0.73       123\n",
      "weighted avg       0.80      0.81      0.80       123\n",
      "\n"
     ]
    }
   ],
   "source": [
    "print(classification_report(y_test,y_pred_rfc))"
   ]
  },
  {
   "cell_type": "code",
   "execution_count": 1026,
   "metadata": {},
   "outputs": [],
   "source": [
    "regressionlogistique = LogisticRegression(solver = 'liblinear')\n",
    "regressionlogistique.fit(X_train, y_train)\n",
    "\n",
    "regressionlogistique_pred = regressionlogistique.predict(X_test)"
   ]
  },
  {
   "cell_type": "code",
   "execution_count": 1027,
   "metadata": {},
   "outputs": [
    {
     "name": "stdout",
     "output_type": "stream",
     "text": [
      "              precision    recall  f1-score   support\n",
      "\n",
      "           0       0.00      0.00      0.00        32\n",
      "           1       0.74      1.00      0.85        91\n",
      "\n",
      "    accuracy                           0.74       123\n",
      "   macro avg       0.37      0.50      0.43       123\n",
      "weighted avg       0.55      0.74      0.63       123\n",
      "\n"
     ]
    }
   ],
   "source": [
    "print(classification_report(y_test,regressionlogistique_pred))"
   ]
  },
  {
   "cell_type": "code",
   "execution_count": 1028,
   "metadata": {},
   "outputs": [
    {
     "name": "stdout",
     "output_type": "stream",
     "text": [
      "              precision    recall  f1-score   support\n",
      "\n",
      "           0       0.45      0.41      0.43        32\n",
      "           1       0.80      0.82      0.81        91\n",
      "\n",
      "    accuracy                           0.72       123\n",
      "   macro avg       0.62      0.62      0.62       123\n",
      "weighted avg       0.71      0.72      0.71       123\n",
      "\n"
     ]
    }
   ],
   "source": [
    "XGboostcla = xgb.XGBClassifier()\n",
    "train_Xgboost = XGboostcla.fit(X_train, y_train)\n",
    "predgbcla = train_Xgboost.predict(X_test)\n",
    "print(classification_report(y_test,predgbcla))"
   ]
  },
  {
   "cell_type": "raw",
   "metadata": {},
   "source": [
    "Meme avec un demise et une normalisation des données les valeurs du recall des non solvables ne sont pas encore optimal"
   ]
  },
  {
   "cell_type": "code",
   "execution_count": null,
   "metadata": {},
   "outputs": [],
   "source": []
  },
  {
   "cell_type": "code",
   "execution_count": 1029,
   "metadata": {},
   "outputs": [
    {
     "data": {
      "text/plain": [
       "<matplotlib.legend.Legend at 0x2ccb7c04388>"
      ]
     },
     "execution_count": 1029,
     "metadata": {},
     "output_type": "execute_result"
    },
    {
     "data": {
      "image/png": "[encoded data removed]",
      "text/plain": [
       "<Figure size 864x576 with 1 Axes>"
      ]
     },
     "metadata": {
      "needs_background": "light"
     },
     "output_type": "display_data"
    }
   ],
   "source": [
    "N, train_score,val_score = learning_curve(XGboostcla, X_train, y_train, cv = 4, train_sizes = np.linspace(0.1,1,10), scoring = 'accuracy')\n",
    "plt.figure(figsize=(12,8))\n",
    "\n",
    "plt.plot(N, train_score.mean(axis=1),label='train_score')\n",
    "plt.plot(N, val_score.mean(axis=1),label='val_score')\n",
    "plt.legend()"
   ]
  },
  {
   "cell_type": "raw",
   "metadata": {},
   "source": [
    "On peut voir avec la learning curve que le modèle est en overfeating car il est parfait sur le train_score mais est incapable de généraliser."
   ]
  },
  {
   "cell_type": "raw",
   "metadata": {},
   "source": [
    "Tentons de corriger le problème avec un feature importance"
   ]
  },
  {
   "cell_type": "code",
   "execution_count": 1030,
   "metadata": {},
   "outputs": [
    {
     "data": {
      "text/plain": [
       "<matplotlib.axes._subplots.AxesSubplot at 0x2ccbaf98d08>"
      ]
     },
     "execution_count": 1030,
     "metadata": {},
     "output_type": "execute_result"
    },
    {
     "data": {
      "image/png": "[encoded data removed]",
      "text/plain": [
       "<Figure size 864x576 with 1 Axes>"
      ]
     },
     "metadata": {
      "needs_background": "light"
     },
     "output_type": "display_data"
    }
   ],
   "source": [
    "pd.DataFrame(XGboostcla.feature_importances_, index=X_train.columns).plot.bar(figsize=(12,8))"
   ]
  },
  {
   "cell_type": "raw",
   "metadata": {},
   "source": [
    "On va esseyer d'utiliser randomforest car il lutte bien contre les overfeatings"
   ]
  },
  {
   "cell_type": "code",
   "execution_count": 1031,
   "metadata": {},
   "outputs": [],
   "source": [
    "pd.DataFrame(random_forest_classifier.feature_importances_, index=X_train.columns).plot.bar(figsize=(12,8))"
   ]
  },
  {
   "cell_type": "code",
   "execution_count": 1032,
   "metadata": {},
   "outputs": [
    {
     "data": {
      "text/plain": [
       "<matplotlib.legend.Legend at 0x2ccb9d0ee48>"
      ]
     },
     "execution_count": 1032,
     "metadata": {},
     "output_type": "execute_result"
    },
    {
     "data": {
      "image/png": "[encoded data removed]",
      "text/plain": [
       "<Figure size 864x576 with 1 Axes>"
      ]
     },
     "metadata": {
      "needs_background": "light"
     },
     "output_type": "display_data"
    }
   ],
   "source": [
    "N, train_score,val_score = learning_curve(random_forest_classifier, X_train, y_train, cv = 4, train_sizes = np.linspace(0.1,1,10), scoring = 'f1')\n",
    "plt.figure(figsize=(12,8))\n",
    "plt.plot(N, train_score.mean(axis=1),label='train_score')\n",
    "plt.plot(N, val_score.mean(axis=1),label='val_score')\n",
    "plt.legend()"
   ]
  },
  {
   "cell_type": "raw",
   "metadata": {},
   "source": [
    "On a finalement réussit à équilibrer les données mais on va esseyer d'optimiser ces données avec un PCA, une normalisation, un gridsearch"
   ]
  },
  {
   "cell_type": "raw",
   "metadata": {},
   "source": [
    "On va en profiter pour optimiser le code"
   ]
  },
  {
   "cell_type": "code",
   "execution_count": null,
   "metadata": {},
   "outputs": [],
   "source": []
  },
  {
   "cell_type": "code",
   "execution_count": 1033,
   "metadata": {},
   "outputs": [],
   "source": [
    "def evaluate(model):\n",
    "    \n",
    "    model.fit(X_train,y_train)\n",
    "    pred = model.predict(X_test)\n",
    "    \n",
    "    print(confusion_matrix(y_test,pred))\n",
    "    print(classification_report(y_test,pred))\n",
    "    \n",
    "    N, train_score,val_score = learning_curve(model, X_train, y_train, cv = 4, train_sizes = np.linspace(0.1,1,10), scoring = 'f1')\n",
    "    \n",
    "    plt.figure(figsize=(12,8))\n",
    "    plt.plot(N, train_score.mean(axis=1),label='train_score')\n",
    "    plt.plot(N, val_score.mean(axis=1),label='val_score')\n",
    "    plt.title(f'{name}')\n",
    "    plt.legend()\n",
    "    plt.show()\n",
    "\n",
    "    print(\"\\n____________________________________________________________________________________\\n\")"
   ]
  },
  {
   "cell_type": "code",
   "execution_count": 1034,
   "metadata": {},
   "outputs": [],
   "source": [
    "Pipe = make_pipeline(PolynomialFeatures(2,include_bias=False),SelectKBest(f_classif,k=4))"
   ]
  },
  {
   "cell_type": "code",
   "execution_count": 1035,
   "metadata": {},
   "outputs": [],
   "source": [
    "random_forest_classifier = make_pipeline(Pipe, RandomForestClassifier(random_state=0))\n",
    "adaboost = make_pipeline(Pipe, AdaBoostClassifier(random_state=0))\n",
    "SVM = make_pipeline(Pipe,StandardScaler(),SVC(random_state=0))\n",
    "KNN = make_pipeline(Pipe,StandardScaler(),KNeighborsClassifier())\n",
    "regressionlogistique = make_pipeline(Pipe, LogisticRegression(solver = 'liblinear'))\n",
    "dtree = make_pipeline(Pipe, tree.DecisionTreeClassifier(criterion = 'gini', random_state = 0))\n",
    "XGboostcla = make_pipeline(Pipe,xgb.XGBClassifier())"
   ]
  },
  {
   "cell_type": "code",
   "execution_count": 1036,
   "metadata": {},
   "outputs": [],
   "source": [
    "models_pipe = { 'random_forest_classifier' : random_forest_classifier,\n",
    "               'adaboost' : adaboost,\n",
    "               'SVM' : SVM,\n",
    "               'KNN' : KNN,\n",
    "               'regressionlogistique' : regressionlogistique,\n",
    "               'dtree' : dtree,\n",
    "               'XGboostcla' : XGboostcla}"
   ]
  },
  {
   "cell_type": "code",
   "execution_count": 1037,
   "metadata": {
    "scrolled": false
   },
   "outputs": [
    {
     "name": "stdout",
     "output_type": "stream",
     "text": [
      "random_forest_classifier\n",
      "[[16 16]\n",
      " [ 7 84]]\n",
      "              precision    recall  f1-score   support\n",
      "\n",
      "           0       0.70      0.50      0.58        32\n",
      "           1       0.84      0.92      0.88        91\n",
      "\n",
      "    accuracy                           0.81       123\n",
      "   macro avg       0.77      0.71      0.73       123\n",
      "weighted avg       0.80      0.81      0.80       123\n",
      "\n"
     ]
    },
    {
     "data": {
      "image/png": "[encoded data removed]",
      "text/plain": [
       "<Figure size 864x576 with 1 Axes>"
      ]
     },
     "metadata": {
      "needs_background": "light"
     },
     "output_type": "display_data"
    },
    {
     "name": "stdout",
     "output_type": "stream",
     "text": [
      "\n",
      "____________________________________________________________________________________\n",
      "\n",
      "adaboost\n",
      "[[16 16]\n",
      " [ 7 84]]\n",
      "              precision    recall  f1-score   support\n",
      "\n",
      "           0       0.70      0.50      0.58        32\n",
      "           1       0.84      0.92      0.88        91\n",
      "\n",
      "    accuracy                           0.81       123\n",
      "   macro avg       0.77      0.71      0.73       123\n",
      "weighted avg       0.80      0.81      0.80       123\n",
      "\n"
     ]
    },
    {
     "data": {
      "image/png": "[encoded data removed]",
      "text/plain": [
       "<Figure size 864x576 with 1 Axes>"
      ]
     },
     "metadata": {
      "needs_background": "light"
     },
     "output_type": "display_data"
    },
    {
     "name": "stdout",
     "output_type": "stream",
     "text": [
      "\n",
      "____________________________________________________________________________________\n",
      "\n",
      "SVM\n",
      "[[16 16]\n",
      " [ 7 84]]\n",
      "              precision    recall  f1-score   support\n",
      "\n",
      "           0       0.70      0.50      0.58        32\n",
      "           1       0.84      0.92      0.88        91\n",
      "\n",
      "    accuracy                           0.81       123\n",
      "   macro avg       0.77      0.71      0.73       123\n",
      "weighted avg       0.80      0.81      0.80       123\n",
      "\n"
     ]
    },
    {
     "data": {
      "image/png": "[encoded data removed]",
      "text/plain": [
       "<Figure size 864x576 with 1 Axes>"
      ]
     },
     "metadata": {
      "needs_background": "light"
     },
     "output_type": "display_data"
    },
    {
     "name": "stdout",
     "output_type": "stream",
     "text": [
      "\n",
      "____________________________________________________________________________________\n",
      "\n",
      "KNN\n",
      "[[16 16]\n",
      " [ 7 84]]\n",
      "              precision    recall  f1-score   support\n",
      "\n",
      "           0       0.70      0.50      0.58        32\n",
      "           1       0.84      0.92      0.88        91\n",
      "\n",
      "    accuracy                           0.81       123\n",
      "   macro avg       0.77      0.71      0.73       123\n",
      "weighted avg       0.80      0.81      0.80       123\n",
      "\n"
     ]
    },
    {
     "data": {
      "image/png": "[encoded data removed]",
      "text/plain": [
       "<Figure size 864x576 with 1 Axes>"
      ]
     },
     "metadata": {
      "needs_background": "light"
     },
     "output_type": "display_data"
    },
    {
     "name": "stdout",
     "output_type": "stream",
     "text": [
      "\n",
      "____________________________________________________________________________________\n",
      "\n",
      "regressionlogistique\n",
      "[[16 16]\n",
      " [ 7 84]]\n",
      "              precision    recall  f1-score   support\n",
      "\n",
      "           0       0.70      0.50      0.58        32\n",
      "           1       0.84      0.92      0.88        91\n",
      "\n",
      "    accuracy                           0.81       123\n",
      "   macro avg       0.77      0.71      0.73       123\n",
      "weighted avg       0.80      0.81      0.80       123\n",
      "\n"
     ]
    },
    {
     "data": {
      "image/png": "[encoded data removed]",
      "text/plain": [
       "<Figure size 864x576 with 1 Axes>"
      ]
     },
     "metadata": {
      "needs_background": "light"
     },
     "output_type": "display_data"
    },
    {
     "name": "stdout",
     "output_type": "stream",
     "text": [
      "\n",
      "____________________________________________________________________________________\n",
      "\n",
      "dtree\n",
      "[[16 16]\n",
      " [ 7 84]]\n",
      "              precision    recall  f1-score   support\n",
      "\n",
      "           0       0.70      0.50      0.58        32\n",
      "           1       0.84      0.92      0.88        91\n",
      "\n",
      "    accuracy                           0.81       123\n",
      "   macro avg       0.77      0.71      0.73       123\n",
      "weighted avg       0.80      0.81      0.80       123\n",
      "\n"
     ]
    },
    {
     "data": {
      "image/png": "[encoded data removed]",
      "text/plain": [
       "<Figure size 864x576 with 1 Axes>"
      ]
     },
     "metadata": {
      "needs_background": "light"
     },
     "output_type": "display_data"
    },
    {
     "name": "stdout",
     "output_type": "stream",
     "text": [
      "\n",
      "____________________________________________________________________________________\n",
      "\n",
      "XGboostcla\n",
      "[[16 16]\n",
      " [ 7 84]]\n",
      "              precision    recall  f1-score   support\n",
      "\n",
      "           0       0.70      0.50      0.58        32\n",
      "           1       0.84      0.92      0.88        91\n",
      "\n",
      "    accuracy                           0.81       123\n",
      "   macro avg       0.77      0.71      0.73       123\n",
      "weighted avg       0.80      0.81      0.80       123\n",
      "\n"
     ]
    },
    {
     "data": {
      "image/png": "[encoded data removed]",
      "text/plain": [
       "<Figure size 864x576 with 1 Axes>"
      ]
     },
     "metadata": {
      "needs_background": "light"
     },
     "output_type": "display_data"
    },
    {
     "name": "stdout",
     "output_type": "stream",
     "text": [
      "\n",
      "____________________________________________________________________________________\n",
      "\n"
     ]
    }
   ],
   "source": [
    "for name,model in models_pipe.items() : \n",
    "    print(name)\n",
    "    evaluate(model)\n"
   ]
  },
  {
   "cell_type": "raw",
   "metadata": {},
   "source": [
    "On va esseyer d'améliorer le SVM"
   ]
  },
  {
   "cell_type": "code",
   "execution_count": 1038,
   "metadata": {},
   "outputs": [
    {
     "data": {
      "text/plain": [
       "{'memory': None,\n",
       " 'steps': [('pipeline',\n",
       "   Pipeline(steps=[('polynomialfeatures', PolynomialFeatures(include_bias=False)),\n",
       "                   ('selectkbest', SelectKBest(k=4))])),\n",
       "  ('standardscaler', StandardScaler()),\n",
       "  ('svc', SVC(random_state=0))],\n",
       " 'verbose': False,\n",
       " 'pipeline': Pipeline(steps=[('polynomialfeatures', PolynomialFeatures(include_bias=False)),\n",
       "                 ('selectkbest', SelectKBest(k=4))]),\n",
       " 'standardscaler': StandardScaler(),\n",
       " 'svc': SVC(random_state=0),\n",
       " 'pipeline__memory': None,\n",
       " 'pipeline__steps': [('polynomialfeatures',\n",
       "   PolynomialFeatures(include_bias=False)),\n",
       "  ('selectkbest', SelectKBest(k=4))],\n",
       " 'pipeline__verbose': False,\n",
       " 'pipeline__polynomialfeatures': PolynomialFeatures(include_bias=False),\n",
       " 'pipeline__selectkbest': SelectKBest(k=4),\n",
       " 'pipeline__polynomialfeatures__degree': 2,\n",
       " 'pipeline__polynomialfeatures__include_bias': False,\n",
       " 'pipeline__polynomialfeatures__interaction_only': False,\n",
       " 'pipeline__polynomialfeatures__order': 'C',\n",
       " 'pipeline__selectkbest__k': 4,\n",
       " 'pipeline__selectkbest__score_func': <function sklearn.feature_selection._univariate_selection.f_classif(X, y)>,\n",
       " 'standardscaler__copy': True,\n",
       " 'standardscaler__with_mean': True,\n",
       " 'standardscaler__with_std': True,\n",
       " 'svc__C': 1.0,\n",
       " 'svc__break_ties': False,\n",
       " 'svc__cache_size': 200,\n",
       " 'svc__class_weight': None,\n",
       " 'svc__coef0': 0.0,\n",
       " 'svc__decision_function_shape': 'ovr',\n",
       " 'svc__degree': 3,\n",
       " 'svc__gamma': 'scale',\n",
       " 'svc__kernel': 'rbf',\n",
       " 'svc__max_iter': -1,\n",
       " 'svc__probability': False,\n",
       " 'svc__random_state': 0,\n",
       " 'svc__shrinking': True,\n",
       " 'svc__tol': 0.001,\n",
       " 'svc__verbose': False}"
      ]
     },
     "execution_count": 1038,
     "metadata": {},
     "output_type": "execute_result"
    }
   ],
   "source": [
    "SVM.get_params()"
   ]
  },
  {
   "cell_type": "code",
   "execution_count": null,
   "metadata": {},
   "outputs": [],
   "source": []
  },
  {
   "cell_type": "code",
   "execution_count": 1039,
   "metadata": {},
   "outputs": [],
   "source": [
    "params = {'svc__gamma':[1e-3, 1e-4],\n",
    "          'svc__C':[1.0,10.0,100.0,1000.0],\n",
    "          'pipeline__polynomialfeatures__degree':[2,3,4],\n",
    "          'pipeline__selectkbest__k':range(2,17)}"
   ]
  },
  {
   "cell_type": "raw",
   "metadata": {},
   "source": [
    "On enleve la recherche de différent kernel, l'ordinateur tourne trop longtemps"
   ]
  },
  {
   "cell_type": "code",
   "execution_count": 1040,
   "metadata": {},
   "outputs": [],
   "source": [
    " #        'svc__kernel':['linear', 'poly', 'rbf', 'sigmoid', 'precomputed'],"
   ]
  },
  {
   "cell_type": "raw",
   "metadata": {},
   "source": [
    "Le machine tourne beaucoup avec gridsearch, du coup on va faire un randomizedsearch"
   ]
  },
  {
   "cell_type": "code",
   "execution_count": 1041,
   "metadata": {},
   "outputs": [
    {
     "data": {
      "text/plain": [
       "dict_keys(['explained_variance', 'r2', 'max_error', 'neg_median_absolute_error', 'neg_mean_absolute_error', 'neg_mean_squared_error', 'neg_mean_squared_log_error', 'neg_root_mean_squared_error', 'neg_mean_poisson_deviance', 'neg_mean_gamma_deviance', 'accuracy', 'roc_auc', 'roc_auc_ovr', 'roc_auc_ovo', 'roc_auc_ovr_weighted', 'roc_auc_ovo_weighted', 'balanced_accuracy', 'average_precision', 'neg_log_loss', 'neg_brier_score', 'adjusted_rand_score', 'homogeneity_score', 'completeness_score', 'v_measure_score', 'mutual_info_score', 'adjusted_mutual_info_score', 'normalized_mutual_info_score', 'fowlkes_mallows_score', 'precision', 'precision_macro', 'precision_micro', 'precision_samples', 'precision_weighted', 'recall', 'recall_macro', 'recall_micro', 'recall_samples', 'recall_weighted', 'f1', 'f1_macro', 'f1_micro', 'f1_samples', 'f1_weighted', 'jaccard', 'jaccard_macro', 'jaccard_micro', 'jaccard_samples', 'jaccard_weighted'])"
      ]
     },
     "execution_count": 1041,
     "metadata": {},
     "output_type": "execute_result"
    }
   ],
   "source": [
    "metrics.SCORERS.keys()"
   ]
  },
  {
   "cell_type": "code",
   "execution_count": 1042,
   "metadata": {},
   "outputs": [
    {
     "name": "stdout",
     "output_type": "stream",
     "text": [
      "{'svc__gamma': 0.001, 'svc__C': 100.0, 'pipeline__selectkbest__k': 15, 'pipeline__polynomialfeatures__degree': 2}\n",
      "              precision    recall  f1-score   support\n",
      "\n",
      "           0       0.73      0.50      0.59        32\n",
      "           1       0.84      0.93      0.89        91\n",
      "\n",
      "    accuracy                           0.82       123\n",
      "   macro avg       0.78      0.72      0.74       123\n",
      "weighted avg       0.81      0.82      0.81       123\n",
      "\n"
     ]
    }
   ],
   "source": [
    "#grid = GridSearchCV(SVM, params,scoring='accuracy',cv=4)\n",
    "grid = RandomizedSearchCV(SVM, params,scoring='accuracy',cv=4,n_iter=100)\n",
    "grid.fit(X_train,y_train)\n",
    "print(grid.best_params_)\n",
    "\n",
    "svm_pred = grid.predict(X_test)\n",
    "\n",
    "print(classification_report(y_test,svm_pred))"
   ]
  },
  {
   "cell_type": "code",
   "execution_count": 1043,
   "metadata": {},
   "outputs": [],
   "source": [
    "precision,recall,threshold = precision_recall_curve(y_test,grid.best_estimator_.decision_function(X_test))"
   ]
  },
  {
   "cell_type": "code",
   "execution_count": 1044,
   "metadata": {},
   "outputs": [
    {
     "data": {
      "text/plain": [
       "<matplotlib.legend.Legend at 0x2ccbc3e2888>"
      ]
     },
     "execution_count": 1044,
     "metadata": {},
     "output_type": "execute_result"
    },
    {
     "data": {
      "image/png": "[encoded data removed]",
      "text/plain": [
       "<Figure size 432x288 with 1 Axes>"
      ]
     },
     "metadata": {
      "needs_background": "light"
     },
     "output_type": "display_data"
    }
   ],
   "source": [
    "plt.plot(threshold,precision[:-1], label=\"precision\")\n",
    "plt.plot(threshold,recall[:-1], label=\"recall\")\n",
    "plt.legend()"
   ]
  },
  {
   "cell_type": "code",
   "execution_count": 1045,
   "metadata": {},
   "outputs": [],
   "source": [
    "def final(model,X,treshold=0):\n",
    "    return model.decision_function(X) > treshold"
   ]
  },
  {
   "cell_type": "code",
   "execution_count": 1046,
   "metadata": {},
   "outputs": [],
   "source": [
    "f_pred = final(grid.best_estimator_,X_test,treshold=0.99)"
   ]
  },
  {
   "cell_type": "code",
   "execution_count": 1047,
   "metadata": {},
   "outputs": [
    {
     "data": {
      "text/plain": [
       "0.8854166666666666"
      ]
     },
     "execution_count": 1047,
     "metadata": {},
     "output_type": "execute_result"
    }
   ],
   "source": [
    "f1_score(y_test,f_pred)"
   ]
  },
  {
   "cell_type": "code",
   "execution_count": 1048,
   "metadata": {},
   "outputs": [
    {
     "data": {
      "text/plain": [
       "0.9340659340659341"
      ]
     },
     "execution_count": 1048,
     "metadata": {},
     "output_type": "execute_result"
    }
   ],
   "source": [
    "recall_score(y_test,f_pred)"
   ]
  },
  {
   "cell_type": "code",
   "execution_count": 1049,
   "metadata": {},
   "outputs": [
    {
     "name": "stdout",
     "output_type": "stream",
     "text": [
      "              precision    recall  f1-score   support\n",
      "\n",
      "           0       0.73      0.50      0.59        32\n",
      "           1       0.84      0.93      0.89        91\n",
      "\n",
      "    accuracy                           0.82       123\n",
      "   macro avg       0.78      0.72      0.74       123\n",
      "weighted avg       0.81      0.82      0.81       123\n",
      "\n"
     ]
    }
   ],
   "source": [
    "print(classification_report(y_test,f_pred))"
   ]
  },
  {
   "cell_type": "raw",
   "metadata": {},
   "source": [
    "On sacrifie un peu de precision des non solvables et de F1 score des solvables pour monter le recall des non solvables"
   ]
  },
  {
   "cell_type": "code",
   "execution_count": 1050,
   "metadata": {},
   "outputs": [
    {
     "data": {
      "text/plain": [
       "{'memory': None,\n",
       " 'steps': [('pipeline',\n",
       "   Pipeline(steps=[('polynomialfeatures', PolynomialFeatures(include_bias=False)),\n",
       "                   ('selectkbest', SelectKBest(k=4))])),\n",
       "  ('xgbclassifier',\n",
       "   XGBClassifier(base_score=0.5, booster='gbtree', colsample_bylevel=1,\n",
       "                 colsample_bynode=1, colsample_bytree=1, gamma=0, gpu_id=-1,\n",
       "                 importance_type='gain', interaction_constraints='',\n",
       "                 learning_rate=0.300000012, max_delta_step=0, max_depth=6,\n",
       "                 min_child_weight=1, missing=nan, monotone_constraints='()',\n",
       "                 n_estimators=100, n_jobs=0, num_parallel_tree=1, random_state=0,\n",
       "                 reg_alpha=0, reg_lambda=1, scale_pos_weight=1, subsample=1,\n",
       "                 tree_method='exact', validate_parameters=1, verbosity=None))],\n",
       " 'verbose': False,\n",
       " 'pipeline': Pipeline(steps=[('polynomialfeatures', PolynomialFeatures(include_bias=False)),\n",
       "                 ('selectkbest', SelectKBest(k=4))]),\n",
       " 'xgbclassifier': XGBClassifier(base_score=0.5, booster='gbtree', colsample_bylevel=1,\n",
       "               colsample_bynode=1, colsample_bytree=1, gamma=0, gpu_id=-1,\n",
       "               importance_type='gain', interaction_constraints='',\n",
       "               learning_rate=0.300000012, max_delta_step=0, max_depth=6,\n",
       "               min_child_weight=1, missing=nan, monotone_constraints='()',\n",
       "               n_estimators=100, n_jobs=0, num_parallel_tree=1, random_state=0,\n",
       "               reg_alpha=0, reg_lambda=1, scale_pos_weight=1, subsample=1,\n",
       "               tree_method='exact', validate_parameters=1, verbosity=None),\n",
       " 'pipeline__memory': None,\n",
       " 'pipeline__steps': [('polynomialfeatures',\n",
       "   PolynomialFeatures(include_bias=False)),\n",
       "  ('selectkbest', SelectKBest(k=4))],\n",
       " 'pipeline__verbose': False,\n",
       " 'pipeline__polynomialfeatures': PolynomialFeatures(include_bias=False),\n",
       " 'pipeline__selectkbest': SelectKBest(k=4),\n",
       " 'pipeline__polynomialfeatures__degree': 2,\n",
       " 'pipeline__polynomialfeatures__include_bias': False,\n",
       " 'pipeline__polynomialfeatures__interaction_only': False,\n",
       " 'pipeline__polynomialfeatures__order': 'C',\n",
       " 'pipeline__selectkbest__k': 4,\n",
       " 'pipeline__selectkbest__score_func': <function sklearn.feature_selection._univariate_selection.f_classif(X, y)>,\n",
       " 'xgbclassifier__objective': 'binary:logistic',\n",
       " 'xgbclassifier__base_score': 0.5,\n",
       " 'xgbclassifier__booster': 'gbtree',\n",
       " 'xgbclassifier__colsample_bylevel': 1,\n",
       " 'xgbclassifier__colsample_bynode': 1,\n",
       " 'xgbclassifier__colsample_bytree': 1,\n",
       " 'xgbclassifier__gamma': 0,\n",
       " 'xgbclassifier__gpu_id': -1,\n",
       " 'xgbclassifier__importance_type': 'gain',\n",
       " 'xgbclassifier__interaction_constraints': '',\n",
       " 'xgbclassifier__learning_rate': 0.300000012,\n",
       " 'xgbclassifier__max_delta_step': 0,\n",
       " 'xgbclassifier__max_depth': 6,\n",
       " 'xgbclassifier__min_child_weight': 1,\n",
       " 'xgbclassifier__missing': nan,\n",
       " 'xgbclassifier__monotone_constraints': '()',\n",
       " 'xgbclassifier__n_estimators': 100,\n",
       " 'xgbclassifier__n_jobs': 0,\n",
       " 'xgbclassifier__num_parallel_tree': 1,\n",
       " 'xgbclassifier__random_state': 0,\n",
       " 'xgbclassifier__reg_alpha': 0,\n",
       " 'xgbclassifier__reg_lambda': 1,\n",
       " 'xgbclassifier__scale_pos_weight': 1,\n",
       " 'xgbclassifier__subsample': 1,\n",
       " 'xgbclassifier__tree_method': 'exact',\n",
       " 'xgbclassifier__validate_parameters': 1,\n",
       " 'xgbclassifier__verbosity': None}"
      ]
     },
     "execution_count": 1050,
     "metadata": {},
     "output_type": "execute_result"
    }
   ],
   "source": [
    "XGboostcla.get_params()"
   ]
  },
  {
   "cell_type": "code",
   "execution_count": 1051,
   "metadata": {},
   "outputs": [],
   "source": [
    "paramsXGB = {\n",
    "          'xgbclassifier__gamma' : [0],\n",
    "          'pipeline__polynomialfeatures__degree':[2,3,4],\n",
    "          'pipeline__selectkbest__k':range(2,17)}"
   ]
  },
  {
   "cell_type": "code",
   "execution_count": 1052,
   "metadata": {},
   "outputs": [
    {
     "name": "stdout",
     "output_type": "stream",
     "text": [
      "{'xgbclassifier__gamma': 0, 'pipeline__selectkbest__k': 2, 'pipeline__polynomialfeatures__degree': 2}\n",
      "              precision    recall  f1-score   support\n",
      "\n",
      "           0       0.70      0.50      0.58        32\n",
      "           1       0.84      0.92      0.88        91\n",
      "\n",
      "    accuracy                           0.81       123\n",
      "   macro avg       0.77      0.71      0.73       123\n",
      "weighted avg       0.80      0.81      0.80       123\n",
      "\n"
     ]
    }
   ],
   "source": [
    "#grid = GridSearchCV(SVM, params,scoring='accuracy',cv=4)\n",
    "grid = RandomizedSearchCV(XGboostcla, paramsXGB,scoring='accuracy',cv=4,n_iter=100)\n",
    "grid.fit(X_train,y_train)\n",
    "print(grid.best_params_)\n",
    "\n",
    "xg_pred = grid.predict(X_test)\n",
    "\n",
    "print(classification_report(y_test,xg_pred))"
   ]
  },
  {
   "cell_type": "code",
   "execution_count": null,
   "metadata": {},
   "outputs": [],
   "source": []
  },
  {
   "cell_type": "code",
   "execution_count": null,
   "metadata": {},
   "outputs": [],
   "source": []
  }
 ],
 "metadata": {
  "kernelspec": {
   "display_name": "Python 3",
   "language": "python",
   "name": "python3"
  },
  "language_info": {
   "codemirror_mode": {
    "name": "ipython",
    "version": 3
   },
   "file_extension": ".py",
   "mimetype": "text/x-python",
   "name": "python",
   "nbconvert_exporter": "python",
   "pygments_lexer": "ipython3",
   "version": "3.7.6"
  }
 },
 "nbformat": 4,
 "nbformat_minor": 4
}
